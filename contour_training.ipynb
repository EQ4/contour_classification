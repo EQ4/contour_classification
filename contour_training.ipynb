{
 "metadata": {
  "name": ""
 },
 "nbformat": 3,
 "nbformat_minor": 0,
 "worksheets": [
  {
   "cells": [
    {
     "cell_type": "code",
     "collapsed": false,
     "input": [
      "import contour_classification.contour_utils as cc\n",
      "import contour_classification.experiment_utils as eu\n",
      "from sklearn.ensemble import RandomForestClassifier as RFC\n",
      "from sklearn.cross_validation import KFold\n",
      "from sklearn import cross_validation\n",
      "from sklearn import metrics\n",
      "import sklearn\n",
      "import pandas as pd\n",
      "import numpy as np\n",
      "import random\n",
      "import glob\n",
      "import os\n",
      "import matplotlib.pyplot as plt\n",
      "%matplotlib inline\n",
      "from scipy.stats import boxcox"
     ],
     "language": "python",
     "metadata": {},
     "outputs": []
    },
    {
     "cell_type": "heading",
     "level": 3,
     "metadata": {},
     "source": [
      "Create train/test split"
     ]
    },
    {
     "cell_type": "markdown",
     "metadata": {},
     "source": [
      "Splits are chosen such that each split contains unique artists."
     ]
    },
    {
     "cell_type": "code",
     "collapsed": false,
     "input": [
      "mdb_files, splitter = eu.create_splits()\n",
      "\n",
      "for train, test in splitter:\n",
      "    train_tracks = mdb_files[train]\n",
      "    test_tracks = mdb_files[test]\n",
      "    break\n",
      "print test_tracks"
     ],
     "language": "python",
     "metadata": {},
     "outputs": []
    },
    {
     "cell_type": "heading",
     "level": 3,
     "metadata": {},
     "source": [
      "Split out features and compute labels"
     ]
    },
    {
     "cell_type": "code",
     "collapsed": false,
     "input": [
      "MELTYPE = 1\n",
      "\n",
      "train_feat_list = []\n",
      "\n",
      "print \"-\"*40\n",
      "print \"Generating training features\"\n",
      "print \"-\"*40\n",
      "for track in train_tracks:\n",
      "    print track\n",
      "    cdat, adat = eu.get_data_files(track, meltype=MELTYPE)\n",
      "    train_feat_list.append(cc.contour_overlap(cdat, adat))\n",
      "    \n",
      "test_feat_list = []\n",
      "\n",
      "print \"-\"*40\n",
      "print \"Generating testing features\"\n",
      "print \"-\"*40\n",
      "for track in test_tracks:\n",
      "    print track\n",
      "    cdat, adat = eu.get_data_files(track, meltype=MELTYPE)\n",
      "    test_feat_list.append(cc.contour_overlap(cdat, adat))\n"
     ],
     "language": "python",
     "metadata": {},
     "outputs": []
    },
    {
     "cell_type": "code",
     "collapsed": false,
     "input": [
      "OLAP_THRESH = 0.5\n",
      "\n",
      "for i, train_feat in enumerate(train_feat_list):\n",
      "    train_feat_list[i] = label_contours(train_feat, olap_thresh=OLAP_THRESH)\n",
      "    \n",
      "for i, test_feat in enumerate(test_feat_list):\n",
      "    test_feat_list[i] = label_contours(test_feat, olap_thresh=OLAP_THRESH)"
     ],
     "language": "python",
     "metadata": {},
     "outputs": []
    },
    {
     "cell_type": "code",
     "collapsed": false,
     "input": [
      "train_features = cc.join_features(train_feat_list)\n",
      "test_features = cc.join_features(test_feat_list)"
     ],
     "language": "python",
     "metadata": {},
     "outputs": []
    },
    {
     "cell_type": "code",
     "collapsed": false,
     "input": [
      "X_train, Y_train = cc.pd_to_sklearn(train_features)\n",
      "X_test, Y_test = cc.pd_to_sklearn(test_features)"
     ],
     "language": "python",
     "metadata": {},
     "outputs": []
    },
    {
     "cell_type": "heading",
     "level": 3,
     "metadata": {},
     "source": [
      "Score with Multivariate Gaussian"
     ]
    },
    {
     "cell_type": "markdown",
     "metadata": {},
     "source": [
      "Transform data using boxcox transform. Estimate optimal lambda."
     ]
    },
    {
     "cell_type": "code",
     "collapsed": false,
     "input": [
      "_, n_feats = X_train.shape\n",
      "print X_train.shape\n",
      "X_train_boxcox = np.zeros(X_train.shape)\n",
      "lmbda_opt = np.zeros((n_feats,))\n",
      "eps = 1.0 #np.finfo(float).eps\n",
      "for i in range(n_feats):\n",
      "    X_train_boxcox[:, i], lmbda_opt[i] = boxcox(X_train[:, i] + eps)"
     ],
     "language": "python",
     "metadata": {},
     "outputs": []
    },
    {
     "cell_type": "markdown",
     "metadata": {},
     "source": [
      "Transform test data using optimal lambda"
     ]
    },
    {
     "cell_type": "code",
     "collapsed": false,
     "input": [
      "X_test_boxcox = np.zeros(X_test.shape)\n",
      "for i in range(n_feats):\n",
      "    X_test_boxcox[:, i] = boxcox(X_test[:, i] + eps, lmbda=lmbda_opt[i])"
     ],
     "language": "python",
     "metadata": {},
     "outputs": []
    },
    {
     "cell_type": "code",
     "collapsed": false,
     "input": [
      "pos_idx = np.where(Y_train == 1)[0]\n",
      "mu_pos = np.mean(X_train_boxcox[pos_idx, :], axis=0)\n",
      "cov_pos = np.cov(X_train_boxcox[pos_idx, :], rowvar=0)\n",
      "\n",
      "neg_idx = np.where(Y_train == 0)[0]\n",
      "mu_neg = np.mean(X_train_boxcox[neg_idx, :], axis=0)\n",
      "cov_neg = np.cov(X_train_boxcox[neg_idx, :], rowvar=0)"
     ],
     "language": "python",
     "metadata": {},
     "outputs": []
    },
    {
     "cell_type": "code",
     "collapsed": false,
     "input": [
      "from scipy.stats import multivariate_normal\n",
      "\n",
      "rv_pos = multivariate_normal(mean=mu_pos, cov=cov_pos, allow_singular=True)\n",
      "rv_neg = multivariate_normal(mean=mu_neg, cov=cov_neg, allow_singular=True)\n",
      "\n",
      "def melodiness(x, rv_pos, rv_neg):\n",
      "    return rv_pos.pdf(x)/rv_neg.pdf(x)"
     ],
     "language": "python",
     "metadata": {},
     "outputs": []
    },
    {
     "cell_type": "code",
     "collapsed": false,
     "input": [
      "est_melodiness_train = np.zeros(Y_train.shape)\n",
      "for i, x in enumerate(X_train_boxcox):\n",
      "    est_melodiness_train[i] = melodiness(x, rv_pos, rv_neg)\n",
      "\n",
      "train_features['melodiness'] = 1*(est_melodiness_train > 1)\n",
      "\n",
      "est_melodiness_test = np.zeros(Y_test.shape)\n",
      "for i, x in enumerate(X_test_boxcox):\n",
      "    est_melodiness_test[i] = melodiness(x, rv_pos, rv_neg)\n",
      "\n",
      "test_features['melodiness'] = 1*(est_melodiness_test > 1)\n",
      "print test_features['melodiness']"
     ],
     "language": "python",
     "metadata": {},
     "outputs": []
    },
    {
     "cell_type": "code",
     "collapsed": false,
     "input": [
      "print Y_train[0:10]\n",
      "print train_features['melodiness'][0:10]"
     ],
     "language": "python",
     "metadata": {},
     "outputs": []
    },
    {
     "cell_type": "code",
     "collapsed": false,
     "input": [
      "print metrics.accuracy_score(Y_train, train_features['melodiness'].values)\n",
      "print metrics.accuracy_score(Y_test, test_features['melodiness'].values)"
     ],
     "language": "python",
     "metadata": {},
     "outputs": []
    },
    {
     "cell_type": "heading",
     "level": 3,
     "metadata": {},
     "source": [
      "Train Classifier"
     ]
    },
    {
     "cell_type": "code",
     "collapsed": false,
     "input": [
      "scores = []\n",
      "for max_depth in np.arange(5, 100, 5):\n",
      "    print \"training with max_depth=%s\" % max_depth\n",
      "    clf = RFC(n_estimators=100, max_depth=max_depth, n_jobs=8)\n",
      "    all_scores = cross_validation.cross_val_score(clf, X_train, Y_train, cv=5)\n",
      "    scores.append([max_depth, np.mean(all_scores), np.std(all_scores)])"
     ],
     "language": "python",
     "metadata": {},
     "outputs": []
    },
    {
     "cell_type": "code",
     "collapsed": false,
     "input": [
      "x = [score[0] for score in scores]\n",
      "y = [score[1] for score in scores]\n",
      "e = [score[2] for score in scores]\n",
      "plt.errorbar(x, y, e, linestyle='-', marker='o')\n",
      "plt.title('Mean cross validation accuracy')\n",
      "plt.xlabel('max depth')\n",
      "plt.ylabel('mean accuracy')\n",
      "plt.show()\n",
      "print np.max(y)\n",
      "print x[np.argmax(y)]"
     ],
     "language": "python",
     "metadata": {},
     "outputs": []
    },
    {
     "cell_type": "code",
     "collapsed": false,
     "input": [
      "clf = RFC(n_estimators=100, max_depth=10, n_jobs=8)\n",
      "clf = clf.fit(X_train, Y_train)"
     ],
     "language": "python",
     "metadata": {},
     "outputs": []
    },
    {
     "cell_type": "code",
     "collapsed": false,
     "input": [
      "print \"Train accuracy: %s\" % clf.score(X_train, Y_train)\n",
      "print \"Test accuracy: %s\" % clf.score(X_test, Y_test)"
     ],
     "language": "python",
     "metadata": {},
     "outputs": []
    },
    {
     "cell_type": "code",
     "collapsed": false,
     "input": [
      "print \"Generating testing features\"\n",
      "test_contour_dat = {}\n",
      "test_feature_dat = {}\n",
      "test_annot_dat = {}\n",
      "for track in test_tracks:\n",
      "    print track\n",
      "    contour_fname = \"%s_%s\" % (track, contour_suffix)\n",
      "    contour_fpath = os.path.join(contours_path, contour_fname)\n",
      "    annot_fname = \"%s_%s\" % (track, annot_suffix)\n",
      "    annot_fpath = os.path.join(annots_path, annot_fname)\n",
      "    \n",
      "    cdat = cc.load_contour_data(contour_fpath)\n",
      "    adat = cc.load_annotation(annot_fpath)\n",
      "    \n",
      "    test_feature_dat[track] = cc.label_contours(cdat, adat, OLAP_THRESH)\n",
      "    test_contour_dat[track] = cdat.copy()\n",
      "    test_annot_dat[track] = adat.copy()"
     ],
     "language": "python",
     "metadata": {},
     "outputs": []
    },
    {
     "cell_type": "code",
     "collapsed": false,
     "input": [
      "def contour_probs(clf, feat_data, contour_data):\n",
      "    contour_data['mel_prob'] = -1\n",
      "    X, Y = pd_to_sklearn(feat_data)\n",
      "    probs = clf.predict_proba(X)\n",
      "    mel_probs = [p[1] for p in probs]\n",
      "    contour_data['mel_prob'] = mel_probs\n",
      "    return contour_data"
     ],
     "language": "python",
     "metadata": {},
     "outputs": []
    },
    {
     "cell_type": "code",
     "collapsed": false,
     "input": [
      "track = 'Phoenix_ScotchMorris'\n",
      "mel_prob_test = contour_probs(clf, test_feature_dat[track], \\\n",
      "                              test_contour_dat[track])"
     ],
     "language": "python",
     "metadata": {},
     "outputs": []
    },
    {
     "cell_type": "code",
     "collapsed": false,
     "input": [
      "contour_test = mel_prob_test[mel_prob_test['mel_prob'] >= 0.1]"
     ],
     "language": "python",
     "metadata": {},
     "outputs": []
    },
    {
     "cell_type": "code",
     "collapsed": false,
     "input": [
      "cc.make_coverage_plot(contour_test.iloc[:, :-1], test_annot_dat[track])"
     ],
     "language": "python",
     "metadata": {},
     "outputs": []
    },
    {
     "cell_type": "code",
     "collapsed": false,
     "input": [],
     "language": "python",
     "metadata": {},
     "outputs": []
    }
   ],
   "metadata": {}
  }
 ]
}