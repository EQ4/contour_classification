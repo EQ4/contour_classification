{
 "metadata": {
  "name": ""
 },
 "nbformat": 3,
 "nbformat_minor": 0,
 "worksheets": [
  {
   "cells": [
    {
     "cell_type": "code",
     "collapsed": false,
     "input": [
      "import contour_classification.contour_utils as cc\n",
      "import contour_classification.experiment_utils as eu\n",
      "from sklearn.ensemble import RandomForestClassifier as RFC\n",
      "from sklearn.cross_validation import KFold\n",
      "from sklearn import cross_validation\n",
      "from sklearn import metrics\n",
      "import sklearn\n",
      "import pandas as pd\n",
      "import numpy as np\n",
      "import random\n",
      "import glob\n",
      "import os\n",
      "import matplotlib.pyplot as plt\n",
      "%matplotlib inline\n",
      "from scipy.stats import boxcox"
     ],
     "language": "python",
     "metadata": {},
     "outputs": [],
     "prompt_number": 1
    },
    {
     "cell_type": "heading",
     "level": 3,
     "metadata": {},
     "source": [
      "Create train/test split"
     ]
    },
    {
     "cell_type": "markdown",
     "metadata": {},
     "source": [
      "Splits are chosen such that each split contains unique artists."
     ]
    },
    {
     "cell_type": "code",
     "collapsed": false,
     "input": [
      "mdb_files, splitter = eu.create_splits()\n",
      "\n",
      "for train, test in splitter:\n",
      "    train_tracks = mdb_files[train]\n",
      "    test_tracks = mdb_files[test]\n",
      "    break\n",
      "print test_tracks"
     ],
     "language": "python",
     "metadata": {},
     "outputs": [
      {
       "output_type": "stream",
       "stream": "stdout",
       "text": [
        "[u'AmarLal_Rest' u'AmarLal_SpringDay1' u'BigTroubles_Phantom'\n",
        " u'Debussy_LenfantProdigue' u'Handel_TornamiAVagheggiar'\n",
        " u'HopAlong_SisterCities' u'InvisibleFamiliars_DisturbingWildlife'\n",
        " u'LizNelson_Coldwar' u'LizNelson_Rainfall' u'Mozart_BesterJungling'\n",
        " u'Mozart_DiesBildnis' u'MusicDelta_FusionJazz' u'MusicDelta_LatinJazz'\n",
        " u'MusicDelta_ModalJazz' u'MusicDelta_Rock' u'MusicDelta_Shadows'\n",
        " u'MusicDelta_SwingJazz' u'Schubert_Erstarrung' u'Schumann_Mignon'\n",
        " u'StevenClark_Bounty' u'SweetLights_YouLetMeDown' u'TheDistricts_Vermont'\n",
        " u'Wolf_DieBekherte']\n"
       ]
      },
      {
       "output_type": "stream",
       "stream": "stderr",
       "text": [
        "/usr/local/lib/python2.7/site-packages/sklearn/cross_validation.py:758: DeprecationWarning: The indices parameter is deprecated and will be removed (assumed True) in 0.17\n",
        "  \"removed (assumed True) in 0.17\", DeprecationWarning)\n"
       ]
      }
     ],
     "prompt_number": 2
    },
    {
     "cell_type": "heading",
     "level": 3,
     "metadata": {},
     "source": [
      "Split out features and compute labels"
     ]
    },
    {
     "cell_type": "code",
     "collapsed": false,
     "input": [
      "MELTYPE = 1\n",
      "\n",
      "train_feat_list = []\n",
      "\n",
      "print \"-\"*40\n",
      "print \"Generating training features\"\n",
      "print \"-\"*40\n",
      "for track in train_tracks:\n",
      "    print track\n",
      "    cdat, adat = eu.get_data_files(track, meltype=MELTYPE)\n",
      "    train_feat_list.append(cc.contour_overlap(cdat, adat))\n",
      "    \n",
      "test_feat_list = []\n",
      "\n",
      "print \"-\"*40\n",
      "print \"Generating testing features\"\n",
      "print \"-\"*40\n",
      "for track in test_tracks:\n",
      "    print track\n",
      "    cdat, adat = eu.get_data_files(track, meltype=MELTYPE)\n",
      "    test_feat_list.append(cc.contour_overlap(cdat, adat))\n"
     ],
     "language": "python",
     "metadata": {},
     "outputs": [
      {
       "output_type": "stream",
       "stream": "stdout",
       "text": [
        "----------------------------------------\n",
        "Generating training features\n",
        "----------------------------------------\n",
        "AClassicEducation_NightOwl\n",
        "AimeeNorwich_Child"
       ]
      },
      {
       "output_type": "stream",
       "stream": "stdout",
       "text": [
        "\n",
        "AimeeNorwich_Flying"
       ]
      },
      {
       "output_type": "stream",
       "stream": "stdout",
       "text": [
        "\n",
        "AlexanderRoss_GoodbyeBolero"
       ]
      },
      {
       "output_type": "stream",
       "stream": "stdout",
       "text": [
        "\n",
        "AlexanderRoss_VelvetCurtain"
       ]
      },
      {
       "output_type": "stream",
       "stream": "stdout",
       "text": [
        "\n",
        "Auctioneer_OurFutureFaces"
       ]
      },
      {
       "output_type": "stream",
       "stream": "stdout",
       "text": [
        "\n",
        "AvaLuna_Waterduct"
       ]
      },
      {
       "output_type": "stream",
       "stream": "stdout",
       "text": [
        "\n",
        "BrandonWebster_DontHearAThing"
       ]
      },
      {
       "output_type": "stream",
       "stream": "stdout",
       "text": [
        "\n",
        "BrandonWebster_YesSirICanFly"
       ]
      },
      {
       "output_type": "stream",
       "stream": "stdout",
       "text": [
        "\n",
        "CelestialShore_DieForUs"
       ]
      },
      {
       "output_type": "stream",
       "stream": "stdout",
       "text": [
        "\n",
        "ChrisJacoby_BoothShotLincoln"
       ]
      },
      {
       "output_type": "stream",
       "stream": "stdout",
       "text": [
        "\n",
        "ChrisJacoby_PigsFoot"
       ]
      },
      {
       "output_type": "stream",
       "stream": "stdout",
       "text": [
        "\n",
        "ClaraBerryAndWooldog_AirTraffic"
       ]
      },
      {
       "output_type": "stream",
       "stream": "stdout",
       "text": [
        "\n",
        "ClaraBerryAndWooldog_Boys"
       ]
      },
      {
       "output_type": "stream",
       "stream": "stdout",
       "text": [
        "\n",
        "ClaraBerryAndWooldog_Stella"
       ]
      },
      {
       "output_type": "stream",
       "stream": "stdout",
       "text": [
        "\n",
        "ClaraBerryAndWooldog_TheBadGuys"
       ]
      },
      {
       "output_type": "stream",
       "stream": "stdout",
       "text": [
        "\n",
        "ClaraBerryAndWooldog_WaltzForMyVictims"
       ]
      },
      {
       "output_type": "stream",
       "stream": "stdout",
       "text": [
        "\n",
        "Creepoid_OldTree"
       ]
      },
      {
       "output_type": "stream",
       "stream": "stdout",
       "text": [
        "\n",
        "CroqueMadame_Oil"
       ]
      },
      {
       "output_type": "stream",
       "stream": "stdout",
       "text": [
        "\n",
        "CroqueMadame_Pilot"
       ]
      },
      {
       "output_type": "stream",
       "stream": "stdout",
       "text": [
        "\n",
        "DreamersOfTheGhetto_HeavyLove"
       ]
      },
      {
       "output_type": "stream",
       "stream": "stdout",
       "text": [
        "\n",
        "EthanHein_1930sSynthAndUprightBass"
       ]
      },
      {
       "output_type": "stream",
       "stream": "stdout",
       "text": [
        "\n",
        "EthanHein_GirlOnABridge"
       ]
      },
      {
       "output_type": "stream",
       "stream": "stdout",
       "text": [
        "\n",
        "FacesOnFilm_WaitingForGa"
       ]
      },
      {
       "output_type": "stream",
       "stream": "stdout",
       "text": [
        "\n",
        "FamilyBand_Again"
       ]
      },
      {
       "output_type": "stream",
       "stream": "stdout",
       "text": [
        "\n",
        "HeladoNegro_MitadDelMundo"
       ]
      },
      {
       "output_type": "stream",
       "stream": "stdout",
       "text": [
        "\n",
        "HezekiahJones_BorrowedHeart"
       ]
      },
      {
       "output_type": "stream",
       "stream": "stdout",
       "text": [
        "\n",
        "JoelHelander_Definition"
       ]
      },
      {
       "output_type": "stream",
       "stream": "stdout",
       "text": [
        "\n",
        "JoelHelander_ExcessiveResistancetoChange"
       ]
      },
      {
       "output_type": "stream",
       "stream": "stdout",
       "text": [
        "\n",
        "JoelHelander_IntheAtticBedroom"
       ]
      },
      {
       "output_type": "stream",
       "stream": "stdout",
       "text": [
        "\n",
        "KarimDouaidy_Hopscotch"
       ]
      },
      {
       "output_type": "stream",
       "stream": "stdout",
       "text": [
        "\n",
        "KarimDouaidy_Yatora"
       ]
      },
      {
       "output_type": "stream",
       "stream": "stdout",
       "text": [
        "\n",
        "LizNelson_ImComingHome"
       ]
      },
      {
       "output_type": "stream",
       "stream": "stdout",
       "text": [
        "\n",
        "MatthewEntwistle_DontYouEver"
       ]
      },
      {
       "output_type": "stream",
       "stream": "stdout",
       "text": [
        "\n",
        "MatthewEntwistle_FairerHopes"
       ]
      },
      {
       "output_type": "stream",
       "stream": "stdout",
       "text": [
        "\n",
        "MatthewEntwistle_ImpressionsOfSaturn"
       ]
      },
      {
       "output_type": "stream",
       "stream": "stdout",
       "text": [
        "\n",
        "MatthewEntwistle_Lontano"
       ]
      },
      {
       "output_type": "stream",
       "stream": "stdout",
       "text": [
        "\n",
        "MatthewEntwistle_TheArch"
       ]
      },
      {
       "output_type": "stream",
       "stream": "stdout",
       "text": [
        "\n",
        "MatthewEntwistle_TheFlaxenField"
       ]
      },
      {
       "output_type": "stream",
       "stream": "stdout",
       "text": [
        "\n",
        "Meaxic_TakeAStep"
       ]
      },
      {
       "output_type": "stream",
       "stream": "stdout",
       "text": [
        "\n",
        "Meaxic_YouListen"
       ]
      },
      {
       "output_type": "stream",
       "stream": "stdout",
       "text": [
        "\n",
        "MichaelKropf_AllGoodThings"
       ]
      },
      {
       "output_type": "stream",
       "stream": "stdout",
       "text": [
        "\n",
        "MusicDelta_80sRock"
       ]
      },
      {
       "output_type": "stream",
       "stream": "stdout",
       "text": [
        "\n",
        "MusicDelta_Beatles"
       ]
      },
      {
       "output_type": "stream",
       "stream": "stdout",
       "text": [
        "\n",
        "MusicDelta_BebopJazz"
       ]
      },
      {
       "output_type": "stream",
       "stream": "stdout",
       "text": [
        "\n",
        "MusicDelta_Beethoven"
       ]
      },
      {
       "output_type": "stream",
       "stream": "stdout",
       "text": [
        "\n",
        "MusicDelta_Britpop"
       ]
      },
      {
       "output_type": "stream",
       "stream": "stdout",
       "text": [
        "\n",
        "MusicDelta_ChineseChaoZhou"
       ]
      },
      {
       "output_type": "stream",
       "stream": "stdout",
       "text": [
        "\n",
        "MusicDelta_ChineseDrama"
       ]
      },
      {
       "output_type": "stream",
       "stream": "stdout",
       "text": [
        "\n",
        "MusicDelta_ChineseHenan"
       ]
      },
      {
       "output_type": "stream",
       "stream": "stdout",
       "text": [
        "\n",
        "MusicDelta_ChineseJiangNan"
       ]
      },
      {
       "output_type": "stream",
       "stream": "stdout",
       "text": [
        "\n",
        "MusicDelta_ChineseXinJing"
       ]
      },
      {
       "output_type": "stream",
       "stream": "stdout",
       "text": [
        "\n",
        "MusicDelta_ChineseYaoZu"
       ]
      },
      {
       "output_type": "stream",
       "stream": "stdout",
       "text": [
        "\n",
        "MusicDelta_CoolJazz"
       ]
      },
      {
       "output_type": "stream",
       "stream": "stdout",
       "text": [
        "\n",
        "MusicDelta_Country1"
       ]
      },
      {
       "output_type": "stream",
       "stream": "stdout",
       "text": [
        "\n",
        "MusicDelta_Country2"
       ]
      },
      {
       "output_type": "stream",
       "stream": "stdout",
       "text": [
        "\n",
        "MusicDelta_Disco"
       ]
      },
      {
       "output_type": "stream",
       "stream": "stdout",
       "text": [
        "\n",
        "MusicDelta_FreeJazz"
       ]
      },
      {
       "output_type": "stream",
       "stream": "stdout",
       "text": [
        "\n",
        "MusicDelta_FunkJazz"
       ]
      },
      {
       "output_type": "stream",
       "stream": "stdout",
       "text": [
        "\n",
        "MusicDelta_Gospel"
       ]
      },
      {
       "output_type": "stream",
       "stream": "stdout",
       "text": [
        "\n",
        "MusicDelta_GriegTrolltog"
       ]
      },
      {
       "output_type": "stream",
       "stream": "stdout",
       "text": [
        "\n",
        "MusicDelta_Grunge"
       ]
      },
      {
       "output_type": "stream",
       "stream": "stdout",
       "text": [
        "\n",
        "MusicDelta_Hendrix"
       ]
      },
      {
       "output_type": "stream",
       "stream": "stdout",
       "text": [
        "\n",
        "MusicDelta_InTheHalloftheMountainKing"
       ]
      },
      {
       "output_type": "stream",
       "stream": "stdout",
       "text": [
        "\n",
        "MusicDelta_Pachelbel"
       ]
      },
      {
       "output_type": "stream",
       "stream": "stdout",
       "text": [
        "\n",
        "MusicDelta_Punk"
       ]
      },
      {
       "output_type": "stream",
       "stream": "stdout",
       "text": [
        "\n",
        "MusicDelta_Reggae"
       ]
      },
      {
       "output_type": "stream",
       "stream": "stdout",
       "text": [
        "\n",
        "MusicDelta_Rockabilly"
       ]
      },
      {
       "output_type": "stream",
       "stream": "stdout",
       "text": [
        "\n",
        "MusicDelta_SpeedMetal"
       ]
      },
      {
       "output_type": "stream",
       "stream": "stdout",
       "text": [
        "\n",
        "MusicDelta_Vivaldi"
       ]
      },
      {
       "output_type": "stream",
       "stream": "stdout",
       "text": [
        "\n",
        "MusicDelta_Zeppelin"
       ]
      },
      {
       "output_type": "stream",
       "stream": "stdout",
       "text": [
        "\n",
        "NightPanther_Fire"
       ]
      },
      {
       "output_type": "stream",
       "stream": "stdout",
       "text": [
        "\n",
        "Phoenix_BrokenPledgeChicagoReel"
       ]
      },
      {
       "output_type": "stream",
       "stream": "stdout",
       "text": [
        "\n",
        "Phoenix_ColliersDaughter"
       ]
      },
      {
       "output_type": "stream",
       "stream": "stdout",
       "text": [
        "\n",
        "Phoenix_ElzicsFarewell"
       ]
      },
      {
       "output_type": "stream",
       "stream": "stdout",
       "text": [
        "\n",
        "Phoenix_LarkOnTheStrandDrummondCastle"
       ]
      },
      {
       "output_type": "stream",
       "stream": "stdout",
       "text": [
        "\n",
        "Phoenix_ScotchMorris"
       ]
      },
      {
       "output_type": "stream",
       "stream": "stdout",
       "text": [
        "\n",
        "Phoenix_SeanCaughlinsTheScartaglen"
       ]
      },
      {
       "output_type": "stream",
       "stream": "stdout",
       "text": [
        "\n",
        "PortStWillow_StayEven"
       ]
      },
      {
       "output_type": "stream",
       "stream": "stdout",
       "text": [
        "\n",
        "PurlingHiss_Lolita"
       ]
      },
      {
       "output_type": "stream",
       "stream": "stdout",
       "text": [
        "\n",
        "SecretMountains_HighHorse"
       ]
      },
      {
       "output_type": "stream",
       "stream": "stdout",
       "text": [
        "\n",
        "Snowmine_Curfews"
       ]
      },
      {
       "output_type": "stream",
       "stream": "stdout",
       "text": [
        "\n",
        "StrandOfOaks_Spacestation"
       ]
      },
      {
       "output_type": "stream",
       "stream": "stdout",
       "text": [
        "\n",
        "TheScarletBrand_LesFleursDuMal"
       ]
      },
      {
       "output_type": "stream",
       "stream": "stdout",
       "text": [
        "\n",
        "TheSoSoGlos_Emergency"
       ]
      },
      {
       "output_type": "stream",
       "stream": "stdout",
       "text": [
        "\n",
        "----------------------------------------"
       ]
      },
      {
       "output_type": "stream",
       "stream": "stdout",
       "text": [
        "\n",
        "Generating testing features\n",
        "----------------------------------------\n",
        "AmarLal_Rest\n",
        "AmarLal_SpringDay1"
       ]
      },
      {
       "output_type": "stream",
       "stream": "stdout",
       "text": [
        "\n",
        "BigTroubles_Phantom"
       ]
      },
      {
       "output_type": "stream",
       "stream": "stdout",
       "text": [
        "\n",
        "Debussy_LenfantProdigue"
       ]
      },
      {
       "output_type": "stream",
       "stream": "stdout",
       "text": [
        "\n",
        "Handel_TornamiAVagheggiar"
       ]
      },
      {
       "output_type": "stream",
       "stream": "stdout",
       "text": [
        "\n",
        "HopAlong_SisterCities"
       ]
      },
      {
       "output_type": "stream",
       "stream": "stdout",
       "text": [
        "\n",
        "InvisibleFamiliars_DisturbingWildlife"
       ]
      },
      {
       "output_type": "stream",
       "stream": "stdout",
       "text": [
        "\n",
        "LizNelson_Coldwar"
       ]
      },
      {
       "output_type": "stream",
       "stream": "stdout",
       "text": [
        "\n",
        "LizNelson_Rainfall"
       ]
      },
      {
       "output_type": "stream",
       "stream": "stdout",
       "text": [
        "\n",
        "Mozart_BesterJungling"
       ]
      },
      {
       "output_type": "stream",
       "stream": "stdout",
       "text": [
        "\n",
        "Mozart_DiesBildnis"
       ]
      },
      {
       "output_type": "stream",
       "stream": "stdout",
       "text": [
        "\n",
        "MusicDelta_FusionJazz"
       ]
      },
      {
       "output_type": "stream",
       "stream": "stdout",
       "text": [
        "\n",
        "MusicDelta_LatinJazz"
       ]
      },
      {
       "output_type": "stream",
       "stream": "stdout",
       "text": [
        "\n",
        "MusicDelta_ModalJazz"
       ]
      },
      {
       "output_type": "stream",
       "stream": "stdout",
       "text": [
        "\n",
        "MusicDelta_Rock"
       ]
      },
      {
       "output_type": "stream",
       "stream": "stdout",
       "text": [
        "\n",
        "MusicDelta_Shadows"
       ]
      },
      {
       "output_type": "stream",
       "stream": "stdout",
       "text": [
        "\n",
        "MusicDelta_SwingJazz"
       ]
      },
      {
       "output_type": "stream",
       "stream": "stdout",
       "text": [
        "\n",
        "Schubert_Erstarrung"
       ]
      },
      {
       "output_type": "stream",
       "stream": "stdout",
       "text": [
        "\n",
        "Schumann_Mignon"
       ]
      },
      {
       "output_type": "stream",
       "stream": "stdout",
       "text": [
        "\n",
        "StevenClark_Bounty"
       ]
      },
      {
       "output_type": "stream",
       "stream": "stdout",
       "text": [
        "\n",
        "SweetLights_YouLetMeDown"
       ]
      },
      {
       "output_type": "stream",
       "stream": "stdout",
       "text": [
        "\n",
        "TheDistricts_Vermont"
       ]
      },
      {
       "output_type": "stream",
       "stream": "stdout",
       "text": [
        "\n",
        "Wolf_DieBekherte"
       ]
      },
      {
       "output_type": "stream",
       "stream": "stdout",
       "text": [
        "\n"
       ]
      },
      {
       "output_type": "stream",
       "stream": "stderr",
       "text": [
        "/usr/local/lib/python2.7/site-packages/mir_eval/melody.py:80: UserWarning: Reference melody has no voiced frames.\n",
        "  warnings.warn(\"Reference melody has no voiced frames.\")\n"
       ]
      }
     ],
     "prompt_number": 3
    },
    {
     "cell_type": "raw",
     "metadata": {},
     "source": [
      "Compute overlap statistics of contours with partial overlap"
     ]
    },
    {
     "cell_type": "code",
     "collapsed": false,
     "input": [
      "overlap_dat = cc.join_features(train_feat_list)\n",
      "print overlap_dat['overlap'][overlap_dat['overlap'] > 0].describe()\n",
      "overlap_dat_test = cc.join_features(test_feat_list)\n",
      "print overlap_dat_test['overlap'][overlap_dat_test['overlap'] > 0].describe()"
     ],
     "language": "python",
     "metadata": {},
     "outputs": [
      {
       "output_type": "stream",
       "stream": "stdout",
       "text": [
        "count    13468.000000\n",
        "mean         0.800767\n",
        "std          0.232570\n",
        "min          0.001353\n",
        "25%          0.709003\n",
        "50%          0.884615\n",
        "75%          0.983333\n",
        "max          1.000000\n",
        "Name: overlap, dtype: float64\n",
        "count    3682.000000\n",
        "mean        0.796762\n",
        "std         0.241855\n",
        "min         0.006289\n",
        "25%         0.700000\n",
        "50%         0.888889\n",
        "75%         0.982759\n",
        "max         1.000000\n",
        "Name: overlap, dtype: float64\n"
       ]
      }
     ],
     "prompt_number": 96
    },
    {
     "cell_type": "code",
     "collapsed": false,
     "input": [
      "OLAP_THRESH = 0.5\n",
      "\n",
      "for i, train_feat in enumerate(train_feat_list):\n",
      "    train_feat_list[i] = cc.label_contours(train_feat, olap_thresh=OLAP_THRESH)\n",
      "    \n",
      "for i, test_feat in enumerate(test_feat_list):\n",
      "    test_feat_list[i] = cc.label_contours(test_feat, olap_thresh=OLAP_THRESH)"
     ],
     "language": "python",
     "metadata": {},
     "outputs": [],
     "prompt_number": 5
    },
    {
     "cell_type": "code",
     "collapsed": false,
     "input": [
      "train_features = cc.join_features(train_feat_list)\n",
      "test_features = cc.join_features(test_feat_list)"
     ],
     "language": "python",
     "metadata": {},
     "outputs": [],
     "prompt_number": 6
    },
    {
     "cell_type": "code",
     "collapsed": false,
     "input": [
      "X_train, Y_train = cc.pd_to_sklearn(train_features)\n",
      "X_test, Y_test = cc.pd_to_sklearn(test_features)"
     ],
     "language": "python",
     "metadata": {},
     "outputs": [],
     "prompt_number": 7
    },
    {
     "cell_type": "heading",
     "level": 3,
     "metadata": {},
     "source": [
      "Score with Multivariate Gaussian"
     ]
    },
    {
     "cell_type": "markdown",
     "metadata": {},
     "source": [
      "Transform data using boxcox transform. Estimate optimal lambda."
     ]
    },
    {
     "cell_type": "code",
     "collapsed": false,
     "input": [
      "_, n_feats = X_train.shape\n",
      "print X_train.shape\n",
      "X_train_boxcox = np.zeros(X_train.shape)\n",
      "lmbda_opt = np.zeros((n_feats,))\n",
      "eps = 1.0 #np.finfo(float).eps\n",
      "for i in range(n_feats):\n",
      "    X_train_boxcox[:, i], lmbda_opt[i] = boxcox(X_train[:, i] + eps)"
     ],
     "language": "python",
     "metadata": {},
     "outputs": [
      {
       "output_type": "stream",
       "stream": "stdout",
       "text": [
        "(74978, 10)\n"
       ]
      }
     ],
     "prompt_number": 8
    },
    {
     "cell_type": "markdown",
     "metadata": {},
     "source": [
      "Transform test data using optimal lambda"
     ]
    },
    {
     "cell_type": "code",
     "collapsed": false,
     "input": [
      "X_test_boxcox = np.zeros(X_test.shape)\n",
      "for i in range(n_feats):\n",
      "    X_test_boxcox[:, i] = boxcox(X_test[:, i] + eps, lmbda=lmbda_opt[i])"
     ],
     "language": "python",
     "metadata": {},
     "outputs": [],
     "prompt_number": 9
    },
    {
     "cell_type": "code",
     "collapsed": false,
     "input": [
      "pos_idx = np.where(Y_train == 1)[0]\n",
      "mu_pos = np.mean(X_train_boxcox[pos_idx, :], axis=0)\n",
      "cov_pos = np.cov(X_train_boxcox[pos_idx, :], rowvar=0)\n",
      "\n",
      "neg_idx = np.where(Y_train == 0)[0]\n",
      "mu_neg = np.mean(X_train_boxcox[neg_idx, :], axis=0)\n",
      "cov_neg = np.cov(X_train_boxcox[neg_idx, :], rowvar=0)"
     ],
     "language": "python",
     "metadata": {},
     "outputs": [],
     "prompt_number": 10
    },
    {
     "cell_type": "code",
     "collapsed": false,
     "input": [
      "from scipy.stats import multivariate_normal\n",
      "\n",
      "rv_pos = multivariate_normal(mean=mu_pos, cov=cov_pos, allow_singular=True)\n",
      "rv_neg = multivariate_normal(mean=mu_neg, cov=cov_neg, allow_singular=True)\n",
      "\n",
      "def melodiness(x, rv_pos, rv_neg):\n",
      "    return rv_pos.pdf(x)/rv_neg.pdf(x)"
     ],
     "language": "python",
     "metadata": {},
     "outputs": [],
     "prompt_number": 11
    },
    {
     "cell_type": "code",
     "collapsed": false,
     "input": [
      "est_melodiness_train = np.zeros(Y_train.shape)\n",
      "for i, x in enumerate(X_train_boxcox):\n",
      "    est_melodiness_train[i] = melodiness(x, rv_pos, rv_neg)\n",
      "\n",
      "train_features['melodiness'] = 1*(est_melodiness_train > 1)\n",
      "\n",
      "est_melodiness_test = np.zeros(Y_test.shape)\n",
      "for i, x in enumerate(X_test_boxcox):\n",
      "    est_melodiness_test[i] = melodiness(x, rv_pos, rv_neg)\n",
      "\n",
      "test_features['melodiness'] = 1*(est_melodiness_test > 1)\n",
      "print test_features['melodiness']"
     ],
     "language": "python",
     "metadata": {},
     "outputs": [
      {
       "output_type": "stream",
       "stream": "stdout",
       "text": [
        "0      1\n",
        "1      1\n",
        "2      1\n",
        "3      1\n",
        "4      1\n",
        "5      1\n",
        "6      1\n",
        "7      1\n",
        "8      1\n",
        "9      1\n",
        "10     0\n",
        "11     1\n",
        "12     1\n",
        "13     0\n",
        "14     0\n",
        "15     1\n",
        "16     1\n",
        "17     0\n",
        "18     1\n",
        "19     1\n",
        "20     1\n",
        "21     0\n",
        "22     1\n",
        "23     1\n",
        "24     1\n",
        "25     1\n",
        "26     0\n",
        "27     1\n",
        "28     1\n",
        "29     0\n",
        "      ..\n",
        "408    1\n",
        "409    0\n",
        "410    1\n",
        "411    1\n",
        "412    1\n",
        "413    1\n",
        "414    0\n",
        "415    1\n",
        "416    1\n",
        "417    0\n",
        "418    1\n",
        "419    0\n",
        "420    0\n",
        "421    1\n",
        "422    0\n",
        "423    1\n",
        "424    1\n",
        "425    1\n",
        "426    1\n",
        "427    0\n",
        "428    1\n",
        "429    1\n",
        "430    0\n",
        "431    1\n",
        "432    1\n",
        "433    1\n",
        "434    1\n",
        "435    1\n",
        "436    0\n",
        "437    0\n",
        "Name: melodiness, dtype: int64\n"
       ]
      }
     ],
     "prompt_number": 12
    },
    {
     "cell_type": "code",
     "collapsed": false,
     "input": [
      "print Y_train[0:10]\n",
      "print train_features['melodiness'][0:10]"
     ],
     "language": "python",
     "metadata": {},
     "outputs": [
      {
       "output_type": "stream",
       "stream": "stdout",
       "text": [
        "[0 0 1 0 1 0 0 0 0 0]\n",
        "0    1\n",
        "1    1\n",
        "2    1\n",
        "3    1\n",
        "4    1\n",
        "5    1\n",
        "6    1\n",
        "7    1\n",
        "8    1\n",
        "9    1\n",
        "Name: melodiness, dtype: int64\n"
       ]
      }
     ],
     "prompt_number": 13
    },
    {
     "cell_type": "code",
     "collapsed": false,
     "input": [
      "print metrics.accuracy_score(Y_train, train_features['melodiness'].values)\n",
      "print metrics.accuracy_score(Y_test, test_features['melodiness'].values)"
     ],
     "language": "python",
     "metadata": {},
     "outputs": [
      {
       "output_type": "stream",
       "stream": "stdout",
       "text": [
        "0.20478006882\n",
        "0.216166500237\n"
       ]
      }
     ],
     "prompt_number": 14
    },
    {
     "cell_type": "heading",
     "level": 3,
     "metadata": {},
     "source": [
      "Train Classifier"
     ]
    },
    {
     "cell_type": "code",
     "collapsed": false,
     "input": [
      "scores = []\n",
      "for max_depth in np.arange(5, 100, 5):\n",
      "    print \"training with max_depth=%s\" % max_depth\n",
      "    clf = RFC(n_estimators=100, max_depth=max_depth, n_jobs=-1, class_weight='auto')\n",
      "    all_scores = cross_validation.cross_val_score(clf, X_train, Y_train, cv=5)\n",
      "    scores.append([max_depth, np.mean(all_scores), np.std(all_scores)])"
     ],
     "language": "python",
     "metadata": {},
     "outputs": [
      {
       "output_type": "stream",
       "stream": "stdout",
       "text": [
        "training with max_depth=5\n",
        "training with max_depth=10"
       ]
      },
      {
       "output_type": "stream",
       "stream": "stdout",
       "text": [
        "\n",
        "training with max_depth=15"
       ]
      },
      {
       "output_type": "stream",
       "stream": "stdout",
       "text": [
        "\n",
        "training with max_depth=20"
       ]
      },
      {
       "output_type": "stream",
       "stream": "stdout",
       "text": [
        "\n",
        "training with max_depth=25"
       ]
      },
      {
       "output_type": "stream",
       "stream": "stdout",
       "text": [
        "\n",
        "training with max_depth=30"
       ]
      },
      {
       "output_type": "stream",
       "stream": "stdout",
       "text": [
        "\n",
        "training with max_depth=35"
       ]
      },
      {
       "output_type": "stream",
       "stream": "stdout",
       "text": [
        "\n",
        "training with max_depth=40"
       ]
      },
      {
       "output_type": "stream",
       "stream": "stdout",
       "text": [
        "\n",
        "training with max_depth=45"
       ]
      },
      {
       "output_type": "stream",
       "stream": "stdout",
       "text": [
        "\n",
        "training with max_depth=50"
       ]
      },
      {
       "output_type": "stream",
       "stream": "stdout",
       "text": [
        "\n",
        "training with max_depth=55"
       ]
      },
      {
       "output_type": "stream",
       "stream": "stdout",
       "text": [
        "\n",
        "training with max_depth=60"
       ]
      },
      {
       "output_type": "stream",
       "stream": "stdout",
       "text": [
        "\n",
        "training with max_depth=65"
       ]
      },
      {
       "output_type": "stream",
       "stream": "stdout",
       "text": [
        "\n",
        "training with max_depth=70"
       ]
      },
      {
       "output_type": "stream",
       "stream": "stdout",
       "text": [
        "\n",
        "training with max_depth=75"
       ]
      },
      {
       "output_type": "stream",
       "stream": "stdout",
       "text": [
        "\n",
        "training with max_depth=80"
       ]
      },
      {
       "output_type": "stream",
       "stream": "stdout",
       "text": [
        "\n",
        "training with max_depth=85"
       ]
      },
      {
       "output_type": "stream",
       "stream": "stdout",
       "text": [
        "\n",
        "training with max_depth=90"
       ]
      },
      {
       "output_type": "stream",
       "stream": "stdout",
       "text": [
        "\n",
        "training with max_depth=95"
       ]
      },
      {
       "output_type": "stream",
       "stream": "stdout",
       "text": [
        "\n"
       ]
      }
     ],
     "prompt_number": 67
    },
    {
     "cell_type": "code",
     "collapsed": false,
     "input": [
      "x = [score[0] for score in scores]\n",
      "y = [score[1] for score in scores]\n",
      "e = [score[2] for score in scores]\n",
      "plt.errorbar(x, y, e, linestyle='-', marker='o')\n",
      "plt.title('Mean cross validation accuracy')\n",
      "plt.xlabel('max depth')\n",
      "plt.ylabel('mean accuracy')\n",
      "plt.show()\n",
      "print np.max(y)\n",
      "print x[np.argmax(y)]"
     ],
     "language": "python",
     "metadata": {},
     "outputs": [
      {
       "metadata": {},
       "output_type": "display_data",
       "png": "[encoded data removed]",
       "text": [
        "<matplotlib.figure.Figure at 0x11449f210>"
       ]
      },
      {
       "output_type": "stream",
       "stream": "stdout",
       "text": [
        "0.857038142011\n",
        "60\n"
       ]
      }
     ],
     "prompt_number": 68
    },
    {
     "cell_type": "code",
     "collapsed": false,
     "input": [
      "clf = RFC(n_estimators=100, max_depth=60, n_jobs=-1, class_weight='auto')\n",
      "clf = clf.fit(X_train, Y_train)"
     ],
     "language": "python",
     "metadata": {},
     "outputs": [],
     "prompt_number": 69
    },
    {
     "cell_type": "code",
     "collapsed": false,
     "input": [
      "print \"Train accuracy: %s\" % clf.score(X_train, Y_train)\n",
      "print \"Test accuracy: %s\" % clf.score(X_test, Y_test)\n",
      "print \"Train Confustion Matrix:\"\n",
      "print metrics.confusion_matrix(clf.predict(X_train), Y_train)\n",
      "print \"Train Confustion Matrix:\"\n",
      "print metrics.confusion_matrix(clf.predict(X_test), Y_test)\n",
      "print clf.feature_importances_"
     ],
     "language": "python",
     "metadata": {},
     "outputs": [
      {
       "output_type": "stream",
       "stream": "stdout",
       "text": [
        "Train accuracy: 1.0\n",
        "Test accuracy: 0.848688705524"
       ]
      },
      {
       "output_type": "stream",
       "stream": "stdout",
       "text": [
        "\n",
        "Train Confustion Matrix:\n",
        "[[63219     0]\n",
        " [    0 11759]]"
       ]
      },
      {
       "output_type": "stream",
       "stream": "stdout",
       "text": [
        "\n",
        "Train Confustion Matrix:\n",
        "[[15193  2265]\n",
        " [  614   955]]"
       ]
      },
      {
       "output_type": "stream",
       "stream": "stdout",
       "text": [
        "\n",
        "[ 0.11530265  0.22374433  0.15065366  0.16207231  0.19948529  0.13999951\n",
        "  0.0009569   0.00200216  0.00347279  0.00231041]"
       ]
      },
      {
       "output_type": "stream",
       "stream": "stdout",
       "text": [
        "\n"
       ]
      }
     ],
     "prompt_number": 91
    },
    {
     "cell_type": "code",
     "collapsed": false,
     "input": [
      "print \"Generating testing features\"\n",
      "test_contour_dat = {}\n",
      "test_feature_dat = {}\n",
      "test_annot_dat = {}\n",
      "for track in test_tracks:\n",
      "    print track\n",
      "    cdat, adat = eu.get_data_files(track, meltype=MELTYPE)\n",
      "    fdat = cc.contour_overlap(cdat, adat)\n",
      "    fdat = cc.label_contours(fdat, olap_thresh=OLAP_THRESH)\n",
      "    \n",
      "    test_feature_dat[track] = fdat.copy()\n",
      "    test_contour_dat[track] = cdat.copy()\n",
      "    test_annot_dat[track] = adat.copy()"
     ],
     "language": "python",
     "metadata": {},
     "outputs": [
      {
       "output_type": "stream",
       "stream": "stdout",
       "text": [
        "Generating testing features\n",
        "AmarLal_Rest\n",
        "AmarLal_SpringDay1"
       ]
      },
      {
       "output_type": "stream",
       "stream": "stdout",
       "text": [
        "\n",
        "BigTroubles_Phantom"
       ]
      },
      {
       "output_type": "stream",
       "stream": "stdout",
       "text": [
        "\n",
        "Debussy_LenfantProdigue"
       ]
      },
      {
       "output_type": "stream",
       "stream": "stdout",
       "text": [
        "\n",
        "Handel_TornamiAVagheggiar"
       ]
      },
      {
       "output_type": "stream",
       "stream": "stdout",
       "text": [
        "\n",
        "HopAlong_SisterCities"
       ]
      },
      {
       "output_type": "stream",
       "stream": "stdout",
       "text": [
        "\n",
        "InvisibleFamiliars_DisturbingWildlife"
       ]
      },
      {
       "output_type": "stream",
       "stream": "stdout",
       "text": [
        "\n",
        "LizNelson_Coldwar"
       ]
      },
      {
       "output_type": "stream",
       "stream": "stdout",
       "text": [
        "\n",
        "LizNelson_Rainfall"
       ]
      },
      {
       "output_type": "stream",
       "stream": "stdout",
       "text": [
        "\n",
        "Mozart_BesterJungling"
       ]
      },
      {
       "output_type": "stream",
       "stream": "stdout",
       "text": [
        "\n",
        "Mozart_DiesBildnis"
       ]
      },
      {
       "output_type": "stream",
       "stream": "stdout",
       "text": [
        "\n",
        "MusicDelta_FusionJazz"
       ]
      },
      {
       "output_type": "stream",
       "stream": "stdout",
       "text": [
        "\n",
        "MusicDelta_LatinJazz"
       ]
      },
      {
       "output_type": "stream",
       "stream": "stdout",
       "text": [
        "\n",
        "MusicDelta_ModalJazz"
       ]
      },
      {
       "output_type": "stream",
       "stream": "stdout",
       "text": [
        "\n",
        "MusicDelta_Rock"
       ]
      },
      {
       "output_type": "stream",
       "stream": "stdout",
       "text": [
        "\n",
        "MusicDelta_Shadows"
       ]
      },
      {
       "output_type": "stream",
       "stream": "stdout",
       "text": [
        "\n",
        "MusicDelta_SwingJazz"
       ]
      },
      {
       "output_type": "stream",
       "stream": "stdout",
       "text": [
        "\n",
        "Schubert_Erstarrung"
       ]
      },
      {
       "output_type": "stream",
       "stream": "stdout",
       "text": [
        "\n",
        "Schumann_Mignon"
       ]
      },
      {
       "output_type": "stream",
       "stream": "stdout",
       "text": [
        "\n",
        "StevenClark_Bounty"
       ]
      },
      {
       "output_type": "stream",
       "stream": "stdout",
       "text": [
        "\n",
        "SweetLights_YouLetMeDown"
       ]
      },
      {
       "output_type": "stream",
       "stream": "stdout",
       "text": [
        "\n",
        "TheDistricts_Vermont"
       ]
      },
      {
       "output_type": "stream",
       "stream": "stdout",
       "text": [
        "\n",
        "Wolf_DieBekherte"
       ]
      },
      {
       "output_type": "stream",
       "stream": "stdout",
       "text": [
        "\n"
       ]
      }
     ],
     "prompt_number": 47
    },
    {
     "cell_type": "code",
     "collapsed": false,
     "input": [
      "reload(eu)\n",
      "track = 'LizNelson_Coldwar'\n",
      "mel_prob_test = eu.contour_probs(clf, test_feature_dat[track], \\\n",
      "                              test_contour_dat[track])"
     ],
     "language": "python",
     "metadata": {},
     "outputs": [],
     "prompt_number": 97
    },
    {
     "cell_type": "code",
     "collapsed": false,
     "input": [
      "contour_test = mel_prob_test[mel_prob_test['mel_prob'] >= 0.35]"
     ],
     "language": "python",
     "metadata": {},
     "outputs": [],
     "prompt_number": 364
    },
    {
     "cell_type": "code",
     "collapsed": false,
     "input": [
      "reload(cc)\n",
      "cc.make_coverage_plot(contour_test.iloc[:, :-1], test_annot_dat[track])"
     ],
     "language": "python",
     "metadata": {},
     "outputs": [
      {
       "metadata": {},
       "output_type": "display_data",
       "png": "[encoded data removed]",
       "text": [
        "<matplotlib.figure.Figure at 0x120779210>"
       ]
      }
     ],
     "prompt_number": 365
    },
    {
     "cell_type": "code",
     "collapsed": false,
     "input": [
      "track = 'LizNelson_Coldwar'\n",
      "prob_threshold = 0.1\n",
      "cdat = eu.contour_probs(clf, test_feature_dat[track], \\\n",
      "                        test_contour_dat[track])\n",
      "contour_candidates = cdat[cdat['mel_prob'] >= prob_threshold]\n",
      "print contour_candidates"
     ],
     "language": "python",
     "metadata": {},
     "outputs": [
      {
       "output_type": "stream",
       "stream": "stdout",
       "text": [
        "        onset    offset  duration  pitch mean  pitch std  salience mean  \\\n",
        "5     14.6750   14.9595  0.287347    2100.100   33.07460       0.047704   \n",
        "7     15.1278   15.5109  0.386032    2103.610   22.98540       0.049605   \n",
        "8     15.2381   15.5109  0.275737     908.737   16.55880       0.049875   \n",
        "11    15.9318   16.1756  0.246712    2107.650   17.39820       0.049948   \n",
        "13    16.3439   16.6748  0.333787    2012.700   96.02830       0.041651   \n",
        "16    16.8171   17.4266  0.612426    2091.710   54.85810       0.041895   \n",
        "21    19.0665   19.2784  0.214785    2090.140   39.30110       0.041108   \n",
        "22    19.3335   19.8356  0.505034    2100.400   18.51870       0.043483   \n",
        "24    20.0098   20.7993  0.792381    2108.350   60.37000       0.036774   \n",
        "26    20.7964   21.4088  0.615329    2098.110   27.80030       0.048997   \n",
        "28    21.4262   22.4566  1.033290    2110.670   40.65610       0.041402   \n",
        "30    22.4595   23.0110  0.554376    2095.340   33.48460       0.038469   \n",
        "33    23.7018   24.3461  0.647256    2108.830   43.85550       0.045239   \n",
        "35    24.3403   24.5696  0.232200    2084.120   71.02280       0.053271   \n",
        "37    24.7293   25.0659  0.339592    2142.050   57.43130       0.055434   \n",
        "39    25.0892   26.2008  1.114560    2108.050   39.40430       0.054728   \n",
        "41    25.8554   25.9715  0.119002    2804.880    5.46472       0.036729   \n",
        "42    26.1660   26.3198  0.156735    2386.670   20.18430       0.067719   \n",
        "44    26.3459   26.4853  0.142222    2013.670   82.77570       0.027291   \n",
        "45    26.4853   28.6273  2.144940    2393.270   58.57900       0.069327   \n",
        "50    28.5576   28.7086  0.153832    2075.280   85.44230       0.033728   \n",
        "51    28.9205   29.0482  0.130612    2090.000   36.39290       0.050257   \n",
        "52    28.9930   29.7070  0.716916    2580.160   96.01770       0.066986   \n",
        "53    29.7273   29.8347  0.110295    2113.680   42.63810       0.062405   \n",
        "54    29.8144   31.1089  1.297420    2537.320   74.96130       0.076501   \n",
        "55    30.9696   31.4921  0.525351    2076.240   91.66490       0.044454   \n",
        "56    31.1844   31.4950  0.313469     927.500   39.79400       0.043790   \n",
        "57    31.2918   31.7475  0.458594    2391.010   35.67060       0.053729   \n",
        "58    31.7272   31.8955  0.171247    2127.120   46.03060       0.063910   \n",
        "60    31.8694   32.3802  0.513741    2161.640  146.83500       0.057020   \n",
        "..        ...       ...       ...         ...        ...            ...   \n",
        "593  146.5380  146.7910  0.255419    4637.950   39.91920       0.086329   \n",
        "594  146.6800  146.7940  0.116100    3438.000   68.23490       0.129043   \n",
        "596  146.9790  147.1160  0.139320    3641.040   45.47160       0.111720   \n",
        "598  147.2730  147.8360  0.565986    3338.460  216.25400       0.096583   \n",
        "604  148.0210  148.4570  0.438277    3093.310   53.54610       0.123921   \n",
        "606  148.6280  148.8810  0.255419    1922.730   58.63460       0.047980   \n",
        "607  149.0400  149.2400  0.203175    3466.140   66.85360       0.131758   \n",
        "609  149.3910  150.0940  0.705306    3471.600   79.90410       0.104975   \n",
        "613  149.6150  149.7160  0.104490    4016.670   13.94430       0.067569   \n",
        "615  150.1430  150.8890  0.748844    3075.850   40.01270       0.092459   \n",
        "618  151.3450  151.6500  0.307664    3517.830   53.18190       0.094299   \n",
        "621  151.7130  151.8150  0.104490    4003.060    9.37474       0.038011   \n",
        "623  151.8290  152.3200  0.493424    3509.180   53.28530       0.097602   \n",
        "624  152.2620  152.3980  0.139320    2106.250   22.87880       0.054627   \n",
        "625  152.3980  152.6130  0.217687    3263.600   43.53210       0.114340   \n",
        "630  152.6830  152.8250  0.145125    3116.200    8.21949       0.056411   \n",
        "631  152.7350  152.9560  0.223492    1957.010   48.27050       0.066848   \n",
        "632  152.9500  153.1560  0.208980    3096.940   20.45580       0.075655   \n",
        "636  153.3180  153.6840  0.368617    2093.070   28.52020       0.063334   \n",
        "637  153.5220  153.8210  0.301859    2777.400   85.64230       0.058969   \n",
        "639  153.8230  154.2330  0.412154    1991.480   82.08500       0.057599   \n",
        "641  154.2850  155.5300  1.248070    2718.810  121.49000       0.060124   \n",
        "650  155.6750  155.7880  0.116100    3147.500   24.77400       0.074840   \n",
        "652  155.9710  156.4470  0.478912    3359.820   80.44180       0.129236   \n",
        "655  156.5550  159.1520  2.600630    3634.920   86.79170       0.177286   \n",
        "656  157.2660  158.3430  1.079730    4849.190   94.73160       0.161767   \n",
        "658  159.1730  164.1190  4.948750    3282.600   97.91560       0.125063   \n",
        "663  161.2650  161.8610  0.597914    4291.650   70.60900       0.142979   \n",
        "667  163.7090  164.0520  0.345397    2122.860   38.26360       0.070621   \n",
        "675  165.0240  166.5340  1.512200    2106.780   20.60420       0.051523   \n",
        "\n",
        "     salience std  salience tot  vibrato  vib rate    ...        5120  \\\n",
        "5        0.013271       4.72272        0   0.00000    ...         NaN   \n",
        "7        0.021534       6.59748        0   0.00000    ...         NaN   \n",
        "8        0.015933       4.73810        0   0.00000    ...         NaN   \n",
        "11       0.013072       4.24558        0   0.00000    ...         NaN   \n",
        "13       0.011199       4.78981        0   0.00000    ...         NaN   \n",
        "16       0.015231       8.83983        0   0.00000    ...         NaN   \n",
        "21       0.008891       3.04203        0   0.00000    ...         NaN   \n",
        "22       0.014129       7.56595        0   0.00000    ...         NaN   \n",
        "24       0.015137      10.03920        0   0.00000    ...         NaN   \n",
        "26       0.017912      10.38750        0   0.00000    ...         NaN   \n",
        "28       0.015969      14.73890        0   0.00000    ...         NaN   \n",
        "30       0.010892       7.34766        0   0.00000    ...         NaN   \n",
        "33       0.018320      10.08840        0   0.00000    ...         NaN   \n",
        "35       0.018171       4.26168        0   0.00000    ...         NaN   \n",
        "37       0.012003       6.48574        0   0.00000    ...         NaN   \n",
        "39       0.020508      21.01540        0   0.00000    ...         NaN   \n",
        "41       0.002599       1.50587        0   0.00000    ...         NaN   \n",
        "42       0.015996       3.65681        0   0.00000    ...         NaN   \n",
        "44       0.006576       1.33728        0   0.00000    ...         NaN   \n",
        "45       0.022314      51.23280        1   6.42213    ...         NaN   \n",
        "50       0.019318       1.78756        0   0.00000    ...         NaN   \n",
        "51       0.010271       2.26155        0   0.00000    ...         NaN   \n",
        "52       0.025483      16.54570        1   5.96753    ...         NaN   \n",
        "53       0.012145       2.37137        0   0.00000    ...         NaN   \n",
        "54       0.022031      34.19590        1   6.13337    ...         NaN   \n",
        "55       0.017229       8.04619        0   0.00000    ...         NaN   \n",
        "56       0.014915       4.72937        0   0.00000    ...         NaN   \n",
        "57       0.020834       8.48917        1   6.98649    ...         NaN   \n",
        "58       0.011924       3.77069        0   0.00000    ...         NaN   \n",
        "60       0.014084      10.09250        0   0.00000    ...         NaN   \n",
        "..            ...           ...      ...       ...    ...         ...   \n",
        "593      0.037343       7.59692        0   0.00000    ...         NaN   \n",
        "594      0.038725       5.16172        0   0.00000    ...         NaN   \n",
        "596      0.030000       5.36254        0   0.00000    ...         NaN   \n",
        "598      0.024701      18.83360        0   0.00000    ...         NaN   \n",
        "604      0.024405      18.71210        1   6.03772    ...         NaN   \n",
        "606      0.015004       4.22220        0   0.00000    ...         NaN   \n",
        "607      0.066150       9.22304        0   0.00000    ...         NaN   \n",
        "609      0.041855      25.50900        1   6.64139    ...         NaN   \n",
        "613      0.011334       2.43247        0   0.00000    ...         NaN   \n",
        "615      0.033804      23.85440        1   6.86697    ...         NaN   \n",
        "618      0.024635       9.99571        0   0.00000    ...         NaN   \n",
        "621      0.011977       1.36840        0   0.00000    ...         NaN   \n",
        "623      0.041987      16.59230        0   0.00000    ...         NaN   \n",
        "624      0.014013       2.62210        0   0.00000    ...         NaN   \n",
        "625      0.028046       8.57548        0   0.00000    ...         NaN   \n",
        "630      0.009379       2.82052        0   0.00000    ...         NaN   \n",
        "631      0.007093       5.14731        0   0.00000    ...         NaN   \n",
        "632      0.019862       5.44719        0   0.00000    ...         NaN   \n",
        "636      0.015264       8.04343        0   0.00000    ...         NaN   \n",
        "637      0.011180       6.13274        0   0.00000    ...         NaN   \n",
        "639      0.017737       8.17901        0   0.00000    ...         NaN   \n",
        "641      0.022556      25.85330        0   0.00000    ...         NaN   \n",
        "650      0.013413       2.99359        0   0.00000    ...         NaN   \n",
        "652      0.026370      21.32400        0   0.00000    ...         NaN   \n",
        "655      0.028192     158.84900        1   6.35365    ...         NaN   \n",
        "656      0.021691      60.17720        1   6.36744    ...         NaN   \n",
        "658      0.026230     213.23300        1   5.99089    ...     164.113   \n",
        "663      0.015327      29.45360        1   7.59315    ...         NaN   \n",
        "667      0.017412       8.40392        0   0.00000    ...         NaN   \n",
        "675      0.017989      26.84370        0   0.00000    ...         NaN   \n",
        "\n",
        "        5121      5122     5123     5124      5125     5126     5127  \\\n",
        "5        NaN       NaN      NaN      NaN       NaN      NaN      NaN   \n",
        "7        NaN       NaN      NaN      NaN       NaN      NaN      NaN   \n",
        "8        NaN       NaN      NaN      NaN       NaN      NaN      NaN   \n",
        "11       NaN       NaN      NaN      NaN       NaN      NaN      NaN   \n",
        "13       NaN       NaN      NaN      NaN       NaN      NaN      NaN   \n",
        "16       NaN       NaN      NaN      NaN       NaN      NaN      NaN   \n",
        "21       NaN       NaN      NaN      NaN       NaN      NaN      NaN   \n",
        "22       NaN       NaN      NaN      NaN       NaN      NaN      NaN   \n",
        "24       NaN       NaN      NaN      NaN       NaN      NaN      NaN   \n",
        "26       NaN       NaN      NaN      NaN       NaN      NaN      NaN   \n",
        "28       NaN       NaN      NaN      NaN       NaN      NaN      NaN   \n",
        "30       NaN       NaN      NaN      NaN       NaN      NaN      NaN   \n",
        "33       NaN       NaN      NaN      NaN       NaN      NaN      NaN   \n",
        "35       NaN       NaN      NaN      NaN       NaN      NaN      NaN   \n",
        "37       NaN       NaN      NaN      NaN       NaN      NaN      NaN   \n",
        "39       NaN       NaN      NaN      NaN       NaN      NaN      NaN   \n",
        "41       NaN       NaN      NaN      NaN       NaN      NaN      NaN   \n",
        "42       NaN       NaN      NaN      NaN       NaN      NaN      NaN   \n",
        "44       NaN       NaN      NaN      NaN       NaN      NaN      NaN   \n",
        "45       NaN       NaN      NaN      NaN       NaN      NaN      NaN   \n",
        "50       NaN       NaN      NaN      NaN       NaN      NaN      NaN   \n",
        "51       NaN       NaN      NaN      NaN       NaN      NaN      NaN   \n",
        "52       NaN       NaN      NaN      NaN       NaN      NaN      NaN   \n",
        "53       NaN       NaN      NaN      NaN       NaN      NaN      NaN   \n",
        "54       NaN       NaN      NaN      NaN       NaN      NaN      NaN   \n",
        "55       NaN       NaN      NaN      NaN       NaN      NaN      NaN   \n",
        "56       NaN       NaN      NaN      NaN       NaN      NaN      NaN   \n",
        "57       NaN       NaN      NaN      NaN       NaN      NaN      NaN   \n",
        "58       NaN       NaN      NaN      NaN       NaN      NaN      NaN   \n",
        "60       NaN       NaN      NaN      NaN       NaN      NaN      NaN   \n",
        "..       ...       ...      ...      ...       ...      ...      ...   \n",
        "593      NaN       NaN      NaN      NaN       NaN      NaN      NaN   \n",
        "594      NaN       NaN      NaN      NaN       NaN      NaN      NaN   \n",
        "596      NaN       NaN      NaN      NaN       NaN      NaN      NaN   \n",
        "598      NaN       NaN      NaN      NaN       NaN      NaN      NaN   \n",
        "604      NaN       NaN      NaN      NaN       NaN      NaN      NaN   \n",
        "606      NaN       NaN      NaN      NaN       NaN      NaN      NaN   \n",
        "607      NaN       NaN      NaN      NaN       NaN      NaN      NaN   \n",
        "609      NaN       NaN      NaN      NaN       NaN      NaN      NaN   \n",
        "613      NaN       NaN      NaN      NaN       NaN      NaN      NaN   \n",
        "615      NaN       NaN      NaN      NaN       NaN      NaN      NaN   \n",
        "618      NaN       NaN      NaN      NaN       NaN      NaN      NaN   \n",
        "621      NaN       NaN      NaN      NaN       NaN      NaN      NaN   \n",
        "623      NaN       NaN      NaN      NaN       NaN      NaN      NaN   \n",
        "624      NaN       NaN      NaN      NaN       NaN      NaN      NaN   \n",
        "625      NaN       NaN      NaN      NaN       NaN      NaN      NaN   \n",
        "630      NaN       NaN      NaN      NaN       NaN      NaN      NaN   \n",
        "631      NaN       NaN      NaN      NaN       NaN      NaN      NaN   \n",
        "632      NaN       NaN      NaN      NaN       NaN      NaN      NaN   \n",
        "636      NaN       NaN      NaN      NaN       NaN      NaN      NaN   \n",
        "637      NaN       NaN      NaN      NaN       NaN      NaN      NaN   \n",
        "639      NaN       NaN      NaN      NaN       NaN      NaN      NaN   \n",
        "641      NaN       NaN      NaN      NaN       NaN      NaN      NaN   \n",
        "650      NaN       NaN      NaN      NaN       NaN      NaN      NaN   \n",
        "652      NaN       NaN      NaN      NaN       NaN      NaN      NaN   \n",
        "655      NaN       NaN      NaN      NaN       NaN      NaN      NaN   \n",
        "656      NaN       NaN      NaN      NaN       NaN      NaN      NaN   \n",
        "658  367.863  0.040951  164.116  367.863  0.040824  164.119  369.994   \n",
        "663      NaN       NaN      NaN      NaN       NaN      NaN      NaN   \n",
        "667      NaN       NaN      NaN      NaN       NaN      NaN      NaN   \n",
        "675      NaN       NaN      NaN      NaN       NaN      NaN      NaN   \n",
        "\n",
        "         5128  mel_prob  \n",
        "5         NaN      0.12  \n",
        "7         NaN      0.13  \n",
        "8         NaN      0.12  \n",
        "11        NaN      0.20  \n",
        "13        NaN      0.39  \n",
        "16        NaN      0.19  \n",
        "21        NaN      0.26  \n",
        "22        NaN      0.12  \n",
        "24        NaN      0.27  \n",
        "26        NaN      0.22  \n",
        "28        NaN      0.23  \n",
        "30        NaN      0.12  \n",
        "33        NaN      0.38  \n",
        "35        NaN      0.14  \n",
        "37        NaN      0.11  \n",
        "39        NaN      0.17  \n",
        "41        NaN      0.10  \n",
        "42        NaN      0.13  \n",
        "44        NaN      0.13  \n",
        "45        NaN      0.83  \n",
        "50        NaN      0.11  \n",
        "51        NaN      0.12  \n",
        "52        NaN      0.93  \n",
        "53        NaN      0.11  \n",
        "54        NaN      0.90  \n",
        "55        NaN      0.20  \n",
        "56        NaN      0.15  \n",
        "57        NaN      0.49  \n",
        "58        NaN      0.13  \n",
        "60        NaN      0.30  \n",
        "..        ...       ...  \n",
        "593       NaN      0.10  \n",
        "594       NaN      0.64  \n",
        "596       NaN      0.34  \n",
        "598       NaN      0.31  \n",
        "604       NaN      0.56  \n",
        "606       NaN      0.10  \n",
        "607       NaN      0.79  \n",
        "609       NaN      0.66  \n",
        "613       NaN      0.10  \n",
        "615       NaN      0.56  \n",
        "618       NaN      0.42  \n",
        "621       NaN      0.11  \n",
        "623       NaN      0.78  \n",
        "624       NaN      0.13  \n",
        "625       NaN      0.62  \n",
        "630       NaN      0.21  \n",
        "631       NaN      0.13  \n",
        "632       NaN      0.15  \n",
        "636       NaN      0.10  \n",
        "637       NaN      0.15  \n",
        "639       NaN      0.16  \n",
        "641       NaN      0.58  \n",
        "650       NaN      0.16  \n",
        "652       NaN      0.73  \n",
        "655       NaN      0.86  \n",
        "656       NaN      0.27  \n",
        "658  0.040881      0.78  \n",
        "663       NaN      0.19  \n",
        "667       NaN      0.13  \n",
        "675       NaN      0.10  \n",
        "\n",
        "[337 rows x 5128 columns]\n"
       ]
      }
     ],
     "prompt_number": 366
    },
    {
     "cell_type": "code",
     "collapsed": false,
     "input": [
      "mel_dat = pd.DataFrame(columns=['time','f0', 'probability'])\n",
      "ct = contour_candidates.iloc[:, 12:-1:3]\n",
      "cf = contour_candidates.iloc[:, 13:-1:3]\n",
      "probs = contour_candidates['mel_prob']\n",
      "\n",
      "step_size = 128/44100.0\n",
      "\n",
      "n_cols = ct.shape[1]\n",
      "cp = pd.concat([probs]*n_cols, axis=1, ignore_index=True)\n",
      "\n",
      "mel_dat['time'] = ct.values.ravel()\n",
      "mel_dat['f0'] = cf.values.ravel()\n",
      "mel_dat['probability'] = cp.values.ravel()\n",
      "\n",
      "\n",
      "mel_dat.dropna(inplace=True)\n",
      "mel_dat.sort(columns='probability', inplace=True)\n",
      "mel_dat.sort(columns='time', inplace=True)\n",
      "\n",
      "mel_time_idx = np.arange(0, np.max(mel_dat['time'].values) + 1, step_size)\n",
      "mel_output = pd.Series(np.zeros(mel_time_idx.shape), index=mel_time_idx)\n",
      "\n",
      "old_times = mel_dat['time'].values\n",
      "reidx = np.searchsorted(mel_time_idx, old_times)\n",
      "shift_idx = (np.abs(old_times - mel_time_idx[reidx - 1]) < np.abs(old_times - mel_time_idx[reidx]))\n",
      "reidx[shift_idx] = reidx[shift_idx] - 1\n",
      "\n",
      "mel_dat['reidx'] = reidx\n",
      "\n",
      "mel_dat.drop_duplicates(subset='reidx', take_last=True, inplace=True)\n",
      "\n",
      "mel_output.iloc[mel_dat['reidx']] = mel_dat['f0'].values\n",
      "\n",
      "plt.plot(mel_output.index, mel_output.values, ',')\n",
      "plt.show()\n",
      "# mel_output.to_csv('/Users/rachelbittner/Desktop/mel_out2.csv', header=False)\n",
      "\n",
      "print mel_dat.shape\n",
      "print mel_dat_nodoubles.shape"
     ],
     "language": "python",
     "metadata": {},
     "outputs": [
      {
       "metadata": {},
       "output_type": "display_data",
       "png": "[encoded data removed]",
       "text": [
        "<matplotlib.figure.Figure at 0x11d878690>"
       ]
      },
      {
       "output_type": "stream",
       "stream": "stdout",
       "text": [
        "(44403, 4)\n",
        "(44403, 5)\n"
       ]
      }
     ],
     "prompt_number": 384
    },
    {
     "cell_type": "code",
     "collapsed": false,
     "input": [
      "ct, _, _ = cc.contours_from_contour_data(contour_candidates)\n",
      "\n",
      "del ct['mel_prob']\n",
      "\n",
      "all_time_stamps = sorted(ct.values.ravel())\n",
      "max_time_stamp = np.max(np.array(all_time_stamps)[~np.isnan(all_time_stamps)])\n",
      "\n",
      "time_stamps = pd.Series(all_time_stamps).unique()\n",
      "time_stamps = pd.to_datetime(sorted(time_stamps[~np.isnan(time_stamps)]), unit='s')\n",
      "\n",
      "step_size = 128/44100.0\n",
      "print max_time_stamp"
     ],
     "language": "python",
     "metadata": {},
     "outputs": [
      {
       "output_type": "stream",
       "stream": "stdout",
       "text": [
        "164.119\n"
       ]
      }
     ],
     "prompt_number": 226
    },
    {
     "cell_type": "code",
     "collapsed": false,
     "input": [
      "mel_time_idx = pd.to_datetime(np.arange(0, max_time_stamp, step_size), unit='s')\n",
      "mel_output = pd.Series(np.zeros(mel_time_idx.shape), index=mel_time_idx)\n",
      "print mel_output.index"
     ],
     "language": "python",
     "metadata": {},
     "outputs": [
      {
       "output_type": "stream",
       "stream": "stdout",
       "text": [
        "<class 'pandas.tseries.index.DatetimeIndex'>\n",
        "[1970-01-01 00:00:00, ..., 1970-01-01 00:02:44.118639]\n",
        "Length: 56545, Freq: None, Timezone: None\n"
       ]
      }
     ],
     "prompt_number": 227
    },
    {
     "cell_type": "code",
     "collapsed": false,
     "input": [
      "print time_stamps.values[0:5]\n",
      "contour_candidates"
     ],
     "language": "python",
     "metadata": {},
     "outputs": [
      {
       "output_type": "stream",
       "stream": "stdout",
       "text": [
        "['1969-12-31T19:00:26.485300000-0500' '1969-12-31T19:00:26.488200000-0500'\n",
        " '1969-12-31T19:00:26.491100000-0500' '1969-12-31T19:00:26.494000000-0500'\n",
        " '1969-12-31T19:00:26.496900000-0500']\n"
       ]
      },
      {
       "html": [
        "<div style=\"max-height:1000px;max-width:1500px;overflow:auto;\">\n",
        "<table border=\"1\" class=\"dataframe\">\n",
        "  <thead>\n",
        "    <tr style=\"text-align: right;\">\n",
        "      <th></th>\n",
        "      <th>onset</th>\n",
        "      <th>offset</th>\n",
        "      <th>duration</th>\n",
        "      <th>pitch mean</th>\n",
        "      <th>pitch std</th>\n",
        "      <th>salience mean</th>\n",
        "      <th>salience std</th>\n",
        "      <th>salience tot</th>\n",
        "      <th>vibrato</th>\n",
        "      <th>vib rate</th>\n",
        "      <th>...</th>\n",
        "      <th>5120</th>\n",
        "      <th>5121</th>\n",
        "      <th>5122</th>\n",
        "      <th>5123</th>\n",
        "      <th>5124</th>\n",
        "      <th>5125</th>\n",
        "      <th>5126</th>\n",
        "      <th>5127</th>\n",
        "      <th>5128</th>\n",
        "      <th>mel_prob</th>\n",
        "    </tr>\n",
        "  </thead>\n",
        "  <tbody>\n",
        "    <tr>\n",
        "      <th>45</th>\n",
        "      <td>26.4853</td>\n",
        "      <td>28.6273</td>\n",
        "      <td>2.144940</td>\n",
        "      <td>2393.27</td>\n",
        "      <td>58.5790</td>\n",
        "      <td>0.069327</td>\n",
        "      <td>0.022314</td>\n",
        "      <td>51.23280</td>\n",
        "      <td>1</td>\n",
        "      <td>6.42213</td>\n",
        "      <td>...</td>\n",
        "      <td>NaN</td>\n",
        "      <td>NaN</td>\n",
        "      <td>NaN</td>\n",
        "      <td>NaN</td>\n",
        "      <td>NaN</td>\n",
        "      <td>NaN</td>\n",
        "      <td>NaN</td>\n",
        "      <td>NaN</td>\n",
        "      <td>NaN</td>\n",
        "      <td>0.83</td>\n",
        "    </tr>\n",
        "    <tr>\n",
        "      <th>52</th>\n",
        "      <td>28.9930</td>\n",
        "      <td>29.7070</td>\n",
        "      <td>0.716916</td>\n",
        "      <td>2580.16</td>\n",
        "      <td>96.0177</td>\n",
        "      <td>0.066986</td>\n",
        "      <td>0.025483</td>\n",
        "      <td>16.54570</td>\n",
        "      <td>1</td>\n",
        "      <td>5.96753</td>\n",
        "      <td>...</td>\n",
        "      <td>NaN</td>\n",
        "      <td>NaN</td>\n",
        "      <td>NaN</td>\n",
        "      <td>NaN</td>\n",
        "      <td>NaN</td>\n",
        "      <td>NaN</td>\n",
        "      <td>NaN</td>\n",
        "      <td>NaN</td>\n",
        "      <td>NaN</td>\n",
        "      <td>0.93</td>\n",
        "    </tr>\n",
        "    <tr>\n",
        "      <th>54</th>\n",
        "      <td>29.8144</td>\n",
        "      <td>31.1089</td>\n",
        "      <td>1.297420</td>\n",
        "      <td>2537.32</td>\n",
        "      <td>74.9613</td>\n",
        "      <td>0.076501</td>\n",
        "      <td>0.022031</td>\n",
        "      <td>34.19590</td>\n",
        "      <td>1</td>\n",
        "      <td>6.13337</td>\n",
        "      <td>...</td>\n",
        "      <td>NaN</td>\n",
        "      <td>NaN</td>\n",
        "      <td>NaN</td>\n",
        "      <td>NaN</td>\n",
        "      <td>NaN</td>\n",
        "      <td>NaN</td>\n",
        "      <td>NaN</td>\n",
        "      <td>NaN</td>\n",
        "      <td>NaN</td>\n",
        "      <td>0.90</td>\n",
        "    </tr>\n",
        "    <tr>\n",
        "      <th>79</th>\n",
        "      <td>37.7092</td>\n",
        "      <td>38.5683</td>\n",
        "      <td>0.862041</td>\n",
        "      <td>2391.65</td>\n",
        "      <td>49.0891</td>\n",
        "      <td>0.062460</td>\n",
        "      <td>0.017235</td>\n",
        "      <td>18.55060</td>\n",
        "      <td>1</td>\n",
        "      <td>6.62908</td>\n",
        "      <td>...</td>\n",
        "      <td>NaN</td>\n",
        "      <td>NaN</td>\n",
        "      <td>NaN</td>\n",
        "      <td>NaN</td>\n",
        "      <td>NaN</td>\n",
        "      <td>NaN</td>\n",
        "      <td>NaN</td>\n",
        "      <td>NaN</td>\n",
        "      <td>NaN</td>\n",
        "      <td>0.88</td>\n",
        "    </tr>\n",
        "    <tr>\n",
        "      <th>87</th>\n",
        "      <td>40.0863</td>\n",
        "      <td>41.0674</td>\n",
        "      <td>0.983946</td>\n",
        "      <td>2586.25</td>\n",
        "      <td>43.3121</td>\n",
        "      <td>0.086613</td>\n",
        "      <td>0.015521</td>\n",
        "      <td>29.36180</td>\n",
        "      <td>1</td>\n",
        "      <td>6.53695</td>\n",
        "      <td>...</td>\n",
        "      <td>NaN</td>\n",
        "      <td>NaN</td>\n",
        "      <td>NaN</td>\n",
        "      <td>NaN</td>\n",
        "      <td>NaN</td>\n",
        "      <td>NaN</td>\n",
        "      <td>NaN</td>\n",
        "      <td>NaN</td>\n",
        "      <td>NaN</td>\n",
        "      <td>0.61</td>\n",
        "    </tr>\n",
        "    <tr>\n",
        "      <th>94</th>\n",
        "      <td>41.7234</td>\n",
        "      <td>42.3967</td>\n",
        "      <td>0.676281</td>\n",
        "      <td>2657.17</td>\n",
        "      <td>73.2662</td>\n",
        "      <td>0.090790</td>\n",
        "      <td>0.017741</td>\n",
        "      <td>21.15400</td>\n",
        "      <td>1</td>\n",
        "      <td>6.34870</td>\n",
        "      <td>...</td>\n",
        "      <td>NaN</td>\n",
        "      <td>NaN</td>\n",
        "      <td>NaN</td>\n",
        "      <td>NaN</td>\n",
        "      <td>NaN</td>\n",
        "      <td>NaN</td>\n",
        "      <td>NaN</td>\n",
        "      <td>NaN</td>\n",
        "      <td>NaN</td>\n",
        "      <td>0.65</td>\n",
        "    </tr>\n",
        "    <tr>\n",
        "      <th>104</th>\n",
        "      <td>45.0206</td>\n",
        "      <td>45.9987</td>\n",
        "      <td>0.981043</td>\n",
        "      <td>3431.48</td>\n",
        "      <td>182.1670</td>\n",
        "      <td>0.126815</td>\n",
        "      <td>0.041771</td>\n",
        "      <td>42.86350</td>\n",
        "      <td>0</td>\n",
        "      <td>0.00000</td>\n",
        "      <td>...</td>\n",
        "      <td>NaN</td>\n",
        "      <td>NaN</td>\n",
        "      <td>NaN</td>\n",
        "      <td>NaN</td>\n",
        "      <td>NaN</td>\n",
        "      <td>NaN</td>\n",
        "      <td>NaN</td>\n",
        "      <td>NaN</td>\n",
        "      <td>NaN</td>\n",
        "      <td>0.58</td>\n",
        "    </tr>\n",
        "    <tr>\n",
        "      <th>107</th>\n",
        "      <td>46.1613</td>\n",
        "      <td>46.7185</td>\n",
        "      <td>0.560181</td>\n",
        "      <td>3065.39</td>\n",
        "      <td>62.1212</td>\n",
        "      <td>0.075360</td>\n",
        "      <td>0.013022</td>\n",
        "      <td>14.54450</td>\n",
        "      <td>1</td>\n",
        "      <td>6.51698</td>\n",
        "      <td>...</td>\n",
        "      <td>NaN</td>\n",
        "      <td>NaN</td>\n",
        "      <td>NaN</td>\n",
        "      <td>NaN</td>\n",
        "      <td>NaN</td>\n",
        "      <td>NaN</td>\n",
        "      <td>NaN</td>\n",
        "      <td>NaN</td>\n",
        "      <td>NaN</td>\n",
        "      <td>0.76</td>\n",
        "    </tr>\n",
        "    <tr>\n",
        "      <th>114</th>\n",
        "      <td>48.2656</td>\n",
        "      <td>49.0899</td>\n",
        "      <td>0.827211</td>\n",
        "      <td>3084.11</td>\n",
        "      <td>39.8549</td>\n",
        "      <td>0.073914</td>\n",
        "      <td>0.015230</td>\n",
        "      <td>21.06560</td>\n",
        "      <td>1</td>\n",
        "      <td>6.55529</td>\n",
        "      <td>...</td>\n",
        "      <td>NaN</td>\n",
        "      <td>NaN</td>\n",
        "      <td>NaN</td>\n",
        "      <td>NaN</td>\n",
        "      <td>NaN</td>\n",
        "      <td>NaN</td>\n",
        "      <td>NaN</td>\n",
        "      <td>NaN</td>\n",
        "      <td>NaN</td>\n",
        "      <td>0.68</td>\n",
        "    </tr>\n",
        "    <tr>\n",
        "      <th>125</th>\n",
        "      <td>50.3815</td>\n",
        "      <td>50.7878</td>\n",
        "      <td>0.409252</td>\n",
        "      <td>3234.96</td>\n",
        "      <td>84.8915</td>\n",
        "      <td>0.119740</td>\n",
        "      <td>0.050773</td>\n",
        "      <td>16.88330</td>\n",
        "      <td>1</td>\n",
        "      <td>7.83733</td>\n",
        "      <td>...</td>\n",
        "      <td>NaN</td>\n",
        "      <td>NaN</td>\n",
        "      <td>NaN</td>\n",
        "      <td>NaN</td>\n",
        "      <td>NaN</td>\n",
        "      <td>NaN</td>\n",
        "      <td>NaN</td>\n",
        "      <td>NaN</td>\n",
        "      <td>NaN</td>\n",
        "      <td>0.56</td>\n",
        "    </tr>\n",
        "    <tr>\n",
        "      <th>135</th>\n",
        "      <td>52.7586</td>\n",
        "      <td>53.2201</td>\n",
        "      <td>0.464399</td>\n",
        "      <td>2622.06</td>\n",
        "      <td>98.2159</td>\n",
        "      <td>0.074504</td>\n",
        "      <td>0.009632</td>\n",
        "      <td>11.92070</td>\n",
        "      <td>1</td>\n",
        "      <td>7.00525</td>\n",
        "      <td>...</td>\n",
        "      <td>NaN</td>\n",
        "      <td>NaN</td>\n",
        "      <td>NaN</td>\n",
        "      <td>NaN</td>\n",
        "      <td>NaN</td>\n",
        "      <td>NaN</td>\n",
        "      <td>NaN</td>\n",
        "      <td>NaN</td>\n",
        "      <td>NaN</td>\n",
        "      <td>0.81</td>\n",
        "    </tr>\n",
        "    <tr>\n",
        "      <th>136</th>\n",
        "      <td>53.2492</td>\n",
        "      <td>53.6584</td>\n",
        "      <td>0.412154</td>\n",
        "      <td>2835.42</td>\n",
        "      <td>163.5330</td>\n",
        "      <td>0.089403</td>\n",
        "      <td>0.050070</td>\n",
        "      <td>12.69520</td>\n",
        "      <td>0</td>\n",
        "      <td>0.00000</td>\n",
        "      <td>...</td>\n",
        "      <td>NaN</td>\n",
        "      <td>NaN</td>\n",
        "      <td>NaN</td>\n",
        "      <td>NaN</td>\n",
        "      <td>NaN</td>\n",
        "      <td>NaN</td>\n",
        "      <td>NaN</td>\n",
        "      <td>NaN</td>\n",
        "      <td>NaN</td>\n",
        "      <td>0.56</td>\n",
        "    </tr>\n",
        "    <tr>\n",
        "      <th>139</th>\n",
        "      <td>53.9400</td>\n",
        "      <td>54.2883</td>\n",
        "      <td>0.351202</td>\n",
        "      <td>3189.83</td>\n",
        "      <td>85.0083</td>\n",
        "      <td>0.093972</td>\n",
        "      <td>0.041126</td>\n",
        "      <td>11.37060</td>\n",
        "      <td>0</td>\n",
        "      <td>0.00000</td>\n",
        "      <td>...</td>\n",
        "      <td>NaN</td>\n",
        "      <td>NaN</td>\n",
        "      <td>NaN</td>\n",
        "      <td>NaN</td>\n",
        "      <td>NaN</td>\n",
        "      <td>NaN</td>\n",
        "      <td>NaN</td>\n",
        "      <td>NaN</td>\n",
        "      <td>NaN</td>\n",
        "      <td>0.70</td>\n",
        "    </tr>\n",
        "    <tr>\n",
        "      <th>148</th>\n",
        "      <td>55.7714</td>\n",
        "      <td>56.1342</td>\n",
        "      <td>0.365714</td>\n",
        "      <td>3032.70</td>\n",
        "      <td>60.6239</td>\n",
        "      <td>0.080249</td>\n",
        "      <td>0.018934</td>\n",
        "      <td>10.11140</td>\n",
        "      <td>1</td>\n",
        "      <td>7.95792</td>\n",
        "      <td>...</td>\n",
        "      <td>NaN</td>\n",
        "      <td>NaN</td>\n",
        "      <td>NaN</td>\n",
        "      <td>NaN</td>\n",
        "      <td>NaN</td>\n",
        "      <td>NaN</td>\n",
        "      <td>NaN</td>\n",
        "      <td>NaN</td>\n",
        "      <td>NaN</td>\n",
        "      <td>0.71</td>\n",
        "    </tr>\n",
        "    <tr>\n",
        "      <th>157</th>\n",
        "      <td>57.0572</td>\n",
        "      <td>57.2198</td>\n",
        "      <td>0.165442</td>\n",
        "      <td>3558.95</td>\n",
        "      <td>36.0645</td>\n",
        "      <td>0.100840</td>\n",
        "      <td>0.029890</td>\n",
        "      <td>5.74786</td>\n",
        "      <td>0</td>\n",
        "      <td>0.00000</td>\n",
        "      <td>...</td>\n",
        "      <td>NaN</td>\n",
        "      <td>NaN</td>\n",
        "      <td>NaN</td>\n",
        "      <td>NaN</td>\n",
        "      <td>NaN</td>\n",
        "      <td>NaN</td>\n",
        "      <td>NaN</td>\n",
        "      <td>NaN</td>\n",
        "      <td>NaN</td>\n",
        "      <td>0.53</td>\n",
        "    </tr>\n",
        "    <tr>\n",
        "      <th>170</th>\n",
        "      <td>60.0874</td>\n",
        "      <td>60.3109</td>\n",
        "      <td>0.226395</td>\n",
        "      <td>3238.97</td>\n",
        "      <td>71.2991</td>\n",
        "      <td>0.104228</td>\n",
        "      <td>0.022878</td>\n",
        "      <td>8.12982</td>\n",
        "      <td>0</td>\n",
        "      <td>0.00000</td>\n",
        "      <td>...</td>\n",
        "      <td>NaN</td>\n",
        "      <td>NaN</td>\n",
        "      <td>NaN</td>\n",
        "      <td>NaN</td>\n",
        "      <td>NaN</td>\n",
        "      <td>NaN</td>\n",
        "      <td>NaN</td>\n",
        "      <td>NaN</td>\n",
        "      <td>NaN</td>\n",
        "      <td>0.53</td>\n",
        "    </tr>\n",
        "    <tr>\n",
        "      <th>176</th>\n",
        "      <td>61.1294</td>\n",
        "      <td>61.4864</td>\n",
        "      <td>0.359909</td>\n",
        "      <td>2764.52</td>\n",
        "      <td>72.5943</td>\n",
        "      <td>0.061758</td>\n",
        "      <td>0.012327</td>\n",
        "      <td>7.65794</td>\n",
        "      <td>1</td>\n",
        "      <td>7.69485</td>\n",
        "      <td>...</td>\n",
        "      <td>NaN</td>\n",
        "      <td>NaN</td>\n",
        "      <td>NaN</td>\n",
        "      <td>NaN</td>\n",
        "      <td>NaN</td>\n",
        "      <td>NaN</td>\n",
        "      <td>NaN</td>\n",
        "      <td>NaN</td>\n",
        "      <td>NaN</td>\n",
        "      <td>0.79</td>\n",
        "    </tr>\n",
        "    <tr>\n",
        "      <th>180</th>\n",
        "      <td>61.7738</td>\n",
        "      <td>62.6649</td>\n",
        "      <td>0.893968</td>\n",
        "      <td>2674.45</td>\n",
        "      <td>121.5540</td>\n",
        "      <td>0.065370</td>\n",
        "      <td>0.024879</td>\n",
        "      <td>20.13410</td>\n",
        "      <td>0</td>\n",
        "      <td>0.00000</td>\n",
        "      <td>...</td>\n",
        "      <td>NaN</td>\n",
        "      <td>NaN</td>\n",
        "      <td>NaN</td>\n",
        "      <td>NaN</td>\n",
        "      <td>NaN</td>\n",
        "      <td>NaN</td>\n",
        "      <td>NaN</td>\n",
        "      <td>NaN</td>\n",
        "      <td>NaN</td>\n",
        "      <td>0.52</td>\n",
        "    </tr>\n",
        "    <tr>\n",
        "      <th>192</th>\n",
        "      <td>63.6082</td>\n",
        "      <td>64.1422</td>\n",
        "      <td>0.536961</td>\n",
        "      <td>3324.16</td>\n",
        "      <td>96.1220</td>\n",
        "      <td>0.104218</td>\n",
        "      <td>0.032467</td>\n",
        "      <td>19.28030</td>\n",
        "      <td>0</td>\n",
        "      <td>0.00000</td>\n",
        "      <td>...</td>\n",
        "      <td>NaN</td>\n",
        "      <td>NaN</td>\n",
        "      <td>NaN</td>\n",
        "      <td>NaN</td>\n",
        "      <td>NaN</td>\n",
        "      <td>NaN</td>\n",
        "      <td>NaN</td>\n",
        "      <td>NaN</td>\n",
        "      <td>NaN</td>\n",
        "      <td>0.61</td>\n",
        "    </tr>\n",
        "    <tr>\n",
        "      <th>194</th>\n",
        "      <td>64.1916</td>\n",
        "      <td>65.2887</td>\n",
        "      <td>1.100050</td>\n",
        "      <td>3323.64</td>\n",
        "      <td>138.7940</td>\n",
        "      <td>0.096586</td>\n",
        "      <td>0.034246</td>\n",
        "      <td>36.60590</td>\n",
        "      <td>1</td>\n",
        "      <td>6.74839</td>\n",
        "      <td>...</td>\n",
        "      <td>NaN</td>\n",
        "      <td>NaN</td>\n",
        "      <td>NaN</td>\n",
        "      <td>NaN</td>\n",
        "      <td>NaN</td>\n",
        "      <td>NaN</td>\n",
        "      <td>NaN</td>\n",
        "      <td>NaN</td>\n",
        "      <td>NaN</td>\n",
        "      <td>0.74</td>\n",
        "    </tr>\n",
        "    <tr>\n",
        "      <th>198</th>\n",
        "      <td>65.4164</td>\n",
        "      <td>66.4990</td>\n",
        "      <td>1.085530</td>\n",
        "      <td>3033.13</td>\n",
        "      <td>75.3537</td>\n",
        "      <td>0.080699</td>\n",
        "      <td>0.032405</td>\n",
        "      <td>30.18150</td>\n",
        "      <td>1</td>\n",
        "      <td>6.76924</td>\n",
        "      <td>...</td>\n",
        "      <td>NaN</td>\n",
        "      <td>NaN</td>\n",
        "      <td>NaN</td>\n",
        "      <td>NaN</td>\n",
        "      <td>NaN</td>\n",
        "      <td>NaN</td>\n",
        "      <td>NaN</td>\n",
        "      <td>NaN</td>\n",
        "      <td>NaN</td>\n",
        "      <td>0.92</td>\n",
        "    </tr>\n",
        "    <tr>\n",
        "      <th>204</th>\n",
        "      <td>66.6035</td>\n",
        "      <td>67.6920</td>\n",
        "      <td>1.091340</td>\n",
        "      <td>2801.52</td>\n",
        "      <td>115.6480</td>\n",
        "      <td>0.061992</td>\n",
        "      <td>0.021468</td>\n",
        "      <td>23.30920</td>\n",
        "      <td>1</td>\n",
        "      <td>6.06945</td>\n",
        "      <td>...</td>\n",
        "      <td>NaN</td>\n",
        "      <td>NaN</td>\n",
        "      <td>NaN</td>\n",
        "      <td>NaN</td>\n",
        "      <td>NaN</td>\n",
        "      <td>NaN</td>\n",
        "      <td>NaN</td>\n",
        "      <td>NaN</td>\n",
        "      <td>NaN</td>\n",
        "      <td>0.93</td>\n",
        "    </tr>\n",
        "    <tr>\n",
        "      <th>223</th>\n",
        "      <td>72.2953</td>\n",
        "      <td>73.0790</td>\n",
        "      <td>0.786576</td>\n",
        "      <td>2326.46</td>\n",
        "      <td>89.8420</td>\n",
        "      <td>0.079276</td>\n",
        "      <td>0.016640</td>\n",
        "      <td>21.48380</td>\n",
        "      <td>0</td>\n",
        "      <td>0.00000</td>\n",
        "      <td>...</td>\n",
        "      <td>NaN</td>\n",
        "      <td>NaN</td>\n",
        "      <td>NaN</td>\n",
        "      <td>NaN</td>\n",
        "      <td>NaN</td>\n",
        "      <td>NaN</td>\n",
        "      <td>NaN</td>\n",
        "      <td>NaN</td>\n",
        "      <td>NaN</td>\n",
        "      <td>0.58</td>\n",
        "    </tr>\n",
        "    <tr>\n",
        "      <th>227</th>\n",
        "      <td>73.3402</td>\n",
        "      <td>74.2980</td>\n",
        "      <td>0.960726</td>\n",
        "      <td>2387.13</td>\n",
        "      <td>78.2315</td>\n",
        "      <td>0.069025</td>\n",
        "      <td>0.024754</td>\n",
        "      <td>22.84740</td>\n",
        "      <td>1</td>\n",
        "      <td>6.34674</td>\n",
        "      <td>...</td>\n",
        "      <td>NaN</td>\n",
        "      <td>NaN</td>\n",
        "      <td>NaN</td>\n",
        "      <td>NaN</td>\n",
        "      <td>NaN</td>\n",
        "      <td>NaN</td>\n",
        "      <td>NaN</td>\n",
        "      <td>NaN</td>\n",
        "      <td>NaN</td>\n",
        "      <td>0.95</td>\n",
        "    </tr>\n",
        "    <tr>\n",
        "      <th>243</th>\n",
        "      <td>76.8610</td>\n",
        "      <td>77.2209</td>\n",
        "      <td>0.362812</td>\n",
        "      <td>2578.40</td>\n",
        "      <td>49.2893</td>\n",
        "      <td>0.089515</td>\n",
        "      <td>0.017927</td>\n",
        "      <td>11.18940</td>\n",
        "      <td>1</td>\n",
        "      <td>5.71999</td>\n",
        "      <td>...</td>\n",
        "      <td>NaN</td>\n",
        "      <td>NaN</td>\n",
        "      <td>NaN</td>\n",
        "      <td>NaN</td>\n",
        "      <td>NaN</td>\n",
        "      <td>NaN</td>\n",
        "      <td>NaN</td>\n",
        "      <td>NaN</td>\n",
        "      <td>NaN</td>\n",
        "      <td>0.54</td>\n",
        "    </tr>\n",
        "    <tr>\n",
        "      <th>271</th>\n",
        "      <td>82.3699</td>\n",
        "      <td>83.2929</td>\n",
        "      <td>0.925896</td>\n",
        "      <td>2406.71</td>\n",
        "      <td>31.0144</td>\n",
        "      <td>0.063259</td>\n",
        "      <td>0.026312</td>\n",
        "      <td>20.17950</td>\n",
        "      <td>1</td>\n",
        "      <td>6.95579</td>\n",
        "      <td>...</td>\n",
        "      <td>NaN</td>\n",
        "      <td>NaN</td>\n",
        "      <td>NaN</td>\n",
        "      <td>NaN</td>\n",
        "      <td>NaN</td>\n",
        "      <td>NaN</td>\n",
        "      <td>NaN</td>\n",
        "      <td>NaN</td>\n",
        "      <td>NaN</td>\n",
        "      <td>0.66</td>\n",
        "    </tr>\n",
        "    <tr>\n",
        "      <th>275</th>\n",
        "      <td>83.3219</td>\n",
        "      <td>84.0388</td>\n",
        "      <td>0.719819</td>\n",
        "      <td>2386.73</td>\n",
        "      <td>44.4978</td>\n",
        "      <td>0.059435</td>\n",
        "      <td>0.020082</td>\n",
        "      <td>14.73990</td>\n",
        "      <td>1</td>\n",
        "      <td>5.85260</td>\n",
        "      <td>...</td>\n",
        "      <td>NaN</td>\n",
        "      <td>NaN</td>\n",
        "      <td>NaN</td>\n",
        "      <td>NaN</td>\n",
        "      <td>NaN</td>\n",
        "      <td>NaN</td>\n",
        "      <td>NaN</td>\n",
        "      <td>NaN</td>\n",
        "      <td>NaN</td>\n",
        "      <td>0.73</td>\n",
        "    </tr>\n",
        "    <tr>\n",
        "      <th>298</th>\n",
        "      <td>87.5566</td>\n",
        "      <td>88.1807</td>\n",
        "      <td>0.626939</td>\n",
        "      <td>2619.58</td>\n",
        "      <td>93.0716</td>\n",
        "      <td>0.080606</td>\n",
        "      <td>0.018113</td>\n",
        "      <td>17.41090</td>\n",
        "      <td>1</td>\n",
        "      <td>6.45569</td>\n",
        "      <td>...</td>\n",
        "      <td>NaN</td>\n",
        "      <td>NaN</td>\n",
        "      <td>NaN</td>\n",
        "      <td>NaN</td>\n",
        "      <td>NaN</td>\n",
        "      <td>NaN</td>\n",
        "      <td>NaN</td>\n",
        "      <td>NaN</td>\n",
        "      <td>NaN</td>\n",
        "      <td>0.88</td>\n",
        "    </tr>\n",
        "    <tr>\n",
        "      <th>300</th>\n",
        "      <td>88.2271</td>\n",
        "      <td>90.3314</td>\n",
        "      <td>2.107210</td>\n",
        "      <td>2602.59</td>\n",
        "      <td>49.4450</td>\n",
        "      <td>0.087814</td>\n",
        "      <td>0.027250</td>\n",
        "      <td>63.75290</td>\n",
        "      <td>1</td>\n",
        "      <td>5.92062</td>\n",
        "      <td>...</td>\n",
        "      <td>NaN</td>\n",
        "      <td>NaN</td>\n",
        "      <td>NaN</td>\n",
        "      <td>NaN</td>\n",
        "      <td>NaN</td>\n",
        "      <td>NaN</td>\n",
        "      <td>NaN</td>\n",
        "      <td>NaN</td>\n",
        "      <td>NaN</td>\n",
        "      <td>0.67</td>\n",
        "    </tr>\n",
        "    <tr>\n",
        "      <th>309</th>\n",
        "      <td>90.8074</td>\n",
        "      <td>91.5215</td>\n",
        "      <td>0.716916</td>\n",
        "      <td>3431.74</td>\n",
        "      <td>470.4940</td>\n",
        "      <td>0.096443</td>\n",
        "      <td>0.046154</td>\n",
        "      <td>23.82140</td>\n",
        "      <td>0</td>\n",
        "      <td>0.00000</td>\n",
        "      <td>...</td>\n",
        "      <td>NaN</td>\n",
        "      <td>NaN</td>\n",
        "      <td>NaN</td>\n",
        "      <td>NaN</td>\n",
        "      <td>NaN</td>\n",
        "      <td>NaN</td>\n",
        "      <td>NaN</td>\n",
        "      <td>NaN</td>\n",
        "      <td>NaN</td>\n",
        "      <td>0.61</td>\n",
        "    </tr>\n",
        "    <tr>\n",
        "      <th>...</th>\n",
        "      <td>...</td>\n",
        "      <td>...</td>\n",
        "      <td>...</td>\n",
        "      <td>...</td>\n",
        "      <td>...</td>\n",
        "      <td>...</td>\n",
        "      <td>...</td>\n",
        "      <td>...</td>\n",
        "      <td>...</td>\n",
        "      <td>...</td>\n",
        "      <td>...</td>\n",
        "      <td>...</td>\n",
        "      <td>...</td>\n",
        "      <td>...</td>\n",
        "      <td>...</td>\n",
        "      <td>...</td>\n",
        "      <td>...</td>\n",
        "      <td>...</td>\n",
        "      <td>...</td>\n",
        "      <td>...</td>\n",
        "      <td>...</td>\n",
        "    </tr>\n",
        "    <tr>\n",
        "      <th>461</th>\n",
        "      <td>120.2710</td>\n",
        "      <td>120.9700</td>\n",
        "      <td>0.702404</td>\n",
        "      <td>2381.78</td>\n",
        "      <td>66.3928</td>\n",
        "      <td>0.045029</td>\n",
        "      <td>0.009254</td>\n",
        "      <td>10.89700</td>\n",
        "      <td>1</td>\n",
        "      <td>5.50696</td>\n",
        "      <td>...</td>\n",
        "      <td>NaN</td>\n",
        "      <td>NaN</td>\n",
        "      <td>NaN</td>\n",
        "      <td>NaN</td>\n",
        "      <td>NaN</td>\n",
        "      <td>NaN</td>\n",
        "      <td>NaN</td>\n",
        "      <td>NaN</td>\n",
        "      <td>NaN</td>\n",
        "      <td>0.92</td>\n",
        "    </tr>\n",
        "    <tr>\n",
        "      <th>478</th>\n",
        "      <td>126.2470</td>\n",
        "      <td>127.4660</td>\n",
        "      <td>1.221950</td>\n",
        "      <td>2152.61</td>\n",
        "      <td>88.7432</td>\n",
        "      <td>0.053287</td>\n",
        "      <td>0.014831</td>\n",
        "      <td>22.43390</td>\n",
        "      <td>0</td>\n",
        "      <td>0.00000</td>\n",
        "      <td>...</td>\n",
        "      <td>NaN</td>\n",
        "      <td>NaN</td>\n",
        "      <td>NaN</td>\n",
        "      <td>NaN</td>\n",
        "      <td>NaN</td>\n",
        "      <td>NaN</td>\n",
        "      <td>NaN</td>\n",
        "      <td>NaN</td>\n",
        "      <td>NaN</td>\n",
        "      <td>0.50</td>\n",
        "    </tr>\n",
        "    <tr>\n",
        "      <th>492</th>\n",
        "      <td>129.0250</td>\n",
        "      <td>129.6250</td>\n",
        "      <td>0.603719</td>\n",
        "      <td>2409.23</td>\n",
        "      <td>62.2834</td>\n",
        "      <td>0.103661</td>\n",
        "      <td>0.023729</td>\n",
        "      <td>21.56150</td>\n",
        "      <td>1</td>\n",
        "      <td>5.42810</td>\n",
        "      <td>...</td>\n",
        "      <td>NaN</td>\n",
        "      <td>NaN</td>\n",
        "      <td>NaN</td>\n",
        "      <td>NaN</td>\n",
        "      <td>NaN</td>\n",
        "      <td>NaN</td>\n",
        "      <td>NaN</td>\n",
        "      <td>NaN</td>\n",
        "      <td>NaN</td>\n",
        "      <td>0.71</td>\n",
        "    </tr>\n",
        "    <tr>\n",
        "      <th>494</th>\n",
        "      <td>129.9500</td>\n",
        "      <td>130.8620</td>\n",
        "      <td>0.914286</td>\n",
        "      <td>2411.05</td>\n",
        "      <td>48.4278</td>\n",
        "      <td>0.064262</td>\n",
        "      <td>0.018561</td>\n",
        "      <td>20.24250</td>\n",
        "      <td>1</td>\n",
        "      <td>6.29095</td>\n",
        "      <td>...</td>\n",
        "      <td>NaN</td>\n",
        "      <td>NaN</td>\n",
        "      <td>NaN</td>\n",
        "      <td>NaN</td>\n",
        "      <td>NaN</td>\n",
        "      <td>NaN</td>\n",
        "      <td>NaN</td>\n",
        "      <td>NaN</td>\n",
        "      <td>NaN</td>\n",
        "      <td>0.79</td>\n",
        "    </tr>\n",
        "    <tr>\n",
        "      <th>509</th>\n",
        "      <td>131.7300</td>\n",
        "      <td>132.3330</td>\n",
        "      <td>0.606621</td>\n",
        "      <td>2593.59</td>\n",
        "      <td>72.7192</td>\n",
        "      <td>0.074638</td>\n",
        "      <td>0.027340</td>\n",
        "      <td>15.59940</td>\n",
        "      <td>0</td>\n",
        "      <td>0.00000</td>\n",
        "      <td>...</td>\n",
        "      <td>NaN</td>\n",
        "      <td>NaN</td>\n",
        "      <td>NaN</td>\n",
        "      <td>NaN</td>\n",
        "      <td>NaN</td>\n",
        "      <td>NaN</td>\n",
        "      <td>NaN</td>\n",
        "      <td>NaN</td>\n",
        "      <td>NaN</td>\n",
        "      <td>0.60</td>\n",
        "    </tr>\n",
        "    <tr>\n",
        "      <th>513</th>\n",
        "      <td>132.8500</td>\n",
        "      <td>133.4100</td>\n",
        "      <td>0.563084</td>\n",
        "      <td>3911.34</td>\n",
        "      <td>114.4160</td>\n",
        "      <td>0.089913</td>\n",
        "      <td>0.028582</td>\n",
        "      <td>17.44320</td>\n",
        "      <td>0</td>\n",
        "      <td>0.00000</td>\n",
        "      <td>...</td>\n",
        "      <td>NaN</td>\n",
        "      <td>NaN</td>\n",
        "      <td>NaN</td>\n",
        "      <td>NaN</td>\n",
        "      <td>NaN</td>\n",
        "      <td>NaN</td>\n",
        "      <td>NaN</td>\n",
        "      <td>NaN</td>\n",
        "      <td>NaN</td>\n",
        "      <td>0.52</td>\n",
        "    </tr>\n",
        "    <tr>\n",
        "      <th>519</th>\n",
        "      <td>133.6660</td>\n",
        "      <td>134.4810</td>\n",
        "      <td>0.818503</td>\n",
        "      <td>2652.73</td>\n",
        "      <td>94.9169</td>\n",
        "      <td>0.075814</td>\n",
        "      <td>0.029651</td>\n",
        "      <td>21.37960</td>\n",
        "      <td>0</td>\n",
        "      <td>0.00000</td>\n",
        "      <td>...</td>\n",
        "      <td>NaN</td>\n",
        "      <td>NaN</td>\n",
        "      <td>NaN</td>\n",
        "      <td>NaN</td>\n",
        "      <td>NaN</td>\n",
        "      <td>NaN</td>\n",
        "      <td>NaN</td>\n",
        "      <td>NaN</td>\n",
        "      <td>NaN</td>\n",
        "      <td>0.53</td>\n",
        "    </tr>\n",
        "    <tr>\n",
        "      <th>528</th>\n",
        "      <td>135.0120</td>\n",
        "      <td>136.5570</td>\n",
        "      <td>1.547030</td>\n",
        "      <td>2590.19</td>\n",
        "      <td>53.2293</td>\n",
        "      <td>0.086080</td>\n",
        "      <td>0.016901</td>\n",
        "      <td>45.88060</td>\n",
        "      <td>1</td>\n",
        "      <td>6.30781</td>\n",
        "      <td>...</td>\n",
        "      <td>NaN</td>\n",
        "      <td>NaN</td>\n",
        "      <td>NaN</td>\n",
        "      <td>NaN</td>\n",
        "      <td>NaN</td>\n",
        "      <td>NaN</td>\n",
        "      <td>NaN</td>\n",
        "      <td>NaN</td>\n",
        "      <td>NaN</td>\n",
        "      <td>0.72</td>\n",
        "    </tr>\n",
        "    <tr>\n",
        "      <th>540</th>\n",
        "      <td>137.1020</td>\n",
        "      <td>137.8390</td>\n",
        "      <td>0.740136</td>\n",
        "      <td>3315.37</td>\n",
        "      <td>531.4080</td>\n",
        "      <td>0.123580</td>\n",
        "      <td>0.067205</td>\n",
        "      <td>31.51290</td>\n",
        "      <td>1</td>\n",
        "      <td>6.11904</td>\n",
        "      <td>...</td>\n",
        "      <td>NaN</td>\n",
        "      <td>NaN</td>\n",
        "      <td>NaN</td>\n",
        "      <td>NaN</td>\n",
        "      <td>NaN</td>\n",
        "      <td>NaN</td>\n",
        "      <td>NaN</td>\n",
        "      <td>NaN</td>\n",
        "      <td>NaN</td>\n",
        "      <td>0.67</td>\n",
        "    </tr>\n",
        "    <tr>\n",
        "      <th>544</th>\n",
        "      <td>137.9730</td>\n",
        "      <td>138.2660</td>\n",
        "      <td>0.296054</td>\n",
        "      <td>3169.71</td>\n",
        "      <td>109.5750</td>\n",
        "      <td>0.142148</td>\n",
        "      <td>0.036100</td>\n",
        "      <td>14.49910</td>\n",
        "      <td>0</td>\n",
        "      <td>0.00000</td>\n",
        "      <td>...</td>\n",
        "      <td>NaN</td>\n",
        "      <td>NaN</td>\n",
        "      <td>NaN</td>\n",
        "      <td>NaN</td>\n",
        "      <td>NaN</td>\n",
        "      <td>NaN</td>\n",
        "      <td>NaN</td>\n",
        "      <td>NaN</td>\n",
        "      <td>NaN</td>\n",
        "      <td>0.76</td>\n",
        "    </tr>\n",
        "    <tr>\n",
        "      <th>547</th>\n",
        "      <td>138.3940</td>\n",
        "      <td>139.1630</td>\n",
        "      <td>0.772063</td>\n",
        "      <td>3095.94</td>\n",
        "      <td>46.2266</td>\n",
        "      <td>0.086559</td>\n",
        "      <td>0.029313</td>\n",
        "      <td>23.02460</td>\n",
        "      <td>1</td>\n",
        "      <td>6.37519</td>\n",
        "      <td>...</td>\n",
        "      <td>NaN</td>\n",
        "      <td>NaN</td>\n",
        "      <td>NaN</td>\n",
        "      <td>NaN</td>\n",
        "      <td>NaN</td>\n",
        "      <td>NaN</td>\n",
        "      <td>NaN</td>\n",
        "      <td>NaN</td>\n",
        "      <td>NaN</td>\n",
        "      <td>0.75</td>\n",
        "    </tr>\n",
        "    <tr>\n",
        "      <th>554</th>\n",
        "      <td>139.6710</td>\n",
        "      <td>140.1500</td>\n",
        "      <td>0.481814</td>\n",
        "      <td>3516.20</td>\n",
        "      <td>101.2960</td>\n",
        "      <td>0.107138</td>\n",
        "      <td>0.043584</td>\n",
        "      <td>17.78490</td>\n",
        "      <td>0</td>\n",
        "      <td>0.00000</td>\n",
        "      <td>...</td>\n",
        "      <td>NaN</td>\n",
        "      <td>NaN</td>\n",
        "      <td>NaN</td>\n",
        "      <td>NaN</td>\n",
        "      <td>NaN</td>\n",
        "      <td>NaN</td>\n",
        "      <td>NaN</td>\n",
        "      <td>NaN</td>\n",
        "      <td>NaN</td>\n",
        "      <td>0.66</td>\n",
        "    </tr>\n",
        "    <tr>\n",
        "      <th>559</th>\n",
        "      <td>140.3210</td>\n",
        "      <td>141.3660</td>\n",
        "      <td>1.047800</td>\n",
        "      <td>3105.29</td>\n",
        "      <td>117.7540</td>\n",
        "      <td>0.084245</td>\n",
        "      <td>0.023836</td>\n",
        "      <td>30.41240</td>\n",
        "      <td>1</td>\n",
        "      <td>7.07192</td>\n",
        "      <td>...</td>\n",
        "      <td>NaN</td>\n",
        "      <td>NaN</td>\n",
        "      <td>NaN</td>\n",
        "      <td>NaN</td>\n",
        "      <td>NaN</td>\n",
        "      <td>NaN</td>\n",
        "      <td>NaN</td>\n",
        "      <td>NaN</td>\n",
        "      <td>NaN</td>\n",
        "      <td>0.84</td>\n",
        "    </tr>\n",
        "    <tr>\n",
        "      <th>567</th>\n",
        "      <td>142.0970</td>\n",
        "      <td>142.4830</td>\n",
        "      <td>0.388934</td>\n",
        "      <td>3562.01</td>\n",
        "      <td>85.3857</td>\n",
        "      <td>0.120744</td>\n",
        "      <td>0.051887</td>\n",
        "      <td>16.17970</td>\n",
        "      <td>0</td>\n",
        "      <td>0.00000</td>\n",
        "      <td>...</td>\n",
        "      <td>NaN</td>\n",
        "      <td>NaN</td>\n",
        "      <td>NaN</td>\n",
        "      <td>NaN</td>\n",
        "      <td>NaN</td>\n",
        "      <td>NaN</td>\n",
        "      <td>NaN</td>\n",
        "      <td>NaN</td>\n",
        "      <td>NaN</td>\n",
        "      <td>0.74</td>\n",
        "    </tr>\n",
        "    <tr>\n",
        "      <th>572</th>\n",
        "      <td>142.6260</td>\n",
        "      <td>143.0960</td>\n",
        "      <td>0.473107</td>\n",
        "      <td>3248.47</td>\n",
        "      <td>58.6199</td>\n",
        "      <td>0.121792</td>\n",
        "      <td>0.052660</td>\n",
        "      <td>19.85200</td>\n",
        "      <td>0</td>\n",
        "      <td>0.00000</td>\n",
        "      <td>...</td>\n",
        "      <td>NaN</td>\n",
        "      <td>NaN</td>\n",
        "      <td>NaN</td>\n",
        "      <td>NaN</td>\n",
        "      <td>NaN</td>\n",
        "      <td>NaN</td>\n",
        "      <td>NaN</td>\n",
        "      <td>NaN</td>\n",
        "      <td>NaN</td>\n",
        "      <td>0.75</td>\n",
        "    </tr>\n",
        "    <tr>\n",
        "      <th>575</th>\n",
        "      <td>143.2930</td>\n",
        "      <td>143.4730</td>\n",
        "      <td>0.182857</td>\n",
        "      <td>3047.62</td>\n",
        "      <td>59.4876</td>\n",
        "      <td>0.117270</td>\n",
        "      <td>0.030548</td>\n",
        "      <td>7.38803</td>\n",
        "      <td>0</td>\n",
        "      <td>0.00000</td>\n",
        "      <td>...</td>\n",
        "      <td>NaN</td>\n",
        "      <td>NaN</td>\n",
        "      <td>NaN</td>\n",
        "      <td>NaN</td>\n",
        "      <td>NaN</td>\n",
        "      <td>NaN</td>\n",
        "      <td>NaN</td>\n",
        "      <td>NaN</td>\n",
        "      <td>NaN</td>\n",
        "      <td>0.55</td>\n",
        "    </tr>\n",
        "    <tr>\n",
        "      <th>577</th>\n",
        "      <td>143.7290</td>\n",
        "      <td>144.1580</td>\n",
        "      <td>0.432472</td>\n",
        "      <td>2718.72</td>\n",
        "      <td>102.4550</td>\n",
        "      <td>0.072655</td>\n",
        "      <td>0.023069</td>\n",
        "      <td>10.82560</td>\n",
        "      <td>1</td>\n",
        "      <td>6.78703</td>\n",
        "      <td>...</td>\n",
        "      <td>NaN</td>\n",
        "      <td>NaN</td>\n",
        "      <td>NaN</td>\n",
        "      <td>NaN</td>\n",
        "      <td>NaN</td>\n",
        "      <td>NaN</td>\n",
        "      <td>NaN</td>\n",
        "      <td>NaN</td>\n",
        "      <td>NaN</td>\n",
        "      <td>0.67</td>\n",
        "    </tr>\n",
        "    <tr>\n",
        "      <th>584</th>\n",
        "      <td>145.0490</td>\n",
        "      <td>145.9430</td>\n",
        "      <td>0.896871</td>\n",
        "      <td>2676.15</td>\n",
        "      <td>158.6810</td>\n",
        "      <td>0.095611</td>\n",
        "      <td>0.032908</td>\n",
        "      <td>29.54390</td>\n",
        "      <td>1</td>\n",
        "      <td>6.67540</td>\n",
        "      <td>...</td>\n",
        "      <td>NaN</td>\n",
        "      <td>NaN</td>\n",
        "      <td>NaN</td>\n",
        "      <td>NaN</td>\n",
        "      <td>NaN</td>\n",
        "      <td>NaN</td>\n",
        "      <td>NaN</td>\n",
        "      <td>NaN</td>\n",
        "      <td>NaN</td>\n",
        "      <td>0.67</td>\n",
        "    </tr>\n",
        "    <tr>\n",
        "      <th>590</th>\n",
        "      <td>146.3060</td>\n",
        "      <td>146.5210</td>\n",
        "      <td>0.217687</td>\n",
        "      <td>3227.07</td>\n",
        "      <td>25.3915</td>\n",
        "      <td>0.128460</td>\n",
        "      <td>0.035927</td>\n",
        "      <td>9.63449</td>\n",
        "      <td>0</td>\n",
        "      <td>0.00000</td>\n",
        "      <td>...</td>\n",
        "      <td>NaN</td>\n",
        "      <td>NaN</td>\n",
        "      <td>NaN</td>\n",
        "      <td>NaN</td>\n",
        "      <td>NaN</td>\n",
        "      <td>NaN</td>\n",
        "      <td>NaN</td>\n",
        "      <td>NaN</td>\n",
        "      <td>NaN</td>\n",
        "      <td>0.54</td>\n",
        "    </tr>\n",
        "    <tr>\n",
        "      <th>594</th>\n",
        "      <td>146.6800</td>\n",
        "      <td>146.7940</td>\n",
        "      <td>0.116100</td>\n",
        "      <td>3438.00</td>\n",
        "      <td>68.2349</td>\n",
        "      <td>0.129043</td>\n",
        "      <td>0.038725</td>\n",
        "      <td>5.16172</td>\n",
        "      <td>0</td>\n",
        "      <td>0.00000</td>\n",
        "      <td>...</td>\n",
        "      <td>NaN</td>\n",
        "      <td>NaN</td>\n",
        "      <td>NaN</td>\n",
        "      <td>NaN</td>\n",
        "      <td>NaN</td>\n",
        "      <td>NaN</td>\n",
        "      <td>NaN</td>\n",
        "      <td>NaN</td>\n",
        "      <td>NaN</td>\n",
        "      <td>0.64</td>\n",
        "    </tr>\n",
        "    <tr>\n",
        "      <th>604</th>\n",
        "      <td>148.0210</td>\n",
        "      <td>148.4570</td>\n",
        "      <td>0.438277</td>\n",
        "      <td>3093.31</td>\n",
        "      <td>53.5461</td>\n",
        "      <td>0.123921</td>\n",
        "      <td>0.024405</td>\n",
        "      <td>18.71210</td>\n",
        "      <td>1</td>\n",
        "      <td>6.03772</td>\n",
        "      <td>...</td>\n",
        "      <td>NaN</td>\n",
        "      <td>NaN</td>\n",
        "      <td>NaN</td>\n",
        "      <td>NaN</td>\n",
        "      <td>NaN</td>\n",
        "      <td>NaN</td>\n",
        "      <td>NaN</td>\n",
        "      <td>NaN</td>\n",
        "      <td>NaN</td>\n",
        "      <td>0.56</td>\n",
        "    </tr>\n",
        "    <tr>\n",
        "      <th>607</th>\n",
        "      <td>149.0400</td>\n",
        "      <td>149.2400</td>\n",
        "      <td>0.203175</td>\n",
        "      <td>3466.14</td>\n",
        "      <td>66.8536</td>\n",
        "      <td>0.131758</td>\n",
        "      <td>0.066150</td>\n",
        "      <td>9.22304</td>\n",
        "      <td>0</td>\n",
        "      <td>0.00000</td>\n",
        "      <td>...</td>\n",
        "      <td>NaN</td>\n",
        "      <td>NaN</td>\n",
        "      <td>NaN</td>\n",
        "      <td>NaN</td>\n",
        "      <td>NaN</td>\n",
        "      <td>NaN</td>\n",
        "      <td>NaN</td>\n",
        "      <td>NaN</td>\n",
        "      <td>NaN</td>\n",
        "      <td>0.79</td>\n",
        "    </tr>\n",
        "    <tr>\n",
        "      <th>609</th>\n",
        "      <td>149.3910</td>\n",
        "      <td>150.0940</td>\n",
        "      <td>0.705306</td>\n",
        "      <td>3471.60</td>\n",
        "      <td>79.9041</td>\n",
        "      <td>0.104975</td>\n",
        "      <td>0.041855</td>\n",
        "      <td>25.50900</td>\n",
        "      <td>1</td>\n",
        "      <td>6.64139</td>\n",
        "      <td>...</td>\n",
        "      <td>NaN</td>\n",
        "      <td>NaN</td>\n",
        "      <td>NaN</td>\n",
        "      <td>NaN</td>\n",
        "      <td>NaN</td>\n",
        "      <td>NaN</td>\n",
        "      <td>NaN</td>\n",
        "      <td>NaN</td>\n",
        "      <td>NaN</td>\n",
        "      <td>0.66</td>\n",
        "    </tr>\n",
        "    <tr>\n",
        "      <th>615</th>\n",
        "      <td>150.1430</td>\n",
        "      <td>150.8890</td>\n",
        "      <td>0.748844</td>\n",
        "      <td>3075.85</td>\n",
        "      <td>40.0127</td>\n",
        "      <td>0.092459</td>\n",
        "      <td>0.033804</td>\n",
        "      <td>23.85440</td>\n",
        "      <td>1</td>\n",
        "      <td>6.86697</td>\n",
        "      <td>...</td>\n",
        "      <td>NaN</td>\n",
        "      <td>NaN</td>\n",
        "      <td>NaN</td>\n",
        "      <td>NaN</td>\n",
        "      <td>NaN</td>\n",
        "      <td>NaN</td>\n",
        "      <td>NaN</td>\n",
        "      <td>NaN</td>\n",
        "      <td>NaN</td>\n",
        "      <td>0.56</td>\n",
        "    </tr>\n",
        "    <tr>\n",
        "      <th>623</th>\n",
        "      <td>151.8290</td>\n",
        "      <td>152.3200</td>\n",
        "      <td>0.493424</td>\n",
        "      <td>3509.18</td>\n",
        "      <td>53.2853</td>\n",
        "      <td>0.097602</td>\n",
        "      <td>0.041987</td>\n",
        "      <td>16.59230</td>\n",
        "      <td>0</td>\n",
        "      <td>0.00000</td>\n",
        "      <td>...</td>\n",
        "      <td>NaN</td>\n",
        "      <td>NaN</td>\n",
        "      <td>NaN</td>\n",
        "      <td>NaN</td>\n",
        "      <td>NaN</td>\n",
        "      <td>NaN</td>\n",
        "      <td>NaN</td>\n",
        "      <td>NaN</td>\n",
        "      <td>NaN</td>\n",
        "      <td>0.78</td>\n",
        "    </tr>\n",
        "    <tr>\n",
        "      <th>625</th>\n",
        "      <td>152.3980</td>\n",
        "      <td>152.6130</td>\n",
        "      <td>0.217687</td>\n",
        "      <td>3263.60</td>\n",
        "      <td>43.5321</td>\n",
        "      <td>0.114340</td>\n",
        "      <td>0.028046</td>\n",
        "      <td>8.57548</td>\n",
        "      <td>0</td>\n",
        "      <td>0.00000</td>\n",
        "      <td>...</td>\n",
        "      <td>NaN</td>\n",
        "      <td>NaN</td>\n",
        "      <td>NaN</td>\n",
        "      <td>NaN</td>\n",
        "      <td>NaN</td>\n",
        "      <td>NaN</td>\n",
        "      <td>NaN</td>\n",
        "      <td>NaN</td>\n",
        "      <td>NaN</td>\n",
        "      <td>0.62</td>\n",
        "    </tr>\n",
        "    <tr>\n",
        "      <th>641</th>\n",
        "      <td>154.2850</td>\n",
        "      <td>155.5300</td>\n",
        "      <td>1.248070</td>\n",
        "      <td>2718.81</td>\n",
        "      <td>121.4900</td>\n",
        "      <td>0.060124</td>\n",
        "      <td>0.022556</td>\n",
        "      <td>25.85330</td>\n",
        "      <td>0</td>\n",
        "      <td>0.00000</td>\n",
        "      <td>...</td>\n",
        "      <td>NaN</td>\n",
        "      <td>NaN</td>\n",
        "      <td>NaN</td>\n",
        "      <td>NaN</td>\n",
        "      <td>NaN</td>\n",
        "      <td>NaN</td>\n",
        "      <td>NaN</td>\n",
        "      <td>NaN</td>\n",
        "      <td>NaN</td>\n",
        "      <td>0.58</td>\n",
        "    </tr>\n",
        "    <tr>\n",
        "      <th>652</th>\n",
        "      <td>155.9710</td>\n",
        "      <td>156.4470</td>\n",
        "      <td>0.478912</td>\n",
        "      <td>3359.82</td>\n",
        "      <td>80.4418</td>\n",
        "      <td>0.129236</td>\n",
        "      <td>0.026370</td>\n",
        "      <td>21.32400</td>\n",
        "      <td>0</td>\n",
        "      <td>0.00000</td>\n",
        "      <td>...</td>\n",
        "      <td>NaN</td>\n",
        "      <td>NaN</td>\n",
        "      <td>NaN</td>\n",
        "      <td>NaN</td>\n",
        "      <td>NaN</td>\n",
        "      <td>NaN</td>\n",
        "      <td>NaN</td>\n",
        "      <td>NaN</td>\n",
        "      <td>NaN</td>\n",
        "      <td>0.73</td>\n",
        "    </tr>\n",
        "    <tr>\n",
        "      <th>655</th>\n",
        "      <td>156.5550</td>\n",
        "      <td>159.1520</td>\n",
        "      <td>2.600630</td>\n",
        "      <td>3634.92</td>\n",
        "      <td>86.7917</td>\n",
        "      <td>0.177286</td>\n",
        "      <td>0.028192</td>\n",
        "      <td>158.84900</td>\n",
        "      <td>1</td>\n",
        "      <td>6.35365</td>\n",
        "      <td>...</td>\n",
        "      <td>NaN</td>\n",
        "      <td>NaN</td>\n",
        "      <td>NaN</td>\n",
        "      <td>NaN</td>\n",
        "      <td>NaN</td>\n",
        "      <td>NaN</td>\n",
        "      <td>NaN</td>\n",
        "      <td>NaN</td>\n",
        "      <td>NaN</td>\n",
        "      <td>0.86</td>\n",
        "    </tr>\n",
        "    <tr>\n",
        "      <th>658</th>\n",
        "      <td>159.1730</td>\n",
        "      <td>164.1190</td>\n",
        "      <td>4.948750</td>\n",
        "      <td>3282.60</td>\n",
        "      <td>97.9156</td>\n",
        "      <td>0.125063</td>\n",
        "      <td>0.026230</td>\n",
        "      <td>213.23300</td>\n",
        "      <td>1</td>\n",
        "      <td>5.99089</td>\n",
        "      <td>...</td>\n",
        "      <td>164.113</td>\n",
        "      <td>367.863</td>\n",
        "      <td>0.040951</td>\n",
        "      <td>164.116</td>\n",
        "      <td>367.863</td>\n",
        "      <td>0.040824</td>\n",
        "      <td>164.119</td>\n",
        "      <td>369.994</td>\n",
        "      <td>0.040881</td>\n",
        "      <td>0.78</td>\n",
        "    </tr>\n",
        "  </tbody>\n",
        "</table>\n",
        "<p>78 rows \u00d7 5128 columns</p>\n",
        "</div>"
       ],
       "metadata": {},
       "output_type": "pyout",
       "prompt_number": 230,
       "text": [
        "        onset    offset  duration  pitch mean  pitch std  salience mean  \\\n",
        "45    26.4853   28.6273  2.144940     2393.27    58.5790       0.069327   \n",
        "52    28.9930   29.7070  0.716916     2580.16    96.0177       0.066986   \n",
        "54    29.8144   31.1089  1.297420     2537.32    74.9613       0.076501   \n",
        "79    37.7092   38.5683  0.862041     2391.65    49.0891       0.062460   \n",
        "87    40.0863   41.0674  0.983946     2586.25    43.3121       0.086613   \n",
        "94    41.7234   42.3967  0.676281     2657.17    73.2662       0.090790   \n",
        "104   45.0206   45.9987  0.981043     3431.48   182.1670       0.126815   \n",
        "107   46.1613   46.7185  0.560181     3065.39    62.1212       0.075360   \n",
        "114   48.2656   49.0899  0.827211     3084.11    39.8549       0.073914   \n",
        "125   50.3815   50.7878  0.409252     3234.96    84.8915       0.119740   \n",
        "135   52.7586   53.2201  0.464399     2622.06    98.2159       0.074504   \n",
        "136   53.2492   53.6584  0.412154     2835.42   163.5330       0.089403   \n",
        "139   53.9400   54.2883  0.351202     3189.83    85.0083       0.093972   \n",
        "148   55.7714   56.1342  0.365714     3032.70    60.6239       0.080249   \n",
        "157   57.0572   57.2198  0.165442     3558.95    36.0645       0.100840   \n",
        "170   60.0874   60.3109  0.226395     3238.97    71.2991       0.104228   \n",
        "176   61.1294   61.4864  0.359909     2764.52    72.5943       0.061758   \n",
        "180   61.7738   62.6649  0.893968     2674.45   121.5540       0.065370   \n",
        "192   63.6082   64.1422  0.536961     3324.16    96.1220       0.104218   \n",
        "194   64.1916   65.2887  1.100050     3323.64   138.7940       0.096586   \n",
        "198   65.4164   66.4990  1.085530     3033.13    75.3537       0.080699   \n",
        "204   66.6035   67.6920  1.091340     2801.52   115.6480       0.061992   \n",
        "223   72.2953   73.0790  0.786576     2326.46    89.8420       0.079276   \n",
        "227   73.3402   74.2980  0.960726     2387.13    78.2315       0.069025   \n",
        "243   76.8610   77.2209  0.362812     2578.40    49.2893       0.089515   \n",
        "271   82.3699   83.2929  0.925896     2406.71    31.0144       0.063259   \n",
        "275   83.3219   84.0388  0.719819     2386.73    44.4978       0.059435   \n",
        "298   87.5566   88.1807  0.626939     2619.58    93.0716       0.080606   \n",
        "300   88.2271   90.3314  2.107210     2602.59    49.4450       0.087814   \n",
        "309   90.8074   91.5215  0.716916     3431.74   470.4940       0.096443   \n",
        "..        ...       ...       ...         ...        ...            ...   \n",
        "461  120.2710  120.9700  0.702404     2381.78    66.3928       0.045029   \n",
        "478  126.2470  127.4660  1.221950     2152.61    88.7432       0.053287   \n",
        "492  129.0250  129.6250  0.603719     2409.23    62.2834       0.103661   \n",
        "494  129.9500  130.8620  0.914286     2411.05    48.4278       0.064262   \n",
        "509  131.7300  132.3330  0.606621     2593.59    72.7192       0.074638   \n",
        "513  132.8500  133.4100  0.563084     3911.34   114.4160       0.089913   \n",
        "519  133.6660  134.4810  0.818503     2652.73    94.9169       0.075814   \n",
        "528  135.0120  136.5570  1.547030     2590.19    53.2293       0.086080   \n",
        "540  137.1020  137.8390  0.740136     3315.37   531.4080       0.123580   \n",
        "544  137.9730  138.2660  0.296054     3169.71   109.5750       0.142148   \n",
        "547  138.3940  139.1630  0.772063     3095.94    46.2266       0.086559   \n",
        "554  139.6710  140.1500  0.481814     3516.20   101.2960       0.107138   \n",
        "559  140.3210  141.3660  1.047800     3105.29   117.7540       0.084245   \n",
        "567  142.0970  142.4830  0.388934     3562.01    85.3857       0.120744   \n",
        "572  142.6260  143.0960  0.473107     3248.47    58.6199       0.121792   \n",
        "575  143.2930  143.4730  0.182857     3047.62    59.4876       0.117270   \n",
        "577  143.7290  144.1580  0.432472     2718.72   102.4550       0.072655   \n",
        "584  145.0490  145.9430  0.896871     2676.15   158.6810       0.095611   \n",
        "590  146.3060  146.5210  0.217687     3227.07    25.3915       0.128460   \n",
        "594  146.6800  146.7940  0.116100     3438.00    68.2349       0.129043   \n",
        "604  148.0210  148.4570  0.438277     3093.31    53.5461       0.123921   \n",
        "607  149.0400  149.2400  0.203175     3466.14    66.8536       0.131758   \n",
        "609  149.3910  150.0940  0.705306     3471.60    79.9041       0.104975   \n",
        "615  150.1430  150.8890  0.748844     3075.85    40.0127       0.092459   \n",
        "623  151.8290  152.3200  0.493424     3509.18    53.2853       0.097602   \n",
        "625  152.3980  152.6130  0.217687     3263.60    43.5321       0.114340   \n",
        "641  154.2850  155.5300  1.248070     2718.81   121.4900       0.060124   \n",
        "652  155.9710  156.4470  0.478912     3359.82    80.4418       0.129236   \n",
        "655  156.5550  159.1520  2.600630     3634.92    86.7917       0.177286   \n",
        "658  159.1730  164.1190  4.948750     3282.60    97.9156       0.125063   \n",
        "\n",
        "     salience std  salience tot  vibrato  vib rate    ...        5120  \\\n",
        "45       0.022314      51.23280        1   6.42213    ...         NaN   \n",
        "52       0.025483      16.54570        1   5.96753    ...         NaN   \n",
        "54       0.022031      34.19590        1   6.13337    ...         NaN   \n",
        "79       0.017235      18.55060        1   6.62908    ...         NaN   \n",
        "87       0.015521      29.36180        1   6.53695    ...         NaN   \n",
        "94       0.017741      21.15400        1   6.34870    ...         NaN   \n",
        "104      0.041771      42.86350        0   0.00000    ...         NaN   \n",
        "107      0.013022      14.54450        1   6.51698    ...         NaN   \n",
        "114      0.015230      21.06560        1   6.55529    ...         NaN   \n",
        "125      0.050773      16.88330        1   7.83733    ...         NaN   \n",
        "135      0.009632      11.92070        1   7.00525    ...         NaN   \n",
        "136      0.050070      12.69520        0   0.00000    ...         NaN   \n",
        "139      0.041126      11.37060        0   0.00000    ...         NaN   \n",
        "148      0.018934      10.11140        1   7.95792    ...         NaN   \n",
        "157      0.029890       5.74786        0   0.00000    ...         NaN   \n",
        "170      0.022878       8.12982        0   0.00000    ...         NaN   \n",
        "176      0.012327       7.65794        1   7.69485    ...         NaN   \n",
        "180      0.024879      20.13410        0   0.00000    ...         NaN   \n",
        "192      0.032467      19.28030        0   0.00000    ...         NaN   \n",
        "194      0.034246      36.60590        1   6.74839    ...         NaN   \n",
        "198      0.032405      30.18150        1   6.76924    ...         NaN   \n",
        "204      0.021468      23.30920        1   6.06945    ...         NaN   \n",
        "223      0.016640      21.48380        0   0.00000    ...         NaN   \n",
        "227      0.024754      22.84740        1   6.34674    ...         NaN   \n",
        "243      0.017927      11.18940        1   5.71999    ...         NaN   \n",
        "271      0.026312      20.17950        1   6.95579    ...         NaN   \n",
        "275      0.020082      14.73990        1   5.85260    ...         NaN   \n",
        "298      0.018113      17.41090        1   6.45569    ...         NaN   \n",
        "300      0.027250      63.75290        1   5.92062    ...         NaN   \n",
        "309      0.046154      23.82140        0   0.00000    ...         NaN   \n",
        "..            ...           ...      ...       ...    ...         ...   \n",
        "461      0.009254      10.89700        1   5.50696    ...         NaN   \n",
        "478      0.014831      22.43390        0   0.00000    ...         NaN   \n",
        "492      0.023729      21.56150        1   5.42810    ...         NaN   \n",
        "494      0.018561      20.24250        1   6.29095    ...         NaN   \n",
        "509      0.027340      15.59940        0   0.00000    ...         NaN   \n",
        "513      0.028582      17.44320        0   0.00000    ...         NaN   \n",
        "519      0.029651      21.37960        0   0.00000    ...         NaN   \n",
        "528      0.016901      45.88060        1   6.30781    ...         NaN   \n",
        "540      0.067205      31.51290        1   6.11904    ...         NaN   \n",
        "544      0.036100      14.49910        0   0.00000    ...         NaN   \n",
        "547      0.029313      23.02460        1   6.37519    ...         NaN   \n",
        "554      0.043584      17.78490        0   0.00000    ...         NaN   \n",
        "559      0.023836      30.41240        1   7.07192    ...         NaN   \n",
        "567      0.051887      16.17970        0   0.00000    ...         NaN   \n",
        "572      0.052660      19.85200        0   0.00000    ...         NaN   \n",
        "575      0.030548       7.38803        0   0.00000    ...         NaN   \n",
        "577      0.023069      10.82560        1   6.78703    ...         NaN   \n",
        "584      0.032908      29.54390        1   6.67540    ...         NaN   \n",
        "590      0.035927       9.63449        0   0.00000    ...         NaN   \n",
        "594      0.038725       5.16172        0   0.00000    ...         NaN   \n",
        "604      0.024405      18.71210        1   6.03772    ...         NaN   \n",
        "607      0.066150       9.22304        0   0.00000    ...         NaN   \n",
        "609      0.041855      25.50900        1   6.64139    ...         NaN   \n",
        "615      0.033804      23.85440        1   6.86697    ...         NaN   \n",
        "623      0.041987      16.59230        0   0.00000    ...         NaN   \n",
        "625      0.028046       8.57548        0   0.00000    ...         NaN   \n",
        "641      0.022556      25.85330        0   0.00000    ...         NaN   \n",
        "652      0.026370      21.32400        0   0.00000    ...         NaN   \n",
        "655      0.028192     158.84900        1   6.35365    ...         NaN   \n",
        "658      0.026230     213.23300        1   5.99089    ...     164.113   \n",
        "\n",
        "        5121      5122     5123     5124      5125     5126     5127  \\\n",
        "45       NaN       NaN      NaN      NaN       NaN      NaN      NaN   \n",
        "52       NaN       NaN      NaN      NaN       NaN      NaN      NaN   \n",
        "54       NaN       NaN      NaN      NaN       NaN      NaN      NaN   \n",
        "79       NaN       NaN      NaN      NaN       NaN      NaN      NaN   \n",
        "87       NaN       NaN      NaN      NaN       NaN      NaN      NaN   \n",
        "94       NaN       NaN      NaN      NaN       NaN      NaN      NaN   \n",
        "104      NaN       NaN      NaN      NaN       NaN      NaN      NaN   \n",
        "107      NaN       NaN      NaN      NaN       NaN      NaN      NaN   \n",
        "114      NaN       NaN      NaN      NaN       NaN      NaN      NaN   \n",
        "125      NaN       NaN      NaN      NaN       NaN      NaN      NaN   \n",
        "135      NaN       NaN      NaN      NaN       NaN      NaN      NaN   \n",
        "136      NaN       NaN      NaN      NaN       NaN      NaN      NaN   \n",
        "139      NaN       NaN      NaN      NaN       NaN      NaN      NaN   \n",
        "148      NaN       NaN      NaN      NaN       NaN      NaN      NaN   \n",
        "157      NaN       NaN      NaN      NaN       NaN      NaN      NaN   \n",
        "170      NaN       NaN      NaN      NaN       NaN      NaN      NaN   \n",
        "176      NaN       NaN      NaN      NaN       NaN      NaN      NaN   \n",
        "180      NaN       NaN      NaN      NaN       NaN      NaN      NaN   \n",
        "192      NaN       NaN      NaN      NaN       NaN      NaN      NaN   \n",
        "194      NaN       NaN      NaN      NaN       NaN      NaN      NaN   \n",
        "198      NaN       NaN      NaN      NaN       NaN      NaN      NaN   \n",
        "204      NaN       NaN      NaN      NaN       NaN      NaN      NaN   \n",
        "223      NaN       NaN      NaN      NaN       NaN      NaN      NaN   \n",
        "227      NaN       NaN      NaN      NaN       NaN      NaN      NaN   \n",
        "243      NaN       NaN      NaN      NaN       NaN      NaN      NaN   \n",
        "271      NaN       NaN      NaN      NaN       NaN      NaN      NaN   \n",
        "275      NaN       NaN      NaN      NaN       NaN      NaN      NaN   \n",
        "298      NaN       NaN      NaN      NaN       NaN      NaN      NaN   \n",
        "300      NaN       NaN      NaN      NaN       NaN      NaN      NaN   \n",
        "309      NaN       NaN      NaN      NaN       NaN      NaN      NaN   \n",
        "..       ...       ...      ...      ...       ...      ...      ...   \n",
        "461      NaN       NaN      NaN      NaN       NaN      NaN      NaN   \n",
        "478      NaN       NaN      NaN      NaN       NaN      NaN      NaN   \n",
        "492      NaN       NaN      NaN      NaN       NaN      NaN      NaN   \n",
        "494      NaN       NaN      NaN      NaN       NaN      NaN      NaN   \n",
        "509      NaN       NaN      NaN      NaN       NaN      NaN      NaN   \n",
        "513      NaN       NaN      NaN      NaN       NaN      NaN      NaN   \n",
        "519      NaN       NaN      NaN      NaN       NaN      NaN      NaN   \n",
        "528      NaN       NaN      NaN      NaN       NaN      NaN      NaN   \n",
        "540      NaN       NaN      NaN      NaN       NaN      NaN      NaN   \n",
        "544      NaN       NaN      NaN      NaN       NaN      NaN      NaN   \n",
        "547      NaN       NaN      NaN      NaN       NaN      NaN      NaN   \n",
        "554      NaN       NaN      NaN      NaN       NaN      NaN      NaN   \n",
        "559      NaN       NaN      NaN      NaN       NaN      NaN      NaN   \n",
        "567      NaN       NaN      NaN      NaN       NaN      NaN      NaN   \n",
        "572      NaN       NaN      NaN      NaN       NaN      NaN      NaN   \n",
        "575      NaN       NaN      NaN      NaN       NaN      NaN      NaN   \n",
        "577      NaN       NaN      NaN      NaN       NaN      NaN      NaN   \n",
        "584      NaN       NaN      NaN      NaN       NaN      NaN      NaN   \n",
        "590      NaN       NaN      NaN      NaN       NaN      NaN      NaN   \n",
        "594      NaN       NaN      NaN      NaN       NaN      NaN      NaN   \n",
        "604      NaN       NaN      NaN      NaN       NaN      NaN      NaN   \n",
        "607      NaN       NaN      NaN      NaN       NaN      NaN      NaN   \n",
        "609      NaN       NaN      NaN      NaN       NaN      NaN      NaN   \n",
        "615      NaN       NaN      NaN      NaN       NaN      NaN      NaN   \n",
        "623      NaN       NaN      NaN      NaN       NaN      NaN      NaN   \n",
        "625      NaN       NaN      NaN      NaN       NaN      NaN      NaN   \n",
        "641      NaN       NaN      NaN      NaN       NaN      NaN      NaN   \n",
        "652      NaN       NaN      NaN      NaN       NaN      NaN      NaN   \n",
        "655      NaN       NaN      NaN      NaN       NaN      NaN      NaN   \n",
        "658  367.863  0.040951  164.116  367.863  0.040824  164.119  369.994   \n",
        "\n",
        "         5128  mel_prob  \n",
        "45        NaN      0.83  \n",
        "52        NaN      0.93  \n",
        "54        NaN      0.90  \n",
        "79        NaN      0.88  \n",
        "87        NaN      0.61  \n",
        "94        NaN      0.65  \n",
        "104       NaN      0.58  \n",
        "107       NaN      0.76  \n",
        "114       NaN      0.68  \n",
        "125       NaN      0.56  \n",
        "135       NaN      0.81  \n",
        "136       NaN      0.56  \n",
        "139       NaN      0.70  \n",
        "148       NaN      0.71  \n",
        "157       NaN      0.53  \n",
        "170       NaN      0.53  \n",
        "176       NaN      0.79  \n",
        "180       NaN      0.52  \n",
        "192       NaN      0.61  \n",
        "194       NaN      0.74  \n",
        "198       NaN      0.92  \n",
        "204       NaN      0.93  \n",
        "223       NaN      0.58  \n",
        "227       NaN      0.95  \n",
        "243       NaN      0.54  \n",
        "271       NaN      0.66  \n",
        "275       NaN      0.73  \n",
        "298       NaN      0.88  \n",
        "300       NaN      0.67  \n",
        "309       NaN      0.61  \n",
        "..        ...       ...  \n",
        "461       NaN      0.92  \n",
        "478       NaN      0.50  \n",
        "492       NaN      0.71  \n",
        "494       NaN      0.79  \n",
        "509       NaN      0.60  \n",
        "513       NaN      0.52  \n",
        "519       NaN      0.53  \n",
        "528       NaN      0.72  \n",
        "540       NaN      0.67  \n",
        "544       NaN      0.76  \n",
        "547       NaN      0.75  \n",
        "554       NaN      0.66  \n",
        "559       NaN      0.84  \n",
        "567       NaN      0.74  \n",
        "572       NaN      0.75  \n",
        "575       NaN      0.55  \n",
        "577       NaN      0.67  \n",
        "584       NaN      0.67  \n",
        "590       NaN      0.54  \n",
        "594       NaN      0.64  \n",
        "604       NaN      0.56  \n",
        "607       NaN      0.79  \n",
        "609       NaN      0.66  \n",
        "615       NaN      0.56  \n",
        "623       NaN      0.78  \n",
        "625       NaN      0.62  \n",
        "641       NaN      0.58  \n",
        "652       NaN      0.73  \n",
        "655       NaN      0.86  \n",
        "658  0.040881      0.78  \n",
        "\n",
        "[78 rows x 5128 columns]"
       ]
      }
     ],
     "prompt_number": 230
    },
    {
     "cell_type": "code",
     "collapsed": false,
     "input": [
      "onset_t = pd.to_datetime(contour_candidates['onset'], unit='s')\n",
      "offset_t = pd.to_datetime(contour_candidates['offset'], unit='s')\n",
      "\n",
      "print contour_candidates.iloc[:, 0:2]"
     ],
     "language": "python",
     "metadata": {},
     "outputs": [
      {
       "output_type": "stream",
       "stream": "stdout",
       "text": [
        "        onset    offset\n",
        "45    26.4853   28.6273\n",
        "52    28.9930   29.7070\n",
        "54    29.8144   31.1089\n",
        "79    37.7092   38.5683\n",
        "87    40.0863   41.0674\n",
        "94    41.7234   42.3967\n",
        "104   45.0206   45.9987\n",
        "107   46.1613   46.7185\n",
        "114   48.2656   49.0899\n",
        "125   50.3815   50.7878\n",
        "135   52.7586   53.2201\n",
        "136   53.2492   53.6584\n",
        "139   53.9400   54.2883\n",
        "148   55.7714   56.1342\n",
        "157   57.0572   57.2198\n",
        "170   60.0874   60.3109\n",
        "176   61.1294   61.4864\n",
        "180   61.7738   62.6649\n",
        "192   63.6082   64.1422\n",
        "194   64.1916   65.2887\n",
        "198   65.4164   66.4990\n",
        "204   66.6035   67.6920\n",
        "223   72.2953   73.0790\n",
        "227   73.3402   74.2980\n",
        "243   76.8610   77.2209\n",
        "271   82.3699   83.2929\n",
        "275   83.3219   84.0388\n",
        "298   87.5566   88.1807\n",
        "300   88.2271   90.3314\n",
        "309   90.8074   91.5215\n",
        "..        ...       ...\n",
        "461  120.2710  120.9700\n",
        "478  126.2470  127.4660\n",
        "492  129.0250  129.6250\n",
        "494  129.9500  130.8620\n",
        "509  131.7300  132.3330\n",
        "513  132.8500  133.4100\n",
        "519  133.6660  134.4810\n",
        "528  135.0120  136.5570\n",
        "540  137.1020  137.8390\n",
        "544  137.9730  138.2660\n",
        "547  138.3940  139.1630\n",
        "554  139.6710  140.1500\n",
        "559  140.3210  141.3660\n",
        "567  142.0970  142.4830\n",
        "572  142.6260  143.0960\n",
        "575  143.2930  143.4730\n",
        "577  143.7290  144.1580\n",
        "584  145.0490  145.9430\n",
        "590  146.3060  146.5210\n",
        "594  146.6800  146.7940\n",
        "604  148.0210  148.4570\n",
        "607  149.0400  149.2400\n",
        "609  149.3910  150.0940\n",
        "615  150.1430  150.8890\n",
        "623  151.8290  152.3200\n",
        "625  152.3980  152.6130\n",
        "641  154.2850  155.5300\n",
        "652  155.9710  156.4470\n",
        "655  156.5550  159.1520\n",
        "658  159.1730  164.1190\n",
        "\n",
        "[78 rows x 2 columns]\n"
       ]
      }
     ],
     "prompt_number": 305
    },
    {
     "cell_type": "code",
     "collapsed": false,
     "input": [
      "print contour_candidates['mel_prob'].argmax\n",
      "print len(contour_candidates)"
     ],
     "language": "python",
     "metadata": {},
     "outputs": [
      {
       "output_type": "stream",
       "stream": "stdout",
       "text": [
        "Object `argmax` not found.\n",
        "78\n"
       ]
      }
     ],
     "prompt_number": 245
    },
    {
     "cell_type": "code",
     "collapsed": false,
     "input": [
      "print contour_candidates['mel_prob'].argmax"
     ],
     "language": "python",
     "metadata": {},
     "outputs": []
    },
    {
     "cell_type": "code",
     "collapsed": false,
     "input": [
      "print contour_candidates['mel_prob'].argmax"
     ],
     "language": "python",
     "metadata": {},
     "outputs": []
    },
    {
     "cell_type": "code",
     "collapsed": false,
     "input": [
      "print time_stamps.asof"
     ],
     "language": "python",
     "metadata": {},
     "outputs": []
    },
    {
     "cell_type": "code",
     "collapsed": false,
     "input": [],
     "language": "python",
     "metadata": {},
     "outputs": []
    }
   ],
   "metadata": {}
  }
 ]
}