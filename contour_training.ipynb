{
 "metadata": {
  "name": ""
 },
 "nbformat": 3,
 "nbformat_minor": 0,
 "worksheets": [
  {
   "cells": [
    {
     "cell_type": "code",
     "collapsed": false,
     "input": [
      "import contour_classification.contour_utils as cc\n",
      "from sklearn.ensemble import RandomForestClassifier as RFC\n",
      "from sklearn.cross_validation import KFold\n",
      "import pandas as pd\n",
      "import numpy as np\n",
      "import json\n",
      "import random"
     ],
     "language": "python",
     "metadata": {},
     "outputs": [],
     "prompt_number": 69
    },
    {
     "cell_type": "code",
     "collapsed": false,
     "input": [
      "def pd_to_sklearn(features):\n",
      "    X = np.array(features.iloc[:, 0:10])\n",
      "    Y = np.array(features['labels'])\n",
      "    return X, Y"
     ],
     "language": "python",
     "metadata": {},
     "outputs": [],
     "prompt_number": 18
    },
    {
     "cell_type": "code",
     "collapsed": false,
     "input": [
      "json_fhandle = open(\"melody_trackids.json\", 'r')\n",
      "meltracks = json.load(json_fhandle)\n",
      "tracks = meltracks['tracks']\n",
      "random.shuffle(tracks)\n",
      "n_tracks = len(tracks)\n",
      "kf = KFold(n_tracks, n_folds=5)\n",
      "for (train, test) in kf:\n",
      "    train_tracks = [tracks[i] for i in train]\n",
      "    test_tracks = [tracks[i] for i in test]\n",
      "    break\n"
     ],
     "language": "python",
     "metadata": {},
     "outputs": [
      {
       "output_type": "stream",
       "stream": "stdout",
       "text": [
        "[u'Phoenix_ColliersDaughter', u'MusicDelta_Pachelbel', u'AvaLuna_Waterduct', u'AClassicEducation_NightOwl', u'ChrisJacoby_BoothShotLincoln', u'MatthewEntwistle_TheArch', u'MusicDelta_Shadows', u'Schumann_Mignon', u'MatthewEntwistle_TheFlaxenField', u'MusicDelta_SwingJazz', u'MusicDelta_SpeedMetal', u'KarimDouaidy_Hopscotch', u'MichaelKropf_AllGoodThings', u'AlexanderRoss_VelvetCurtain', u'ChrisJacoby_PigsFoot', u'SweetLights_YouLetMeDown', u'MusicDelta_FreeJazz', u'Snowmine_Curfews', u'ClaraBerryAndWooldog_AirTraffic', u'AimeeNorwich_Child', u'TheSoSoGlos_Emergency', u'MusicDelta_BebopJazz', u'StevenClark_Bounty', u'Schubert_Erstarrung', u'TheScarletBrand_LesFleursDuMal', u'PortStWillow_StayEven', u'MusicDelta_LatinJazz', u'Phoenix_LarkOnTheStrandDrummondCastle', u'MusicDelta_ChineseYaoZu', u'MusicDelta_Gospel', u'MusicDelta_Country2', u'MusicDelta_Britpop', u'Mozart_BesterJungling', u'DreamersOfTheGhetto_HeavyLove', u'LizNelson_Coldwar', u'Meaxic_YouListen', u'MusicDelta_CoolJazz', u'MatthewEntwistle_FairerHopes', u'MatthewEntwistle_Lontano', u'Wolf_DieBekherte', u'MatthewEntwistle_DontYouEver', u'MusicDelta_Vivaldi', u'JoelHelander_IntheAtticBedroom', u'MusicDelta_Punk', u'JoelHelander_Definition', u'MusicDelta_ChineseChaoZhou', u'Meaxic_TakeAStep', u'ClaraBerryAndWooldog_Boys', u'CroqueMadame_Oil', u'CroqueMadame_Pilot', u'Debussy_LenfantProdigue', u'MusicDelta_Disco', u'AlexanderRoss_GoodbyeBolero', u'MusicDelta_ChineseDrama', u'Auctioneer_OurFutureFaces', u'FamilyBand_Again', u'AmarLal_SpringDay1', u'AimeeNorwich_Flying', u'MusicDelta_Reggae', u'MusicDelta_FunkJazz', u'StrandOfOaks_Spacestation', u'MusicDelta_FusionJazz', u'MusicDelta_Country1', u'SecretMountains_HighHorse', u'Creepoid_OldTree', u'Mozart_DiesBildnis', u'ClaraBerryAndWooldog_Stella', u'HopAlong_SisterCities', u'LizNelson_Rainfall', u'Phoenix_BrokenPledgeChicagoReel', u'MusicDelta_80sRock', u'ClaraBerryAndWooldog_WaltzForMyVictims', u'KarimDouaidy_Yatora', u'HeladoNegro_MitadDelMundo', u'MusicDelta_GriegTrolltog', u'MusicDelta_Rock', u'MusicDelta_Hendrix', u'MusicDelta_InTheHalloftheMountainKing', u'BrandonWebster_DontHearAThing', u'InvisibleFamiliars_DisturbingWildlife', u'HezekiahJones_BorrowedHeart', u'LizNelson_ImComingHome', u'Phoenix_ScotchMorris', u'MusicDelta_Beatles', u'NightPanther_Fire', u'JoelHelander_ExcessiveResistancetoChange']\n",
        "[u'MusicDelta_ModalJazz', u'PurlingHiss_Lolita', u'FacesOnFilm_WaitingForGa', u'MatthewEntwistle_ImpressionsOfSaturn', u'MusicDelta_ChineseXinJing', u'AmarLal_Rest', u'EthanHein_GirlOnABridge', u'MusicDelta_Beethoven', u'Phoenix_SeanCaughlinsTheScartaglen', u'BrandonWebster_YesSirICanFly', u'MusicDelta_Rockabilly', u'TheDistricts_Vermont', u'BigTroubles_Phantom', u'Handel_TornamiAVagheggiar', u'MusicDelta_ChineseJiangNan', u'EthanHein_1930sSynthAndUprightBass', u'ClaraBerryAndWooldog_TheBadGuys', u'MusicDelta_ChineseHenan', u'MusicDelta_Zeppelin', u'Phoenix_ElzicsFarewell', u'MusicDelta_Grunge', u'CelestialShore_DieForUs']\n"
       ]
      }
     ],
     "prompt_number": 73
    },
    {
     "cell_type": "code",
     "collapsed": false,
     "input": [
      "cfpath_train = \\\n",
      "    \"test_data/LizNelson_Rainfall_MIX_vamp_melodia-contours_melodia-contours_contoursall.csv\"\n",
      "cfpath_test = \\\n",
      "    \"test_data/Phoenix_ScotchMorris_MIX_vamp_melodia-contours_melodia-contours_contoursall.csv\"\n",
      "afpath_train = \\\n",
      "    \"test_data/LizNelson_Rainfall_MELODY1.csv\"\n",
      "afpath_test = \\\n",
      "    \"test_data/Phoenix_ScotchMorris_MELODY1.csv\""
     ],
     "language": "python",
     "metadata": {},
     "outputs": [],
     "prompt_number": 2
    },
    {
     "cell_type": "code",
     "collapsed": false,
     "input": [
      "cdat_train = cc.load_contour_data(cfpath_train)\n",
      "cdat_test = cc.load_contour_data(cfpath_test)\n",
      "\n",
      "adat_train = cc.load_annotation(afpath_train)\n",
      "adat_test = cc.load_annotation(afpath_test)\n",
      "\n",
      "OLAP_THRESH = 0.5"
     ],
     "language": "python",
     "metadata": {},
     "outputs": [],
     "prompt_number": 3
    },
    {
     "cell_type": "code",
     "collapsed": false,
     "input": [
      "feats_train = cc.label_contours(cdat_train, adat_train, OLAP_THRESH)\n",
      "feats_test = cc.label_contours(cdat_test, adat_test, OLAP_THRESH)"
     ],
     "language": "python",
     "metadata": {},
     "outputs": [
      {
       "output_type": "stream",
       "stream": "stderr",
       "text": [
        "/Library/Python/2.7/site-packages/mir_eval/melody.py:80: UserWarning: Reference melody has no voiced frames.\n",
        "  warnings.warn(\"Reference melody has no voiced frames.\")\n"
       ]
      }
     ],
     "prompt_number": 4
    },
    {
     "cell_type": "code",
     "collapsed": false,
     "input": [
      "np.array(feats_train['labels'])"
     ],
     "language": "python",
     "metadata": {},
     "outputs": [
      {
       "metadata": {},
       "output_type": "pyout",
       "prompt_number": 17,
       "text": [
        "array([0, 0, 0, ..., 0, 0, 0])"
       ]
      }
     ],
     "prompt_number": 17
    },
    {
     "cell_type": "code",
     "collapsed": false,
     "input": [
      "X_train, Y_train = pd_to_sklearn(feats_train)\n",
      "X_test, Y_test = pd_to_sklearn(feats_test)"
     ],
     "language": "python",
     "metadata": {},
     "outputs": [],
     "prompt_number": 19
    },
    {
     "cell_type": "code",
     "collapsed": false,
     "input": [
      "clf = RFC(n_estimators=100, max_depth=10)\n",
      "clf = clf.fit(X_train, Y_train)"
     ],
     "language": "python",
     "metadata": {},
     "outputs": [],
     "prompt_number": 41
    },
    {
     "cell_type": "code",
     "collapsed": false,
     "input": [
      "clf.score(X_train, Y_train)"
     ],
     "language": "python",
     "metadata": {},
     "outputs": [
      {
       "metadata": {},
       "output_type": "pyout",
       "prompt_number": 42,
       "text": [
        "0.9990503323836657"
       ]
      }
     ],
     "prompt_number": 42
    },
    {
     "cell_type": "code",
     "collapsed": false,
     "input": [
      "clf.score(X_test, Y_test)"
     ],
     "language": "python",
     "metadata": {},
     "outputs": [
      {
       "metadata": {},
       "output_type": "pyout",
       "prompt_number": 44,
       "text": [
        "0.680577849117175"
       ]
      }
     ],
     "prompt_number": 44
    },
    {
     "cell_type": "code",
     "collapsed": false,
     "input": [],
     "language": "python",
     "metadata": {},
     "outputs": []
    }
   ],
   "metadata": {}
  }
 ]
}