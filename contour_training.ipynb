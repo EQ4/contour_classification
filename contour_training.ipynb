{
 "metadata": {
  "name": ""
 },
 "nbformat": 3,
 "nbformat_minor": 0,
 "worksheets": [
  {
   "cells": [
    {
     "cell_type": "code",
     "collapsed": false,
     "input": [
      "import contour_classification.contour_utils as cc\n",
      "from contour_classification.ShuffleLabelsOut import ShuffleLabelsOut\n",
      "from sklearn.ensemble import RandomForestClassifier as RFC\n",
      "from sklearn.ensemble import RandomForestRegressor as RFR\n",
      "from sklearn.cross_validation import KFold\n",
      "from sklearn import cross_validation\n",
      "import sklearn\n",
      "import pandas as pd\n",
      "import numpy as np\n",
      "import json\n",
      "import random\n",
      "import glob\n",
      "import os\n",
      "import matplotlib.pyplot as plt\n",
      "%matplotlib inline\n",
      "from scipy.stats import boxcox"
     ],
     "language": "python",
     "metadata": {},
     "outputs": [],
     "prompt_number": 24
    },
    {
     "cell_type": "code",
     "collapsed": false,
     "input": [
      "def pd_to_sklearn(features):\n",
      "    \"\"\" Convert pandas data frame to sklearn style features and labels \"\"\"\n",
      "    X = np.array(features.iloc[:, 0:10])\n",
      "    Y = np.array(features['labels'])\n",
      "    return X, Y"
     ],
     "language": "python",
     "metadata": {},
     "outputs": [],
     "prompt_number": 2
    },
    {
     "cell_type": "heading",
     "level": 3,
     "metadata": {},
     "source": [
      "Create train/test split"
     ]
    },
    {
     "cell_type": "markdown",
     "metadata": {},
     "source": [
      "Splits are chosen such that each split contains unique artists."
     ]
    },
    {
     "cell_type": "code",
     "collapsed": false,
     "input": [
      "index = json.load(open('medley_artist_index.json'))\n",
      "\n",
      "files = []\n",
      "keys = []\n",
      "\n",
      "for k, v in sorted(index.items()):\n",
      "    files.append(k)\n",
      "    keys.append(v)\n",
      "\n",
      "keys = np.asarray(keys)\n",
      "files = np.asarray(files)\n",
      "splitter = ShuffleLabelsOut(keys, random_state=1)\n",
      "\n",
      "for train, test in splitter:\n",
      "    train_tracks = files[train]\n",
      "    test_tracks = files[test]\n",
      "    break\n",
      "print test_tracks"
     ],
     "language": "python",
     "metadata": {},
     "outputs": [
      {
       "output_type": "stream",
       "stream": "stdout",
       "text": [
        "[u'Creepoid_OldTree' u'FamilyBand_Again' u'MusicDelta_Beatles'\n",
        " u'MusicDelta_Beethoven' u'MusicDelta_CoolJazz' u'MusicDelta_Country1'\n",
        " u'MusicDelta_Disco' u'MusicDelta_Grunge'\n",
        " u'MusicDelta_InTheHalloftheMountainKing' u'MusicDelta_LatinJazz'\n",
        " u'MusicDelta_Rockabilly' u'MusicDelta_SwingJazz'\n",
        " u'Phoenix_BrokenPledgeChicagoReel' u'Phoenix_ColliersDaughter'\n",
        " u'Phoenix_ElzicsFarewell' u'Phoenix_LarkOnTheStrandDrummondCastle'\n",
        " u'Phoenix_ScotchMorris' u'Phoenix_SeanCaughlinsTheScartaglen'\n",
        " u'PortStWillow_StayEven' u'TheScarletBrand_LesFleursDuMal']\n"
       ]
      },
      {
       "output_type": "stream",
       "stream": "stderr",
       "text": [
        "/usr/local/lib/python2.7/site-packages/sklearn/cross_validation.py:758: DeprecationWarning: The indices parameter is deprecated and will be removed (assumed True) in 0.17\n",
        "  \"removed (assumed True) in 0.17\", DeprecationWarning)\n"
       ]
      }
     ],
     "prompt_number": 3
    },
    {
     "cell_type": "heading",
     "level": 3,
     "metadata": {},
     "source": [
      "Split out features and compute labels"
     ]
    },
    {
     "cell_type": "code",
     "collapsed": false,
     "input": [
      "contour_suffix = \"MIX_vamp_melodia-contours_melodia-contours_contoursall.csv\"\n",
      "contours_path = \"melodia_contours\"\n",
      "annot_suffix = \"MELODY1.csv\"\n",
      "annots_path = os.path.join(os.environ['MEDLEYDB_PATH'], 'Annotations', \\\n",
      "                             'Melody_Annotations', 'MELODY1')\n",
      "\n",
      "OLAP_THRESH = 0.5\n",
      "\n",
      "train_feat_list = []\n",
      "\n",
      "print \"Generating training features\"\n",
      "for track in train_tracks:\n",
      "    print track\n",
      "    contour_fname = \"%s_%s\" % (track, contour_suffix)\n",
      "    contour_fpath = os.path.join(contours_path, contour_fname)\n",
      "    annot_fname = \"%s_%s\" % (track, annot_suffix)\n",
      "    annot_fpath = os.path.join(annots_path, annot_fname)\n",
      "    \n",
      "    cdat = cc.load_contour_data(contour_fpath)\n",
      "    adat = cc.load_annotation(annot_fpath)\n",
      "    \n",
      "    train_feat_list.append(cc.label_contours(cdat, adat, OLAP_THRESH, regression=True))\n",
      "\n",
      "    \n",
      "test_feat_list = []\n",
      "\n",
      "print \"Generating testing features\"\n",
      "for track in test_tracks:\n",
      "    print track\n",
      "    contour_fname = \"%s_%s\" % (track, contour_suffix)\n",
      "    contour_fpath = os.path.join(contours_path, contour_fname)\n",
      "    annot_fname = \"%s_%s\" % (track, annot_suffix)\n",
      "    annot_fpath = os.path.join(annots_path, annot_fname)\n",
      "    \n",
      "    cdat = cc.load_contour_data(contour_fpath)\n",
      "    adat = cc.load_annotation(annot_fpath)\n",
      "    \n",
      "    test_feat_list.append(cc.label_contours(cdat, adat, OLAP_THRESH, regression=True))\n",
      "\n",
      "train_features = cc.join_features(train_feat_list)\n",
      "test_features = cc.join_features(test_feat_list)"
     ],
     "language": "python",
     "metadata": {},
     "outputs": [
      {
       "output_type": "stream",
       "stream": "stdout",
       "text": [
        "Generating training features\n",
        "AClassicEducation_NightOwl\n",
        "AimeeNorwich_Child"
       ]
      },
      {
       "output_type": "stream",
       "stream": "stdout",
       "text": [
        "\n",
        "AimeeNorwich_Flying"
       ]
      },
      {
       "output_type": "stream",
       "stream": "stdout",
       "text": [
        "\n",
        "AlexanderRoss_GoodbyeBolero"
       ]
      },
      {
       "output_type": "stream",
       "stream": "stdout",
       "text": [
        "\n",
        "AlexanderRoss_VelvetCurtain"
       ]
      },
      {
       "output_type": "stream",
       "stream": "stdout",
       "text": [
        "\n",
        "AmarLal_Rest"
       ]
      },
      {
       "output_type": "stream",
       "stream": "stdout",
       "text": [
        "\n",
        "AmarLal_SpringDay1"
       ]
      },
      {
       "output_type": "stream",
       "stream": "stdout",
       "text": [
        "\n",
        "Auctioneer_OurFutureFaces"
       ]
      },
      {
       "output_type": "stream",
       "stream": "stdout",
       "text": [
        "\n",
        "AvaLuna_Waterduct"
       ]
      },
      {
       "output_type": "stream",
       "stream": "stdout",
       "text": [
        "\n",
        "BigTroubles_Phantom"
       ]
      },
      {
       "output_type": "stream",
       "stream": "stdout",
       "text": [
        "\n",
        "BrandonWebster_DontHearAThing"
       ]
      },
      {
       "output_type": "stream",
       "stream": "stdout",
       "text": [
        "\n",
        "BrandonWebster_YesSirICanFly"
       ]
      },
      {
       "output_type": "stream",
       "stream": "stdout",
       "text": [
        "\n",
        "CelestialShore_DieForUs"
       ]
      },
      {
       "output_type": "stream",
       "stream": "stdout",
       "text": [
        "\n",
        "ChrisJacoby_BoothShotLincoln"
       ]
      },
      {
       "output_type": "stream",
       "stream": "stdout",
       "text": [
        "\n",
        "ChrisJacoby_PigsFoot"
       ]
      },
      {
       "output_type": "stream",
       "stream": "stdout",
       "text": [
        "\n",
        "ClaraBerryAndWooldog_AirTraffic"
       ]
      },
      {
       "output_type": "stream",
       "stream": "stdout",
       "text": [
        "\n",
        "ClaraBerryAndWooldog_Boys"
       ]
      },
      {
       "output_type": "stream",
       "stream": "stdout",
       "text": [
        "\n",
        "ClaraBerryAndWooldog_Stella"
       ]
      },
      {
       "output_type": "stream",
       "stream": "stdout",
       "text": [
        "\n",
        "ClaraBerryAndWooldog_TheBadGuys"
       ]
      },
      {
       "output_type": "stream",
       "stream": "stdout",
       "text": [
        "\n",
        "ClaraBerryAndWooldog_WaltzForMyVictims"
       ]
      },
      {
       "output_type": "stream",
       "stream": "stdout",
       "text": [
        "\n",
        "CroqueMadame_Oil"
       ]
      },
      {
       "output_type": "stream",
       "stream": "stdout",
       "text": [
        "\n",
        "CroqueMadame_Pilot"
       ]
      },
      {
       "output_type": "stream",
       "stream": "stdout",
       "text": [
        "\n",
        "Debussy_LenfantProdigue"
       ]
      },
      {
       "output_type": "stream",
       "stream": "stdout",
       "text": [
        "\n",
        "DreamersOfTheGhetto_HeavyLove"
       ]
      },
      {
       "output_type": "stream",
       "stream": "stdout",
       "text": [
        "\n",
        "EthanHein_1930sSynthAndUprightBass"
       ]
      },
      {
       "output_type": "stream",
       "stream": "stdout",
       "text": [
        "\n",
        "EthanHein_GirlOnABridge"
       ]
      },
      {
       "output_type": "stream",
       "stream": "stdout",
       "text": [
        "\n",
        "FacesOnFilm_WaitingForGa"
       ]
      },
      {
       "output_type": "stream",
       "stream": "stdout",
       "text": [
        "\n",
        "Handel_TornamiAVagheggiar"
       ]
      },
      {
       "output_type": "stream",
       "stream": "stdout",
       "text": [
        "\n",
        "HeladoNegro_MitadDelMundo"
       ]
      },
      {
       "output_type": "stream",
       "stream": "stdout",
       "text": [
        "\n",
        "HezekiahJones_BorrowedHeart"
       ]
      },
      {
       "output_type": "stream",
       "stream": "stdout",
       "text": [
        "\n",
        "HopAlong_SisterCities"
       ]
      },
      {
       "output_type": "stream",
       "stream": "stdout",
       "text": [
        "\n",
        "InvisibleFamiliars_DisturbingWildlife"
       ]
      },
      {
       "output_type": "stream",
       "stream": "stdout",
       "text": [
        "\n",
        "JoelHelander_Definition"
       ]
      },
      {
       "output_type": "stream",
       "stream": "stdout",
       "text": [
        "\n",
        "JoelHelander_ExcessiveResistancetoChange"
       ]
      },
      {
       "output_type": "stream",
       "stream": "stdout",
       "text": [
        "\n",
        "JoelHelander_IntheAtticBedroom"
       ]
      },
      {
       "output_type": "stream",
       "stream": "stdout",
       "text": [
        "\n",
        "KarimDouaidy_Hopscotch"
       ]
      },
      {
       "output_type": "stream",
       "stream": "stdout",
       "text": [
        "\n",
        "KarimDouaidy_Yatora"
       ]
      },
      {
       "output_type": "stream",
       "stream": "stdout",
       "text": [
        "\n",
        "LizNelson_Coldwar"
       ]
      },
      {
       "output_type": "stream",
       "stream": "stdout",
       "text": [
        "\n",
        "LizNelson_ImComingHome"
       ]
      },
      {
       "output_type": "stream",
       "stream": "stdout",
       "text": [
        "\n",
        "LizNelson_Rainfall"
       ]
      },
      {
       "output_type": "stream",
       "stream": "stdout",
       "text": [
        "\n",
        "MatthewEntwistle_DontYouEver"
       ]
      },
      {
       "output_type": "stream",
       "stream": "stdout",
       "text": [
        "\n",
        "MatthewEntwistle_FairerHopes"
       ]
      },
      {
       "output_type": "stream",
       "stream": "stdout",
       "text": [
        "\n",
        "MatthewEntwistle_ImpressionsOfSaturn"
       ]
      },
      {
       "output_type": "stream",
       "stream": "stdout",
       "text": [
        "\n",
        "MatthewEntwistle_Lontano"
       ]
      },
      {
       "output_type": "stream",
       "stream": "stdout",
       "text": [
        "\n",
        "MatthewEntwistle_TheArch"
       ]
      },
      {
       "output_type": "stream",
       "stream": "stdout",
       "text": [
        "\n",
        "MatthewEntwistle_TheFlaxenField"
       ]
      },
      {
       "output_type": "stream",
       "stream": "stdout",
       "text": [
        "\n",
        "Meaxic_TakeAStep"
       ]
      },
      {
       "output_type": "stream",
       "stream": "stdout",
       "text": [
        "\n",
        "Meaxic_YouListen"
       ]
      },
      {
       "output_type": "stream",
       "stream": "stdout",
       "text": [
        "\n",
        "MichaelKropf_AllGoodThings"
       ]
      },
      {
       "output_type": "stream",
       "stream": "stdout",
       "text": [
        "\n",
        "Mozart_BesterJungling"
       ]
      },
      {
       "output_type": "stream",
       "stream": "stdout",
       "text": [
        "\n",
        "Mozart_DiesBildnis"
       ]
      },
      {
       "output_type": "stream",
       "stream": "stdout",
       "text": [
        "\n",
        "MusicDelta_80sRock"
       ]
      },
      {
       "output_type": "stream",
       "stream": "stdout",
       "text": [
        "\n",
        "MusicDelta_BebopJazz"
       ]
      },
      {
       "output_type": "stream",
       "stream": "stdout",
       "text": [
        "\n",
        "MusicDelta_Britpop"
       ]
      },
      {
       "output_type": "stream",
       "stream": "stdout",
       "text": [
        "\n",
        "MusicDelta_ChineseChaoZhou"
       ]
      },
      {
       "output_type": "stream",
       "stream": "stdout",
       "text": [
        "\n",
        "MusicDelta_ChineseDrama"
       ]
      },
      {
       "output_type": "stream",
       "stream": "stdout",
       "text": [
        "\n",
        "MusicDelta_ChineseHenan"
       ]
      },
      {
       "output_type": "stream",
       "stream": "stdout",
       "text": [
        "\n",
        "MusicDelta_ChineseJiangNan"
       ]
      },
      {
       "output_type": "stream",
       "stream": "stdout",
       "text": [
        "\n",
        "MusicDelta_ChineseXinJing"
       ]
      },
      {
       "output_type": "stream",
       "stream": "stdout",
       "text": [
        "\n",
        "MusicDelta_ChineseYaoZu"
       ]
      },
      {
       "output_type": "stream",
       "stream": "stdout",
       "text": [
        "\n",
        "MusicDelta_Country2"
       ]
      },
      {
       "output_type": "stream",
       "stream": "stdout",
       "text": [
        "\n",
        "MusicDelta_FreeJazz"
       ]
      },
      {
       "output_type": "stream",
       "stream": "stdout",
       "text": [
        "\n",
        "MusicDelta_FunkJazz"
       ]
      },
      {
       "output_type": "stream",
       "stream": "stdout",
       "text": [
        "\n",
        "MusicDelta_FusionJazz"
       ]
      },
      {
       "output_type": "stream",
       "stream": "stdout",
       "text": [
        "\n",
        "MusicDelta_Gospel"
       ]
      },
      {
       "output_type": "stream",
       "stream": "stdout",
       "text": [
        "\n",
        "MusicDelta_GriegTrolltog"
       ]
      },
      {
       "output_type": "stream",
       "stream": "stdout",
       "text": [
        "\n",
        "MusicDelta_Hendrix"
       ]
      },
      {
       "output_type": "stream",
       "stream": "stdout",
       "text": [
        "\n",
        "MusicDelta_ModalJazz"
       ]
      },
      {
       "output_type": "stream",
       "stream": "stdout",
       "text": [
        "\n",
        "MusicDelta_Pachelbel"
       ]
      },
      {
       "output_type": "stream",
       "stream": "stdout",
       "text": [
        "\n",
        "MusicDelta_Punk"
       ]
      },
      {
       "output_type": "stream",
       "stream": "stdout",
       "text": [
        "\n",
        "MusicDelta_Reggae"
       ]
      },
      {
       "output_type": "stream",
       "stream": "stdout",
       "text": [
        "\n",
        "MusicDelta_Rock"
       ]
      },
      {
       "output_type": "stream",
       "stream": "stdout",
       "text": [
        "\n",
        "MusicDelta_Shadows"
       ]
      },
      {
       "output_type": "stream",
       "stream": "stdout",
       "text": [
        "\n",
        "MusicDelta_SpeedMetal"
       ]
      },
      {
       "output_type": "stream",
       "stream": "stdout",
       "text": [
        "\n",
        "MusicDelta_Vivaldi"
       ]
      },
      {
       "output_type": "stream",
       "stream": "stdout",
       "text": [
        "\n",
        "MusicDelta_Zeppelin"
       ]
      },
      {
       "output_type": "stream",
       "stream": "stdout",
       "text": [
        "\n",
        "NightPanther_Fire"
       ]
      },
      {
       "output_type": "stream",
       "stream": "stdout",
       "text": [
        "\n",
        "PurlingHiss_Lolita"
       ]
      },
      {
       "output_type": "stream",
       "stream": "stdout",
       "text": [
        "\n",
        "Schubert_Erstarrung"
       ]
      },
      {
       "output_type": "stream",
       "stream": "stdout",
       "text": [
        "\n",
        "Schumann_Mignon"
       ]
      },
      {
       "output_type": "stream",
       "stream": "stdout",
       "text": [
        "\n",
        "SecretMountains_HighHorse"
       ]
      },
      {
       "output_type": "stream",
       "stream": "stdout",
       "text": [
        "\n",
        "Snowmine_Curfews"
       ]
      },
      {
       "output_type": "stream",
       "stream": "stdout",
       "text": [
        "\n",
        "StevenClark_Bounty"
       ]
      },
      {
       "output_type": "stream",
       "stream": "stdout",
       "text": [
        "\n",
        "StrandOfOaks_Spacestation"
       ]
      },
      {
       "output_type": "stream",
       "stream": "stdout",
       "text": [
        "\n",
        "SweetLights_YouLetMeDown"
       ]
      },
      {
       "output_type": "stream",
       "stream": "stdout",
       "text": [
        "\n",
        "TheDistricts_Vermont"
       ]
      },
      {
       "output_type": "stream",
       "stream": "stdout",
       "text": [
        "\n",
        "TheSoSoGlos_Emergency"
       ]
      },
      {
       "output_type": "stream",
       "stream": "stdout",
       "text": [
        "\n",
        "Wolf_DieBekherte"
       ]
      },
      {
       "output_type": "stream",
       "stream": "stdout",
       "text": [
        "\n",
        "Generating testing features"
       ]
      },
      {
       "output_type": "stream",
       "stream": "stdout",
       "text": [
        "\n",
        "Creepoid_OldTree\n",
        "FamilyBand_Again"
       ]
      },
      {
       "output_type": "stream",
       "stream": "stdout",
       "text": [
        "\n",
        "MusicDelta_Beatles"
       ]
      },
      {
       "output_type": "stream",
       "stream": "stdout",
       "text": [
        "\n",
        "MusicDelta_Beethoven"
       ]
      },
      {
       "output_type": "stream",
       "stream": "stdout",
       "text": [
        "\n",
        "MusicDelta_CoolJazz"
       ]
      },
      {
       "output_type": "stream",
       "stream": "stdout",
       "text": [
        "\n",
        "MusicDelta_Country1"
       ]
      },
      {
       "output_type": "stream",
       "stream": "stdout",
       "text": [
        "\n",
        "MusicDelta_Disco"
       ]
      },
      {
       "output_type": "stream",
       "stream": "stdout",
       "text": [
        "\n",
        "MusicDelta_Grunge"
       ]
      },
      {
       "output_type": "stream",
       "stream": "stdout",
       "text": [
        "\n",
        "MusicDelta_InTheHalloftheMountainKing"
       ]
      },
      {
       "output_type": "stream",
       "stream": "stdout",
       "text": [
        "\n",
        "MusicDelta_LatinJazz"
       ]
      },
      {
       "output_type": "stream",
       "stream": "stdout",
       "text": [
        "\n",
        "MusicDelta_Rockabilly"
       ]
      },
      {
       "output_type": "stream",
       "stream": "stdout",
       "text": [
        "\n",
        "MusicDelta_SwingJazz"
       ]
      },
      {
       "output_type": "stream",
       "stream": "stdout",
       "text": [
        "\n",
        "Phoenix_BrokenPledgeChicagoReel"
       ]
      },
      {
       "output_type": "stream",
       "stream": "stdout",
       "text": [
        "\n",
        "Phoenix_ColliersDaughter"
       ]
      },
      {
       "output_type": "stream",
       "stream": "stdout",
       "text": [
        "\n",
        "Phoenix_ElzicsFarewell"
       ]
      },
      {
       "output_type": "stream",
       "stream": "stdout",
       "text": [
        "\n",
        "Phoenix_LarkOnTheStrandDrummondCastle"
       ]
      },
      {
       "output_type": "stream",
       "stream": "stdout",
       "text": [
        "\n",
        "Phoenix_ScotchMorris"
       ]
      },
      {
       "output_type": "stream",
       "stream": "stdout",
       "text": [
        "\n",
        "Phoenix_SeanCaughlinsTheScartaglen"
       ]
      },
      {
       "output_type": "stream",
       "stream": "stdout",
       "text": [
        "\n",
        "PortStWillow_StayEven"
       ]
      },
      {
       "output_type": "stream",
       "stream": "stdout",
       "text": [
        "\n",
        "TheScarletBrand_LesFleursDuMal"
       ]
      },
      {
       "output_type": "stream",
       "stream": "stdout",
       "text": [
        "\n"
       ]
      },
      {
       "output_type": "stream",
       "stream": "stderr",
       "text": [
        "/usr/local/lib/python2.7/site-packages/mir_eval/melody.py:80: UserWarning: Reference melody has no voiced frames.\n",
        "  warnings.warn(\"Reference melody has no voiced frames.\")\n"
       ]
      }
     ],
     "prompt_number": 4
    },
    {
     "cell_type": "code",
     "collapsed": false,
     "input": [
      "X_train, Y_train = pd_to_sklearn(train_features)\n",
      "X_test, Y_test = pd_to_sklearn(test_features)"
     ],
     "language": "python",
     "metadata": {},
     "outputs": [],
     "prompt_number": 5
    },
    {
     "cell_type": "heading",
     "level": 3,
     "metadata": {},
     "source": [
      "Score with Multivariate Gaussian"
     ]
    },
    {
     "cell_type": "markdown",
     "metadata": {},
     "source": [
      "Transform data using boxcox transform. Estimate optimal lambda."
     ]
    },
    {
     "cell_type": "code",
     "collapsed": false,
     "input": [
      "_, n_feats = X_train.shape\n",
      "print X_train.shape\n",
      "X_train_boxcox = np.zeros(X_train.shape)\n",
      "lmbda_opt = np.zeros((n_feats,))\n",
      "eps = 1.0 #np.finfo(float).eps\n",
      "for i in range(n_feats):\n",
      "    X_train_boxcox[:, i], lmbda_opt[i] = boxcox(X_train[:, i] + eps)"
     ],
     "language": "python",
     "metadata": {},
     "outputs": [
      {
       "output_type": "stream",
       "stream": "stdout",
       "text": [
        "(1053, 10)\n"
       ]
      }
     ],
     "prompt_number": 109
    },
    {
     "cell_type": "markdown",
     "metadata": {},
     "source": [
      "Transform test data using optimal lambda"
     ]
    },
    {
     "cell_type": "code",
     "collapsed": false,
     "input": [
      "X_test_boxcox = np.zeros(X_test.shape)\n",
      "for i in range(n_feats):\n",
      "    X_test_boxcox[:, i] = boxcox(X_test[:, i] + eps, lmbda=lmbda_opt[i])"
     ],
     "language": "python",
     "metadata": {},
     "outputs": [],
     "prompt_number": 110
    },
    {
     "cell_type": "code",
     "collapsed": false,
     "input": [
      "pos_idx = np.where(Y_train == 1)[0]\n",
      "mu_pos = np.mean(X_train[pos_idx, :], axis=0)\n",
      "cov_pos = np.cov(X_train[pos_idx, :], rowvar=0)\n",
      "\n",
      "neg_idx = np.where(Y_train == 0)[0]\n",
      "mu_neg = np.mean(X_train[neg_idx, :], axis=0)\n",
      "cov_neg = np.cov(X_train[neg_idx, :], rowvar=0)"
     ],
     "language": "python",
     "metadata": {},
     "outputs": [],
     "prompt_number": 111
    },
    {
     "cell_type": "code",
     "collapsed": false,
     "input": [
      "from scipy.stats import multivariate_normal\n",
      "\n",
      "rv_pos = multivariate_normal(mean=mu_pos, cov=cov_pos, allow_singular=True)\n",
      "rv_neg = multivariate_normal(mean=mu_neg, cov=cov_neg, allow_singular=True)\n",
      "\n",
      "def melodiness(x, rv_pos, rv_neg):\n",
      "    if rv_neg.pdf(x) == 0:\n",
      "        print \"eek\"\n",
      "    return rv_pos.pdf(x)/rv_neg.pdf(x)"
     ],
     "language": "python",
     "metadata": {},
     "outputs": [],
     "prompt_number": 112
    },
    {
     "cell_type": "code",
     "collapsed": false,
     "input": [
      "est_melodiness_train = np.zeros(Y_train.shape)\n",
      "for i, x in enumerate(X_train_boxcox):\n",
      "    est_melodiness_train[i] = melodiness(x, rv_pos, rv_neg)\n",
      "# train_features['melodiness'] = est_melodiness_train\n",
      "\n",
      "est_melodiness_test = np.zeros(Y_test.shape)\n",
      "for i, x in enumerate(X_test_boxcox):\n",
      "    est_melodiness_test[i] = melodiness(x, rv_pos, rv_neg)\n",
      "# test_features['melodiness'] = est_melodiness_test\n",
      "test = est_melodiness_test/np.max(est_melodiness_test)\n",
      "print test[test > 0.5]"
     ],
     "language": "python",
     "metadata": {},
     "outputs": [
      {
       "output_type": "stream",
       "stream": "stdout",
       "text": [
        "[ 0.54385974  0.57617703  0.5327373   0.52085633  0.67483641  0.52148263\n",
        "  0.95641957  0.92537017  0.52170708  0.57063574  0.71394782  0.52466215\n",
        "  0.54570948  0.99154941  1.        ]\n"
       ]
      }
     ],
     "prompt_number": 116
    },
    {
     "cell_type": "heading",
     "level": 3,
     "metadata": {},
     "source": [
      "Train Classifier"
     ]
    },
    {
     "cell_type": "code",
     "collapsed": false,
     "input": [
      "scores = []\n",
      "for max_depth in np.arange(1, 101, 5):\n",
      "    print \"training with max_depth=%s\" % max_depth\n",
      "#     clf = RFC(n_estimators=100, max_depth=max_depth, n_jobs=8)\n",
      "    clf = RFR(n_estimators=10, max_depth=max_depth, n_jobs=8)\n",
      "    all_scores = cross_validation.cross_val_score(clf, X_train, Y_train, cv=5)\n",
      "    scores.append([max_depth, np.mean(all_scores), np.std(all_scores)])"
     ],
     "language": "python",
     "metadata": {},
     "outputs": [
      {
       "output_type": "stream",
       "stream": "stdout",
       "text": [
        "training with max_depth=1\n",
        "training with max_depth=6"
       ]
      },
      {
       "output_type": "stream",
       "stream": "stdout",
       "text": [
        "\n",
        "training with max_depth=11"
       ]
      },
      {
       "output_type": "stream",
       "stream": "stdout",
       "text": [
        "\n",
        "training with max_depth=16"
       ]
      },
      {
       "output_type": "stream",
       "stream": "stdout",
       "text": [
        "\n",
        "training with max_depth=21"
       ]
      },
      {
       "output_type": "stream",
       "stream": "stdout",
       "text": [
        "\n",
        "training with max_depth=26"
       ]
      },
      {
       "output_type": "stream",
       "stream": "stdout",
       "text": [
        "\n",
        "training with max_depth=31"
       ]
      },
      {
       "output_type": "stream",
       "stream": "stdout",
       "text": [
        "\n",
        "training with max_depth=36"
       ]
      },
      {
       "output_type": "stream",
       "stream": "stdout",
       "text": [
        "\n",
        "training with max_depth=41"
       ]
      },
      {
       "output_type": "stream",
       "stream": "stdout",
       "text": [
        "\n",
        "training with max_depth=46"
       ]
      },
      {
       "output_type": "stream",
       "stream": "stdout",
       "text": [
        "\n",
        "training with max_depth=51"
       ]
      },
      {
       "output_type": "stream",
       "stream": "stdout",
       "text": [
        "\n",
        "training with max_depth=56"
       ]
      },
      {
       "output_type": "stream",
       "stream": "stdout",
       "text": [
        "\n",
        "training with max_depth=61"
       ]
      },
      {
       "output_type": "stream",
       "stream": "stdout",
       "text": [
        "\n",
        "training with max_depth=66"
       ]
      },
      {
       "output_type": "stream",
       "stream": "stdout",
       "text": [
        "\n",
        "training with max_depth=71"
       ]
      },
      {
       "output_type": "stream",
       "stream": "stdout",
       "text": [
        "\n",
        "training with max_depth=76"
       ]
      },
      {
       "output_type": "stream",
       "stream": "stdout",
       "text": [
        "\n",
        "training with max_depth=81"
       ]
      },
      {
       "output_type": "stream",
       "stream": "stdout",
       "text": [
        "\n",
        "training with max_depth=86"
       ]
      },
      {
       "output_type": "stream",
       "stream": "stdout",
       "text": [
        "\n",
        "training with max_depth=91"
       ]
      },
      {
       "output_type": "stream",
       "stream": "stdout",
       "text": [
        "\n",
        "training with max_depth=96"
       ]
      },
      {
       "output_type": "stream",
       "stream": "stdout",
       "text": [
        "\n"
       ]
      }
     ],
     "prompt_number": 6
    },
    {
     "cell_type": "code",
     "collapsed": false,
     "input": [
      "x = [score[0] for score in scores]\n",
      "y = [score[1] for score in scores]\n",
      "e = [score[2] for score in scores]\n",
      "plt.errorbar(x, y, e, linestyle='-', marker='o')\n",
      "plt.title('Mean cross validation accuracy')\n",
      "plt.xlabel('max depth')\n",
      "plt.ylabel('mean accuracy')\n",
      "plt.show()\n",
      "print np.max(y)\n",
      "print x[np.argmax(y)]"
     ],
     "language": "python",
     "metadata": {},
     "outputs": [
      {
       "metadata": {},
       "output_type": "display_data",
       "png": "[encoded data removed]",
       "text": [
        "<matplotlib.figure.Figure at 0x116177f90>"
       ]
      },
      {
       "output_type": "stream",
       "stream": "stdout",
       "text": [
        "0.133856904778\n",
        "6\n"
       ]
      }
     ],
     "prompt_number": 7
    },
    {
     "cell_type": "code",
     "collapsed": false,
     "input": [
      "clf = RFR(n_estimators=10, max_depth=6, n_jobs=8)\n",
      "clf = clf.fit(X_train, Y_train)"
     ],
     "language": "python",
     "metadata": {},
     "outputs": [],
     "prompt_number": 10
    },
    {
     "cell_type": "code",
     "collapsed": false,
     "input": [
      "print \"Train accuracy: %s\" % clf.score(X_train, Y_train)\n",
      "print \"Test accuracy: %s\" % clf.score(X_test, Y_test)"
     ],
     "language": "python",
     "metadata": {},
     "outputs": [
      {
       "output_type": "stream",
       "stream": "stdout",
       "text": [
        "Train accuracy: 0.20058269638\n",
        "Test accuracy: -0.0643252871583"
       ]
      },
      {
       "output_type": "stream",
       "stream": "stdout",
       "text": [
        "\n"
       ]
      }
     ],
     "prompt_number": 11
    },
    {
     "cell_type": "code",
     "collapsed": false,
     "input": [
      "print \"Generating testing features\"\n",
      "test_contour_dat = {}\n",
      "test_feature_dat = {}\n",
      "test_annot_dat = {}\n",
      "for track in test_tracks:\n",
      "    print track\n",
      "    contour_fname = \"%s_%s\" % (track, contour_suffix)\n",
      "    contour_fpath = os.path.join(contours_path, contour_fname)\n",
      "    annot_fname = \"%s_%s\" % (track, annot_suffix)\n",
      "    annot_fpath = os.path.join(annots_path, annot_fname)\n",
      "    \n",
      "    cdat = cc.load_contour_data(contour_fpath)\n",
      "    adat = cc.load_annotation(annot_fpath)\n",
      "    \n",
      "    test_feature_dat[track] = cc.label_contours(cdat, adat, OLAP_THRESH, regression=True)\n",
      "    test_contour_dat[track] = cdat.copy()\n",
      "    test_annot_dat[track] = adat.copy()"
     ],
     "language": "python",
     "metadata": {},
     "outputs": [
      {
       "output_type": "stream",
       "stream": "stdout",
       "text": [
        "Generating testing features\n",
        "Creepoid_OldTree\n",
        "FamilyBand_Again"
       ]
      },
      {
       "output_type": "stream",
       "stream": "stdout",
       "text": [
        "\n",
        "MusicDelta_Beatles"
       ]
      },
      {
       "output_type": "stream",
       "stream": "stdout",
       "text": [
        "\n",
        "MusicDelta_Beethoven"
       ]
      },
      {
       "output_type": "stream",
       "stream": "stdout",
       "text": [
        "\n",
        "MusicDelta_CoolJazz"
       ]
      },
      {
       "output_type": "stream",
       "stream": "stdout",
       "text": [
        "\n",
        "MusicDelta_Country1"
       ]
      },
      {
       "output_type": "stream",
       "stream": "stdout",
       "text": [
        "\n",
        "MusicDelta_Disco"
       ]
      },
      {
       "output_type": "stream",
       "stream": "stdout",
       "text": [
        "\n",
        "MusicDelta_Grunge"
       ]
      },
      {
       "output_type": "stream",
       "stream": "stdout",
       "text": [
        "\n",
        "MusicDelta_InTheHalloftheMountainKing"
       ]
      },
      {
       "output_type": "stream",
       "stream": "stdout",
       "text": [
        "\n",
        "MusicDelta_LatinJazz"
       ]
      },
      {
       "output_type": "stream",
       "stream": "stdout",
       "text": [
        "\n",
        "MusicDelta_Rockabilly"
       ]
      },
      {
       "output_type": "stream",
       "stream": "stdout",
       "text": [
        "\n",
        "MusicDelta_SwingJazz"
       ]
      },
      {
       "output_type": "stream",
       "stream": "stdout",
       "text": [
        "\n",
        "Phoenix_BrokenPledgeChicagoReel"
       ]
      },
      {
       "output_type": "stream",
       "stream": "stdout",
       "text": [
        "\n",
        "Phoenix_ColliersDaughter"
       ]
      },
      {
       "output_type": "stream",
       "stream": "stdout",
       "text": [
        "\n",
        "Phoenix_ElzicsFarewell"
       ]
      },
      {
       "output_type": "stream",
       "stream": "stdout",
       "text": [
        "\n",
        "Phoenix_LarkOnTheStrandDrummondCastle"
       ]
      },
      {
       "output_type": "stream",
       "stream": "stdout",
       "text": [
        "\n",
        "Phoenix_ScotchMorris"
       ]
      },
      {
       "output_type": "stream",
       "stream": "stdout",
       "text": [
        "\n",
        "Phoenix_SeanCaughlinsTheScartaglen"
       ]
      },
      {
       "output_type": "stream",
       "stream": "stdout",
       "text": [
        "\n",
        "PortStWillow_StayEven"
       ]
      },
      {
       "output_type": "stream",
       "stream": "stdout",
       "text": [
        "\n",
        "TheScarletBrand_LesFleursDuMal"
       ]
      },
      {
       "output_type": "stream",
       "stream": "stdout",
       "text": [
        "\n"
       ]
      },
      {
       "output_type": "stream",
       "stream": "stdout",
       "text": [
        "Generating testing features\n",
        "Creepoid_OldTree"
       ]
      },
      {
       "output_type": "stream",
       "stream": "stdout",
       "text": [
        "\n",
        "FamilyBand_Again"
       ]
      },
      {
       "output_type": "stream",
       "stream": "stdout",
       "text": [
        "\n",
        "MusicDelta_Beatles"
       ]
      },
      {
       "output_type": "stream",
       "stream": "stdout",
       "text": [
        "\n",
        "MusicDelta_Beethoven"
       ]
      },
      {
       "output_type": "stream",
       "stream": "stdout",
       "text": [
        "\n",
        "MusicDelta_CoolJazz"
       ]
      },
      {
       "output_type": "stream",
       "stream": "stdout",
       "text": [
        "\n",
        "MusicDelta_Country1"
       ]
      },
      {
       "output_type": "stream",
       "stream": "stdout",
       "text": [
        "\n",
        "MusicDelta_Disco"
       ]
      },
      {
       "output_type": "stream",
       "stream": "stdout",
       "text": [
        "\n",
        "MusicDelta_Grunge"
       ]
      },
      {
       "output_type": "stream",
       "stream": "stdout",
       "text": [
        "\n",
        "MusicDelta_InTheHalloftheMountainKing"
       ]
      },
      {
       "output_type": "stream",
       "stream": "stdout",
       "text": [
        "\n",
        "MusicDelta_LatinJazz"
       ]
      },
      {
       "output_type": "stream",
       "stream": "stdout",
       "text": [
        "\n",
        "MusicDelta_Rockabilly"
       ]
      },
      {
       "output_type": "stream",
       "stream": "stdout",
       "text": [
        "\n",
        "MusicDelta_SwingJazz"
       ]
      },
      {
       "output_type": "stream",
       "stream": "stdout",
       "text": [
        "\n",
        "Phoenix_BrokenPledgeChicagoReel"
       ]
      },
      {
       "output_type": "stream",
       "stream": "stdout",
       "text": [
        "\n",
        "Phoenix_ColliersDaughter"
       ]
      },
      {
       "output_type": "stream",
       "stream": "stdout",
       "text": [
        "\n",
        "Phoenix_ElzicsFarewell"
       ]
      },
      {
       "output_type": "stream",
       "stream": "stdout",
       "text": [
        "\n",
        "Phoenix_LarkOnTheStrandDrummondCastle"
       ]
      },
      {
       "output_type": "stream",
       "stream": "stdout",
       "text": [
        "\n",
        "Phoenix_ScotchMorris"
       ]
      },
      {
       "output_type": "stream",
       "stream": "stdout",
       "text": [
        "\n",
        "Phoenix_SeanCaughlinsTheScartaglen"
       ]
      },
      {
       "output_type": "stream",
       "stream": "stdout",
       "text": [
        "\n",
        "PortStWillow_StayEven"
       ]
      },
      {
       "output_type": "stream",
       "stream": "stdout",
       "text": [
        "\n",
        "TheScarletBrand_LesFleursDuMal"
       ]
      },
      {
       "output_type": "stream",
       "stream": "stdout",
       "text": [
        "\n"
       ]
      }
     ],
     "prompt_number": 13
    },
    {
     "cell_type": "code",
     "collapsed": false,
     "input": [
      "def contour_probs(clf, feat_data, contour_data):\n",
      "    contour_data['mel_prob'] = -1\n",
      "    X, Y = pd_to_sklearn(feat_data)\n",
      "#     probs = clf.predict_proba(X)\n",
      "    mel_probs = clf.predict(X)\n",
      "#     mel_probs = [p[1] for p in probs]\n",
      "    contour_data['mel_prob'] = mel_probs\n",
      "    print clf.score(X, Y)\n",
      "#     for row in feat_data.iterrows():\n",
      "#         row_idx = row[0]\n",
      "#         features = row[1].values\n",
      "#         probs = clf.predict_proba(features[:10])\n",
      "#         contour_data.ix[row_idx, 'mel_prob'] = probs[0][1]\n",
      "    return contour_data"
     ],
     "language": "python",
     "metadata": {},
     "outputs": [],
     "prompt_number": 14
    },
    {
     "cell_type": "code",
     "collapsed": false,
     "input": [
      "track = 'MusicDelta_SwingJazz'\n",
      "mel_prob_test = contour_probs(clf, test_feature_dat[track], \\\n",
      "                              test_contour_dat[track])"
     ],
     "language": "python",
     "metadata": {},
     "outputs": [
      {
       "output_type": "stream",
       "stream": "stdout",
       "text": [
        "-0.183567784426\n"
       ]
      }
     ],
     "prompt_number": 15
    },
    {
     "cell_type": "code",
     "collapsed": false,
     "input": [
      "contour_test = mel_prob_test[mel_prob_test['mel_prob'] > 0.2]"
     ],
     "language": "python",
     "metadata": {},
     "outputs": [],
     "prompt_number": 22
    },
    {
     "cell_type": "code",
     "collapsed": false,
     "input": [
      "cc.make_coverage_plot(contour_test.iloc[:, :-1], test_annot_dat[track])"
     ],
     "language": "python",
     "metadata": {},
     "outputs": [
      {
       "metadata": {},
       "output_type": "display_data",
       "png": "[encoded data removed]",
       "text": [
        "<matplotlib.figure.Figure at 0x1192cd6d0>"
       ]
      }
     ],
     "prompt_number": 23
    },
    {
     "cell_type": "code",
     "collapsed": false,
     "input": [],
     "language": "python",
     "metadata": {},
     "outputs": [],
     "prompt_number": "*"
    }
   ],
   "metadata": {}
  }
 ]
}