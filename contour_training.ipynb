{
 "metadata": {
  "name": ""
 },
 "nbformat": 3,
 "nbformat_minor": 0,
 "worksheets": [
  {
   "cells": [
    {
     "cell_type": "code",
     "collapsed": false,
     "input": [
      "import contour_classification.contour_utils as cc\n",
      "import contour_classification.experiment_utils as eu\n",
      "import contour_classification.mv_gaussian as mv\n",
      "import contour_classification.clf_utils as cu\n",
      "import contour_classification.generate_melody as gm\n",
      "from sklearn.ensemble import RandomForestClassifier as RFC\n",
      "from sklearn.cross_validation import KFold\n",
      "from sklearn import cross_validation\n",
      "from sklearn import metrics\n",
      "import sklearn\n",
      "import pandas as pd\n",
      "import numpy as np\n",
      "import random\n",
      "import glob\n",
      "import os\n",
      "import matplotlib.pyplot as plt\n",
      "%matplotlib inline\n",
      "from scipy.stats import boxcox"
     ],
     "language": "python",
     "metadata": {},
     "outputs": []
    },
    {
     "cell_type": "heading",
     "level": 3,
     "metadata": {},
     "source": [
      "Create train/test split"
     ]
    },
    {
     "cell_type": "markdown",
     "metadata": {},
     "source": [
      "Splits are chosen such that each split contains unique artists."
     ]
    },
    {
     "cell_type": "code",
     "collapsed": false,
     "input": [
      "mdb_files, splitter = eu.create_splits()\n",
      "\n",
      "for train, test in splitter:\n",
      "    train_tracks = mdb_files[train]\n",
      "    test_tracks = mdb_files[test]\n",
      "    break\n",
      "print test_tracks"
     ],
     "language": "python",
     "metadata": {},
     "outputs": []
    },
    {
     "cell_type": "heading",
     "level": 3,
     "metadata": {},
     "source": [
      "Split out features and compute labels"
     ]
    },
    {
     "cell_type": "heading",
     "level": 4,
     "metadata": {},
     "source": [
      "Compute Overlap with Annotation"
     ]
    },
    {
     "cell_type": "code",
     "collapsed": false,
     "input": [
      "MELTYPE = 1\n",
      "train_contour_dict, test_contour_dict, test_annot_dict = \\\n",
      "    eu.compute_all_overlaps(train_tracks, test_tracks, meltype=MELTYPE)"
     ],
     "language": "python",
     "metadata": {},
     "outputs": []
    },
    {
     "cell_type": "heading",
     "level": 4,
     "metadata": {},
     "source": [
      "Compute overlap statistics of contours with partial overlap"
     ]
    },
    {
     "cell_type": "code",
     "collapsed": false,
     "input": [
      "olap_stats, zero_olap_stats = olap_stats(train_contour_dict)"
     ],
     "language": "python",
     "metadata": {},
     "outputs": []
    },
    {
     "cell_type": "heading",
     "level": 4,
     "metadata": {},
     "source": [
      "Compute Labels using Overlap Threshold"
     ]
    },
    {
     "cell_type": "code",
     "collapsed": false,
     "input": [
      "OLAP_THRESH = 0.5\n",
      "train_contour_dict, test_contour_dict = \\\n",
      "    eu.label_all_contours(train_contour_dict, test_contour_dict, olap_thresh=OLAP_THRESH)"
     ],
     "language": "python",
     "metadata": {},
     "outputs": []
    },
    {
     "cell_type": "code",
     "collapsed": false,
     "input": [
      "X_train, Y_train = cc.pd_to_sklearn(train_contour_dict)\n",
      "X_test, Y_test = cc.pd_to_sklearn(test_contour_dict)"
     ],
     "language": "python",
     "metadata": {},
     "outputs": []
    },
    {
     "cell_type": "heading",
     "level": 3,
     "metadata": {},
     "source": [
      "Score with Multivariate Gaussian"
     ]
    },
    {
     "cell_type": "markdown",
     "metadata": {},
     "source": [
      "Transform data using boxcox transform, and fit multivariate gaussians."
     ]
    },
    {
     "cell_type": "code",
     "collapsed": false,
     "input": [
      "X_train_boxcox, X_test_boxcox = mv.transform_features(X_train, X_test)\n",
      "rv_pos, rv_neg = mv.fit_gaussians(X_train_boxcox, Y_train)"
     ],
     "language": "python",
     "metadata": {},
     "outputs": []
    },
    {
     "cell_type": "markdown",
     "metadata": {},
     "source": [
      "Compute melodiness scores on train and test set"
     ]
    },
    {
     "cell_type": "code",
     "collapsed": false,
     "input": [
      "M_train, M_test = mv.compute_all_melodiness(X_train_boxcox, X_test_boxcox, rv_pos, rv_neg)"
     ],
     "language": "python",
     "metadata": {},
     "outputs": []
    },
    {
     "cell_type": "markdown",
     "metadata": {},
     "source": [
      "Compute various metrics based on melodiness scores."
     ]
    },
    {
     "cell_type": "code",
     "collapsed": false,
     "input": [
      "melodiness_scores = mv.melodiness_metrics(M_train, M_test, Y_train, Y_test)"
     ],
     "language": "python",
     "metadata": {},
     "outputs": []
    },
    {
     "cell_type": "heading",
     "level": 3,
     "metadata": {},
     "source": [
      "Train Classifier"
     ]
    },
    {
     "cell_type": "heading",
     "level": 4,
     "metadata": {},
     "source": [
      "Cross Validation"
     ]
    },
    {
     "cell_type": "code",
     "collapsed": false,
     "input": [
      "best_depth, max_cv_accuracy = cu.cross_val_sweep(X_train, Y_train)\n",
      "print best_depth\n",
      "print max_cv_accuracy"
     ],
     "language": "python",
     "metadata": {},
     "outputs": []
    },
    {
     "cell_type": "heading",
     "level": 4,
     "metadata": {},
     "source": [
      "Training"
     ]
    },
    {
     "cell_type": "code",
     "collapsed": false,
     "input": [
      "clf = cu.train_clf(X_train, Y_train, best_depth)"
     ],
     "language": "python",
     "metadata": {},
     "outputs": []
    },
    {
     "cell_type": "heading",
     "level": 4,
     "metadata": {},
     "source": [
      "Predict and Score"
     ]
    },
    {
     "cell_type": "code",
     "collapsed": false,
     "input": [
      "P_train, P_test = cu.clf_predictions(X_train, X_test, clf)\n",
      "clf_scores = cu.clf_metrics(P_train, P_test, Y_train, Y_test)"
     ],
     "language": "python",
     "metadata": {},
     "outputs": []
    },
    {
     "cell_type": "heading",
     "level": 3,
     "metadata": {},
     "source": [
      "Generate Melody Output"
     ]
    },
    {
     "cell_type": "heading",
     "level": 4,
     "metadata": {},
     "source": [
      "Add predicted melody probabilites to test set contour data"
     ]
    },
    {
     "cell_type": "code",
     "collapsed": false,
     "input": [
      "for key in test_contour_dict.keys():\n",
      "    test_contour_dict[key] = eu.contour_probs(clf, test_contour_dict[key])"
     ],
     "language": "python",
     "metadata": {},
     "outputs": []
    },
    {
     "cell_type": "heading",
     "level": 4,
     "metadata": {},
     "source": [
      "Generate melody output using predictions"
     ]
    },
    {
     "cell_type": "code",
     "collapsed": false,
     "input": [
      "mel_output_dict = {}\n",
      "for key in test_contour_dict.keys():\n",
      "    mel_output_dict[key] = gm.melody_from_clf(test_contour_dict[key])"
     ],
     "language": "python",
     "metadata": {},
     "outputs": []
    },
    {
     "cell_type": "heading",
     "level": 3,
     "metadata": {},
     "source": [
      "Score Melody Output"
     ]
    },
    {
     "cell_type": "code",
     "collapsed": false,
     "input": [
      "melody_scores = score_melodies(mel_output_dict, test_annot_dict)"
     ],
     "language": "python",
     "metadata": {},
     "outputs": []
    }
   ],
   "metadata": {}
  }
 ]
}