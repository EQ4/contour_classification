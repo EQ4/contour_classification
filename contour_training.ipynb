{
 "metadata": {
  "name": ""
 },
 "nbformat": 3,
 "nbformat_minor": 0,
 "worksheets": [
  {
   "cells": [
    {
     "cell_type": "code",
     "collapsed": false,
     "input": [
      "import contour_classification.contour_utils as cc\n",
      "import contour_classification.experiment_utils as eu\n",
      "import contour_classification.mv_gaussian as mv\n",
      "import contour_classification.clf_utils as cu\n",
      "import contour_classification.generate_melody as gm\n",
      "from sklearn.ensemble import RandomForestClassifier as RFC\n",
      "from sklearn.cross_validation import KFold\n",
      "from sklearn import cross_validation\n",
      "from sklearn import metrics\n",
      "import sklearn\n",
      "import pandas as pd\n",
      "import numpy as np\n",
      "import random\n",
      "import glob\n",
      "import os\n",
      "import json\n",
      "import matplotlib.pyplot as plt\n",
      "%matplotlib inline\n",
      "import seaborn as sns\n",
      "sns.set()\n",
      "from scipy.stats import boxcox"
     ],
     "language": "python",
     "metadata": {},
     "outputs": [],
     "prompt_number": 6
    },
    {
     "cell_type": "heading",
     "level": 3,
     "metadata": {},
     "source": [
      "Create train/test split"
     ]
    },
    {
     "cell_type": "markdown",
     "metadata": {},
     "source": [
      "Splits are chosen such that each split contains unique artists."
     ]
    },
    {
     "cell_type": "code",
     "collapsed": false,
     "input": [
      "mel_type=2\n",
      "\n",
      "reload(eu)\n",
      "\n",
      "with open('melody_trackids.json', 'r') as fhandle:\n",
      "    track_list = json.load(fhandle)\n",
      "track_list = track_list['tracks']\n",
      "\n",
      "mdb_files, splitter = eu.create_splits(test_size=0.15)\n",
      "\n",
      "dset_contour_dict, dset_annot_dict = \\\n",
      "        eu.compute_all_overlaps(track_list, meltype=2)\n",
      "\n",
      "mdb_files, splitter = eu.create_splits(test_size=0.15)\n",
      "\n",
      "for train, test in splitter:\n",
      "    random.shuffle(train)\n",
      "    n_train = len(train) - (len(test)/2)\n",
      "    train_tracks = mdb_files[train[:n_train]]\n",
      "    valid_tracks = mdb_files[train[n_train:]]\n",
      "    test_tracks = mdb_files[test]\n",
      "    break\n",
      "    \n",
      "train_contour_dict = {k: dset_contour_dict[k] for k in train_tracks}\n",
      "valid_contour_dict = {k: dset_contour_dict[k] for k in valid_tracks}\n",
      "test_contour_dict = {k: dset_contour_dict[k] for k in test_tracks}\n",
      "\n",
      "train_annot_dict = {k: dset_annot_dict[k] for k in train_tracks}\n",
      "valid_annot_dict = {k: dset_annot_dict[k] for k in valid_tracks}\n",
      "test_annot_dict = {k: dset_annot_dict[k] for k in test_tracks}"
     ],
     "language": "python",
     "metadata": {},
     "outputs": [
      {
       "output_type": "stream",
       "stream": "stdout",
       "text": [
        "Generating features...                                                                                      |\n",
        "."
       ]
      },
      {
       "output_type": "stream",
       "stream": "stdout",
       "text": [
        ".."
       ]
      },
      {
       "output_type": "stream",
       "stream": "stdout",
       "text": [
        ".."
       ]
      },
      {
       "output_type": "stream",
       "stream": "stdout",
       "text": [
        ".."
       ]
      },
      {
       "output_type": "stream",
       "stream": "stdout",
       "text": [
        ".."
       ]
      },
      {
       "output_type": "stream",
       "stream": "stdout",
       "text": [
        ".."
       ]
      },
      {
       "output_type": "stream",
       "stream": "stdout",
       "text": [
        ".."
       ]
      },
      {
       "output_type": "stream",
       "stream": "stdout",
       "text": [
        ".."
       ]
      },
      {
       "output_type": "stream",
       "stream": "stdout",
       "text": [
        ".."
       ]
      },
      {
       "output_type": "stream",
       "stream": "stdout",
       "text": [
        ".."
       ]
      },
      {
       "output_type": "stream",
       "stream": "stdout",
       "text": [
        ".."
       ]
      },
      {
       "output_type": "stream",
       "stream": "stdout",
       "text": [
        ".."
       ]
      },
      {
       "output_type": "stream",
       "stream": "stdout",
       "text": [
        ".."
       ]
      },
      {
       "output_type": "stream",
       "stream": "stdout",
       "text": [
        ".."
       ]
      },
      {
       "output_type": "stream",
       "stream": "stdout",
       "text": [
        ".."
       ]
      },
      {
       "output_type": "stream",
       "stream": "stdout",
       "text": [
        ".."
       ]
      },
      {
       "output_type": "stream",
       "stream": "stdout",
       "text": [
        ".."
       ]
      },
      {
       "output_type": "stream",
       "stream": "stdout",
       "text": [
        ".."
       ]
      },
      {
       "output_type": "stream",
       "stream": "stdout",
       "text": [
        ".."
       ]
      },
      {
       "output_type": "stream",
       "stream": "stdout",
       "text": [
        ".."
       ]
      },
      {
       "output_type": "stream",
       "stream": "stdout",
       "text": [
        ".."
       ]
      },
      {
       "output_type": "stream",
       "stream": "stdout",
       "text": [
        ".."
       ]
      },
      {
       "output_type": "stream",
       "stream": "stdout",
       "text": [
        ".."
       ]
      },
      {
       "output_type": "stream",
       "stream": "stdout",
       "text": [
        ".."
       ]
      },
      {
       "output_type": "stream",
       "stream": "stdout",
       "text": [
        ".."
       ]
      },
      {
       "output_type": "stream",
       "stream": "stdout",
       "text": [
        ".."
       ]
      },
      {
       "output_type": "stream",
       "stream": "stdout",
       "text": [
        ".."
       ]
      },
      {
       "output_type": "stream",
       "stream": "stdout",
       "text": [
        ".."
       ]
      },
      {
       "output_type": "stream",
       "stream": "stdout",
       "text": [
        ".."
       ]
      },
      {
       "output_type": "stream",
       "stream": "stdout",
       "text": [
        ".."
       ]
      },
      {
       "output_type": "stream",
       "stream": "stdout",
       "text": [
        ".."
       ]
      },
      {
       "output_type": "stream",
       "stream": "stdout",
       "text": [
        ".."
       ]
      },
      {
       "output_type": "stream",
       "stream": "stdout",
       "text": [
        ".."
       ]
      },
      {
       "output_type": "stream",
       "stream": "stdout",
       "text": [
        ".."
       ]
      },
      {
       "output_type": "stream",
       "stream": "stdout",
       "text": [
        ".."
       ]
      },
      {
       "output_type": "stream",
       "stream": "stdout",
       "text": [
        ".."
       ]
      },
      {
       "output_type": "stream",
       "stream": "stdout",
       "text": [
        ".."
       ]
      },
      {
       "output_type": "stream",
       "stream": "stdout",
       "text": [
        ".."
       ]
      },
      {
       "output_type": "stream",
       "stream": "stdout",
       "text": [
        ".."
       ]
      },
      {
       "output_type": "stream",
       "stream": "stdout",
       "text": [
        ".."
       ]
      },
      {
       "output_type": "stream",
       "stream": "stdout",
       "text": [
        ".."
       ]
      },
      {
       "output_type": "stream",
       "stream": "stdout",
       "text": [
        ".."
       ]
      },
      {
       "output_type": "stream",
       "stream": "stdout",
       "text": [
        ".."
       ]
      },
      {
       "output_type": "stream",
       "stream": "stdout",
       "text": [
        ".."
       ]
      },
      {
       "output_type": "stream",
       "stream": "stdout",
       "text": [
        ".."
       ]
      },
      {
       "output_type": "stream",
       "stream": "stdout",
       "text": [
        ".."
       ]
      },
      {
       "output_type": "stream",
       "stream": "stdout",
       "text": [
        ".."
       ]
      },
      {
       "output_type": "stream",
       "stream": "stdout",
       "text": [
        ".."
       ]
      },
      {
       "output_type": "stream",
       "stream": "stdout",
       "text": [
        ".."
       ]
      },
      {
       "output_type": "stream",
       "stream": "stdout",
       "text": [
        ".."
       ]
      },
      {
       "output_type": "stream",
       "stream": "stdout",
       "text": [
        ".."
       ]
      },
      {
       "output_type": "stream",
       "stream": "stdout",
       "text": [
        ".."
       ]
      },
      {
       "output_type": "stream",
       "stream": "stdout",
       "text": [
        ".."
       ]
      },
      {
       "output_type": "stream",
       "stream": "stdout",
       "text": [
        ".."
       ]
      },
      {
       "output_type": "stream",
       "stream": "stdout",
       "text": [
        "."
       ]
      }
     ],
     "prompt_number": 9
    },
    {
     "cell_type": "heading",
     "level": 3,
     "metadata": {},
     "source": [
      "Split out features and compute labels"
     ]
    },
    {
     "cell_type": "heading",
     "level": 4,
     "metadata": {},
     "source": [
      "Compute overlap statistics of contours with partial overlap"
     ]
    },
    {
     "cell_type": "code",
     "collapsed": false,
     "input": [
      "reload(eu)\n",
      "olap_stats, zero_olap_stats = eu.olap_stats(train_contour_dict)"
     ],
     "language": "python",
     "metadata": {},
     "outputs": [],
     "prompt_number": 10
    },
    {
     "cell_type": "heading",
     "level": 4,
     "metadata": {},
     "source": [
      "Compute Labels using Overlap Threshold"
     ]
    },
    {
     "cell_type": "code",
     "collapsed": false,
     "input": [
      "OLAP_THRESH = 0.5\n",
      "train_contour_dict, valid_contour_dict, test_contour_dict = \\\n",
      "    eu.label_all_contours(train_contour_dict, valid_contour_dict, \\\n",
      "                          test_contour_dict, olap_thresh=OLAP_THRESH)"
     ],
     "language": "python",
     "metadata": {},
     "outputs": [],
     "prompt_number": 11
    },
    {
     "cell_type": "code",
     "collapsed": false,
     "input": [
      "X_train, Y_train = cc.pd_to_sklearn(train_contour_dict)\n",
      "X_valid, Y_valid = cc.pd_to_sklearn(valid_contour_dict)\n",
      "X_test, Y_test = cc.pd_to_sklearn(test_contour_dict)"
     ],
     "language": "python",
     "metadata": {},
     "outputs": [],
     "prompt_number": 12
    },
    {
     "cell_type": "heading",
     "level": 3,
     "metadata": {},
     "source": [
      "Score with Multivariate Gaussian"
     ]
    },
    {
     "cell_type": "markdown",
     "metadata": {},
     "source": [
      "Transform data using boxcox transform, and fit multivariate gaussians."
     ]
    },
    {
     "cell_type": "code",
     "collapsed": false,
     "input": [
      "X_train_boxcox, X_test_boxcox = mv.transform_features(X_train, X_test)\n",
      "rv_pos, rv_neg = mv.fit_gaussians(X_train_boxcox, Y_train)"
     ],
     "language": "python",
     "metadata": {},
     "outputs": [],
     "prompt_number": 13
    },
    {
     "cell_type": "markdown",
     "metadata": {},
     "source": [
      "Compute melodiness scores on train and test set"
     ]
    },
    {
     "cell_type": "code",
     "collapsed": false,
     "input": [
      "M_train, M_test = mv.compute_all_melodiness(X_train_boxcox, X_test_boxcox, rv_pos, rv_neg)"
     ],
     "language": "python",
     "metadata": {},
     "outputs": [],
     "prompt_number": 14
    },
    {
     "cell_type": "markdown",
     "metadata": {},
     "source": [
      "Compute various metrics based on melodiness scores."
     ]
    },
    {
     "cell_type": "code",
     "collapsed": false,
     "input": [
      "reload(mv)\n",
      "reload(eu)\n",
      "melodiness_scores = mv.melodiness_metrics(M_train, M_test, Y_train, Y_test)\n",
      "best_thresh, max_fscore = eu.get_best_threshold(Y_test, M_test)\n",
      "print best_thresh\n",
      "print max_fscore\n",
      "print melodiness_scores"
     ],
     "language": "python",
     "metadata": {},
     "outputs": [
      {
       "metadata": {},
       "output_type": "display_data",
       "png": "[encoded data removed]",
       "text": [
        "<matplotlib.figure.Figure at 0x105039290>"
       ]
      },
      {
       "output_type": "stream",
       "stream": "stdout",
       "text": [
        "0.799129089806\n",
        "0.674091990875\n",
        "{'test': {'auc score': 0.73216363525804684, 'confusion matrix': array([[10635,  4323],\n",
        "       [ 1748,  2929]]), 'accuracy': 0.69080723198370253}, 'train': {'auc score': 0.79890599290351871, 'confusion matrix': array([[38545, 14440],\n",
        "       [ 3315,  8864]]), 'accuracy': 0.72753360751335094}}\n"
       ]
      }
     ],
     "prompt_number": 15
    },
    {
     "cell_type": "code",
     "collapsed": false,
     "input": [
      "test = pd.DataFrame.from_dict(melodiness_scores)\n",
      "test"
     ],
     "language": "python",
     "metadata": {},
     "outputs": [
      {
       "html": [
        "<div style=\"max-height:1000px;max-width:1500px;overflow:auto;\">\n",
        "<table border=\"1\" class=\"dataframe\">\n",
        "  <thead>\n",
        "    <tr style=\"text-align: right;\">\n",
        "      <th></th>\n",
        "      <th>test</th>\n",
        "      <th>train</th>\n",
        "    </tr>\n",
        "  </thead>\n",
        "  <tbody>\n",
        "    <tr>\n",
        "      <th>accuracy</th>\n",
        "      <td>0.6908072</td>\n",
        "      <td>0.7275336</td>\n",
        "    </tr>\n",
        "    <tr>\n",
        "      <th>auc score</th>\n",
        "      <td>0.7321636</td>\n",
        "      <td>0.798906</td>\n",
        "    </tr>\n",
        "    <tr>\n",
        "      <th>confusion matrix</th>\n",
        "      <td>[[10635, 4323], [1748, 2929]]</td>\n",
        "      <td>[[38545, 14440], [3315, 8864]]</td>\n",
        "    </tr>\n",
        "  </tbody>\n",
        "</table>\n",
        "</div>"
       ],
       "metadata": {},
       "output_type": "pyout",
       "prompt_number": 16,
       "text": [
        "                                           test  \\\n",
        "accuracy                              0.6908072   \n",
        "auc score                             0.7321636   \n",
        "confusion matrix  [[10635, 4323], [1748, 2929]]   \n",
        "\n",
        "                                           train  \n",
        "accuracy                               0.7275336  \n",
        "auc score                               0.798906  \n",
        "confusion matrix  [[38545, 14440], [3315, 8864]]  "
       ]
      }
     ],
     "prompt_number": 16
    },
    {
     "cell_type": "heading",
     "level": 3,
     "metadata": {},
     "source": [
      "Train Classifier"
     ]
    },
    {
     "cell_type": "heading",
     "level": 4,
     "metadata": {},
     "source": [
      "Cross Validation"
     ]
    },
    {
     "cell_type": "code",
     "collapsed": false,
     "input": [
      "reload(cu)\n",
      "best_depth, max_cv_accuracy = cu.cross_val_sweep(X_train, Y_train)\n",
      "print best_depth\n",
      "print max_cv_accuracy"
     ],
     "language": "python",
     "metadata": {},
     "outputs": [
      {
       "output_type": "stream",
       "stream": "stdout",
       "text": [
        "training with max_depth=5\n",
        "training with max_depth=10"
       ]
      },
      {
       "output_type": "stream",
       "stream": "stdout",
       "text": [
        "\n",
        "training with max_depth=15"
       ]
      },
      {
       "output_type": "stream",
       "stream": "stdout",
       "text": [
        "\n",
        "training with max_depth=20"
       ]
      },
      {
       "output_type": "stream",
       "stream": "stdout",
       "text": [
        "\n",
        "training with max_depth=25"
       ]
      },
      {
       "output_type": "stream",
       "stream": "stdout",
       "text": [
        "\n",
        "training with max_depth=30"
       ]
      },
      {
       "output_type": "stream",
       "stream": "stdout",
       "text": [
        "\n",
        "training with max_depth=35"
       ]
      },
      {
       "output_type": "stream",
       "stream": "stdout",
       "text": [
        "\n",
        "training with max_depth=40"
       ]
      },
      {
       "output_type": "stream",
       "stream": "stdout",
       "text": [
        "\n",
        "training with max_depth=45"
       ]
      },
      {
       "output_type": "stream",
       "stream": "stdout",
       "text": [
        "\n",
        "training with max_depth=50"
       ]
      },
      {
       "output_type": "stream",
       "stream": "stdout",
       "text": [
        "\n",
        "training with max_depth=55"
       ]
      },
      {
       "output_type": "stream",
       "stream": "stdout",
       "text": [
        "\n",
        "training with max_depth=60"
       ]
      },
      {
       "output_type": "stream",
       "stream": "stdout",
       "text": [
        "\n",
        "training with max_depth=65"
       ]
      },
      {
       "output_type": "stream",
       "stream": "stdout",
       "text": [
        "\n",
        "training with max_depth=70"
       ]
      },
      {
       "output_type": "stream",
       "stream": "stdout",
       "text": [
        "\n",
        "training with max_depth=75"
       ]
      },
      {
       "output_type": "stream",
       "stream": "stdout",
       "text": [
        "\n",
        "training with max_depth=80"
       ]
      },
      {
       "output_type": "stream",
       "stream": "stdout",
       "text": [
        "\n",
        "training with max_depth=85"
       ]
      },
      {
       "output_type": "stream",
       "stream": "stdout",
       "text": [
        "\n",
        "training with max_depth=90"
       ]
      },
      {
       "output_type": "stream",
       "stream": "stdout",
       "text": [
        "\n",
        "training with max_depth=95"
       ]
      },
      {
       "output_type": "stream",
       "stream": "stdout",
       "text": [
        "\n"
       ]
      },
      {
       "metadata": {},
       "output_type": "display_data",
       "png": "[encoded data removed]",
       "text": [
        "<matplotlib.figure.Figure at 0x1047be410>"
       ]
      },
      {
       "output_type": "stream",
       "stream": "stdout",
       "text": [
        "50\n",
        "0.838423236628\n"
       ]
      }
     ],
     "prompt_number": 17
    },
    {
     "cell_type": "heading",
     "level": 4,
     "metadata": {},
     "source": [
      "Training"
     ]
    },
    {
     "cell_type": "code",
     "collapsed": false,
     "input": [
      "clf = cu.train_clf(X_train, Y_train, best_depth)"
     ],
     "language": "python",
     "metadata": {},
     "outputs": [],
     "prompt_number": 18
    },
    {
     "cell_type": "heading",
     "level": 4,
     "metadata": {},
     "source": [
      "Predict and Score"
     ]
    },
    {
     "cell_type": "code",
     "collapsed": false,
     "input": [
      "reload(cu)\n",
      "P_train, P_valid, P_test = cu.clf_predictions(X_train, X_valid, X_test, clf)\n",
      "clf_scores = cu.clf_metrics(P_train, P_test, Y_train, Y_test)\n",
      "print clf_scores"
     ],
     "language": "python",
     "metadata": {},
     "outputs": [
      {
       "output_type": "stream",
       "stream": "stdout",
       "text": [
        "{'test': {'auc score': 0.74999660513338717, 'confusion matrix': array([[14284,   674],\n",
        "       [ 3535,  1142]]), 'accuracy': 0.78563789152024444}, 'train': {'auc score': 1.0, 'confusion matrix': array([[52985,     0],\n",
        "       [    0, 12179]]), 'accuracy': 1.0}}\n"
       ]
      }
     ],
     "prompt_number": 19
    },
    {
     "cell_type": "heading",
     "level": 4,
     "metadata": {},
     "source": [
      "Get threshold that maximizes F1 score"
     ]
    },
    {
     "cell_type": "code",
     "collapsed": false,
     "input": [
      "best_thresh, max_fscore = eu.get_best_threshold(Y_valid, P_valid)\n",
      "print best_thresh\n",
      "print max_fscore"
     ],
     "language": "python",
     "metadata": {},
     "outputs": [
      {
       "metadata": {},
       "output_type": "display_data",
       "png": "[encoded data removed]",
       "text": [
        "<matplotlib.figure.Figure at 0x13631ccd0>"
       ]
      },
      {
       "output_type": "stream",
       "stream": "stdout",
       "text": [
        "0.23\n",
        "0.756923259596\n"
       ]
      }
     ],
     "prompt_number": 20
    },
    {
     "cell_type": "heading",
     "level": 3,
     "metadata": {},
     "source": [
      "Generate Melody Output"
     ]
    },
    {
     "cell_type": "heading",
     "level": 4,
     "metadata": {},
     "source": [
      "Add predicted melody probabilites to test set contour data"
     ]
    },
    {
     "cell_type": "code",
     "collapsed": false,
     "input": [
      "for key in test_contour_dict.keys():\n",
      "    test_contour_dict[key] = eu.contour_probs(clf, test_contour_dict[key])"
     ],
     "language": "python",
     "metadata": {},
     "outputs": [],
     "prompt_number": 21
    },
    {
     "cell_type": "heading",
     "level": 4,
     "metadata": {},
     "source": [
      "Generate melody output using predictions"
     ]
    },
    {
     "cell_type": "code",
     "collapsed": false,
     "input": [
      "reload(gm)\n",
      "mel_output_dict = {}\n",
      "for key in test_contour_dict.keys():\n",
      "    mel_output_dict[key] = gm.melody_from_clf(test_contour_dict[key], prob_thresh=best_thresh)"
     ],
     "language": "python",
     "metadata": {},
     "outputs": [
      {
       "output_type": "stream",
       "stream": "stdout",
       "text": [
        "       time       f0  probability  c_num\n",
        "0  0.673379  245.519         0.31      2\n",
        "1  0.676281  245.519         0.31      2\n",
        "2  0.679184  245.519         0.31      2\n",
        "3  0.682086  248.372         0.31      2\n",
        "4  0.684989  246.942         0.31      2\n",
        "      time       f0  probability  c_num\n",
        "0  4.55692  305.782         0.23      0\n",
        "1  4.55982  304.021         0.23      0\n",
        "2  4.56272  304.021         0.23      0\n",
        "3  4.56562  298.798         0.23      0\n",
        "4  4.56853  295.366         0.23      0"
       ]
      },
      {
       "output_type": "stream",
       "stream": "stdout",
       "text": [
        "\n",
        "      time       f0  probability  c_num\n",
        "0  3.80517  615.107         0.23      7\n",
        "1  3.80807  618.670         0.23      7\n",
        "2  3.81098  618.670         0.23      7\n",
        "3  3.81388  618.670         0.23      7\n",
        "4  3.81678  618.670         0.23      7"
       ]
      },
      {
       "output_type": "stream",
       "stream": "stdout",
       "text": [
        "\n",
        "      time       f0  probability  c_num\n",
        "0  1.16390  316.565         0.35      0\n",
        "1  1.16680  312.929         0.35      0\n",
        "2  1.16971  312.929         0.35      0\n",
        "3  1.17261  311.127         0.35      0\n",
        "4  1.17551  311.127         0.35      0"
       ]
      },
      {
       "output_type": "stream",
       "stream": "stdout",
       "text": [
        "\n",
        "      time       f0  probability  c_num\n",
        "0  1.10585  244.105         0.74      0\n",
        "1  1.10875  233.082         0.74      0\n",
        "2  1.11166  233.082         0.74      0\n",
        "3  1.11456  230.405         0.74      0\n",
        "4  1.11746  231.739         0.74      0"
       ]
      },
      {
       "output_type": "stream",
       "stream": "stdout",
       "text": [
        "\n",
        "      time       f0  probability  c_num\n",
        "0  10.7624  335.389         0.27      3\n",
        "1  10.7654  335.389         0.27      3\n",
        "2  10.7683  333.458         0.27      3\n",
        "3  10.7712  333.458         0.27      3\n",
        "4  10.7741  333.458         0.27      3"
       ]
      },
      {
       "output_type": "stream",
       "stream": "stdout",
       "text": [
        "\n",
        "      time       f0  probability  c_num\n",
        "0  12.5504  663.074         0.26      7\n",
        "1  12.5533  663.074         0.26      7\n",
        "2  12.5562  663.074         0.26      7\n",
        "3  12.5591  663.074         0.26      7\n",
        "4  12.5620  666.915         0.26      7"
       ]
      },
      {
       "output_type": "stream",
       "stream": "stdout",
       "text": [
        "\n",
        "       time       f0  probability  c_num\n",
        "0  0.223492  367.863         0.64      0\n",
        "1  0.226395  378.643         0.64      0\n",
        "2  0.229297  383.042         0.64      0\n",
        "3  0.232200  387.493         0.64      0\n",
        "4  0.235102  387.493         0.64      0"
       ]
      },
      {
       "output_type": "stream",
       "stream": "stdout",
       "text": [
        "\n",
        "       time       f0  probability  c_num\n",
        "0  0.287347  156.465         0.24      1\n",
        "1  0.290249  156.465         0.24      1\n",
        "2  0.293152  157.371         0.24      1\n",
        "3  0.296054  157.371         0.24      1\n",
        "4  0.298957  157.371         0.24      1"
       ]
      },
      {
       "output_type": "stream",
       "stream": "stdout",
       "text": [
        "\n",
        "      time       f0  probability  c_num\n",
        "0  30.1308  333.458         0.24     32\n",
        "1  30.1337  333.458         0.24     32\n",
        "2  30.1366  333.458         0.24     32\n",
        "3  30.1395  333.458         0.24     32\n",
        "4  30.1424  333.458         0.24     32"
       ]
      },
      {
       "output_type": "stream",
       "stream": "stdout",
       "text": [
        "\n",
        "         time       f0  probability  c_num\n",
        "0    0.972336  514.262         0.44      1\n",
        "536  0.972336  257.131         0.29      2\n",
        "537  0.975238  257.131         0.29      2\n",
        "1    0.975238  514.262         0.44      1\n",
        "2    0.978141  514.262         0.44      1"
       ]
      },
      {
       "output_type": "stream",
       "stream": "stdout",
       "text": [
        "\n",
        "       time       f0  probability  c_num\n",
        "0  0.397642  394.266         0.31      1\n",
        "1  0.400544  396.550         0.31      1\n",
        "2  0.403447  394.266         0.31      1\n",
        "3  0.406349  394.266         0.31      1\n",
        "4  0.409252  394.266         0.31      1"
       ]
      },
      {
       "output_type": "stream",
       "stream": "stdout",
       "text": [
        "\n",
        "      time       f0  probability  c_num\n",
        "0  6.27519  337.332         0.24     13\n",
        "1  6.27810  329.628         0.24     13\n",
        "2  6.28100  327.729         0.24     13\n",
        "3  6.28390  327.729         0.24     13\n",
        "4  6.28680  327.729         0.24     13"
       ]
      },
      {
       "output_type": "stream",
       "stream": "stdout",
       "text": [
        "\n",
        "      time       f0  probability  c_num\n",
        "0  8.06023  357.391         0.25     23\n",
        "1  8.06313  359.461         0.25     23\n",
        "2  8.06603  359.461         0.25     23\n",
        "3  8.06893  359.461         0.25     23\n",
        "4  8.07184  359.461         0.25     23"
       ]
      },
      {
       "output_type": "stream",
       "stream": "stdout",
       "text": [
        "\n",
        "      time       f0  probability  c_num\n",
        "0  9.84526  447.691         0.37     30\n",
        "1  9.84816  445.113         0.37     30\n",
        "2  9.85107  445.113         0.37     30\n",
        "3  9.85397  442.549         0.37     30\n",
        "4  9.85687  442.549         0.37     30"
       ]
      },
      {
       "output_type": "stream",
       "stream": "stdout",
       "text": [
        "\n",
        "      time       f0  probability  c_num\n",
        "0  4.41760  349.228         0.44      2\n",
        "1  4.42050  349.228         0.44      2\n",
        "2  4.42340  349.228         0.44      2\n",
        "3  4.42630  349.228         0.44      2\n",
        "4  4.42921  349.228         0.44      2"
       ]
      },
      {
       "output_type": "stream",
       "stream": "stdout",
       "text": [
        "\n",
        "      time       f0  probability  c_num\n",
        "0  2.71383  1886.32         0.38      2\n",
        "1  2.71673  1875.46         0.38      2\n",
        "2  2.71964  1886.32         0.38      2\n",
        "3  2.72254  1886.32         0.38      2\n",
        "4  2.72544  1886.32         0.38      2"
       ]
      },
      {
       "output_type": "stream",
       "stream": "stdout",
       "text": [
        "\n",
        "       time       f0  probability  c_num\n",
        "0  0.162540  339.286         0.54      0\n",
        "1  0.165442  335.389         0.54      0\n",
        "2  0.168345  331.537         0.54      0\n",
        "3  0.171247  331.537         0.54      0\n",
        "4  0.174150  329.628         0.54      0"
       ]
      },
      {
       "output_type": "stream",
       "stream": "stdout",
       "text": [
        "\n",
        "      time       f0  probability  c_num\n",
        "0  18.2015  275.586         0.23     45\n",
        "1  18.2044  275.586         0.23     45\n",
        "2  18.2073  275.586         0.23     45\n",
        "3  18.2102  272.421         0.23     45\n",
        "4  18.2132  267.741         0.23     45"
       ]
      },
      {
       "output_type": "stream",
       "stream": "stdout",
       "text": [
        "\n",
        "       time       f0  probability  c_num\n",
        "0  0.098685  429.950         0.75      0\n",
        "1  0.101587  432.441         0.75      0\n",
        "2  0.104490  432.441         0.75      0\n",
        "3  0.107392  434.946         0.75      0\n",
        "4  0.110295  437.466         0.75      0"
       ]
      },
      {
       "output_type": "stream",
       "stream": "stdout",
       "text": [
        "\n",
        "       time       f0  probability  c_num\n",
        "0  0.322177  277.183         0.24      2\n",
        "1  0.325079  277.183         0.24      2\n",
        "2  0.327982  275.586         0.24      2\n",
        "3  0.330884  275.586         0.24      2\n",
        "4  0.333787  275.586         0.24      2"
       ]
      },
      {
       "output_type": "stream",
       "stream": "stdout",
       "text": [
        "\n",
        "      time       f0  probability  c_num\n",
        "0  15.4006  372.138         0.23     10\n",
        "1  15.4035  372.138         0.23     10\n",
        "2  15.4064  374.294         0.23     10\n",
        "3  15.4093  374.294         0.23     10\n",
        "4  15.4122  374.294         0.23     10"
       ]
      },
      {
       "output_type": "stream",
       "stream": "stdout",
       "text": [
        "\n",
        "      time       f0  probability  c_num\n",
        "0  1.59057  293.665         0.28      2\n",
        "1  1.59347  293.665         0.28      2\n",
        "2  1.59637  293.665         0.28      2\n",
        "3  1.59927  293.665         0.28      2\n",
        "4  1.60218  293.665         0.28      2"
       ]
      },
      {
       "output_type": "stream",
       "stream": "stdout",
       "text": [
        "\n"
       ]
      }
     ],
     "prompt_number": 24
    },
    {
     "cell_type": "heading",
     "level": 3,
     "metadata": {},
     "source": [
      "Score Melody Output"
     ]
    },
    {
     "cell_type": "code",
     "collapsed": false,
     "input": [
      "reload(gm)\n",
      "mel_scores = gm.score_melodies(mel_output_dict, test_annot_dict)"
     ],
     "language": "python",
     "metadata": {},
     "outputs": [
      {
       "output_type": "stream",
       "stream": "stdout",
       "text": [
        "Scoring...\n",
        "MusicDelta_Country1\n",
        "Handel_TornamiAVagheggiar"
       ]
      },
      {
       "output_type": "stream",
       "stream": "stdout",
       "text": [
        "\n",
        "Mozart_BesterJungling"
       ]
      },
      {
       "output_type": "stream",
       "stream": "stdout",
       "text": [
        "\n",
        "Schubert_Erstarrung"
       ]
      },
      {
       "output_type": "stream",
       "stream": "stdout",
       "text": [
        "\n",
        "MusicDelta_Britpop"
       ]
      },
      {
       "output_type": "stream",
       "stream": "stdout",
       "text": [
        "\n",
        "SweetLights_YouLetMeDown"
       ]
      },
      {
       "output_type": "stream",
       "stream": "stdout",
       "text": [
        "\n",
        "MusicDelta_Pachelbel"
       ]
      },
      {
       "output_type": "stream",
       "stream": "stdout",
       "text": [
        "\n",
        "ChrisJacoby_PigsFoot"
       ]
      },
      {
       "output_type": "stream",
       "stream": "stdout",
       "text": [
        "\n",
        "Mozart_DiesBildnis"
       ]
      },
      {
       "output_type": "stream",
       "stream": "stdout",
       "text": [
        "\n",
        "MatthewEntwistle_TheArch"
       ]
      },
      {
       "output_type": "stream",
       "stream": "stdout",
       "text": [
        "\n",
        "HezekiahJones_BorrowedHeart"
       ]
      },
      {
       "output_type": "stream",
       "stream": "stdout",
       "text": [
        "\n",
        "MatthewEntwistle_DontYouEver"
       ]
      },
      {
       "output_type": "stream",
       "stream": "stdout",
       "text": [
        "\n",
        "Schumann_Mignon"
       ]
      },
      {
       "output_type": "stream",
       "stream": "stdout",
       "text": [
        "\n",
        "MatthewEntwistle_FairerHopes"
       ]
      },
      {
       "output_type": "stream",
       "stream": "stdout",
       "text": [
        "\n",
        "Wolf_DieBekherte"
       ]
      },
      {
       "output_type": "stream",
       "stream": "stdout",
       "text": [
        "\n",
        "Debussy_LenfantProdigue"
       ]
      },
      {
       "output_type": "stream",
       "stream": "stdout",
       "text": [
        "\n",
        "MatthewEntwistle_Lontano"
       ]
      },
      {
       "output_type": "stream",
       "stream": "stdout",
       "text": [
        "\n",
        "ChrisJacoby_BoothShotLincoln"
       ]
      },
      {
       "output_type": "stream",
       "stream": "stdout",
       "text": [
        "\n",
        "MatthewEntwistle_ImpressionsOfSaturn"
       ]
      },
      {
       "output_type": "stream",
       "stream": "stdout",
       "text": [
        "\n",
        "MusicDelta_Gospel"
       ]
      },
      {
       "output_type": "stream",
       "stream": "stdout",
       "text": [
        "\n",
        "MusicDelta_ModalJazz"
       ]
      },
      {
       "output_type": "stream",
       "stream": "stdout",
       "text": [
        "\n",
        "MatthewEntwistle_TheFlaxenField"
       ]
      },
      {
       "output_type": "stream",
       "stream": "stdout",
       "text": [
        "\n",
        "MusicDelta_CoolJazz"
       ]
      },
      {
       "output_type": "stream",
       "stream": "stdout",
       "text": [
        "\n"
       ]
      }
     ],
     "prompt_number": 38
    },
    {
     "cell_type": "code",
     "collapsed": false,
     "input": [
      "overall_scores = \\\n",
      "    pd.DataFrame(columns=['VR', 'VFA', 'RPA', 'RCA', 'OA'],\n",
      "                 index=mel_scores.keys())\n",
      "overall_scores['VR'] = \\\n",
      "    [mel_scores[key]['Voicing Recall'] for key in mel_scores.keys()]\n",
      "overall_scores['VFA'] = \\\n",
      "    [mel_scores[key]['Voicing False Alarm'] for key in mel_scores.keys()]\n",
      "overall_scores['RPA'] = \\\n",
      "    [mel_scores[key]['Raw Pitch Accuracy'] for key in mel_scores.keys()]\n",
      "overall_scores['RCA'] = \\\n",
      "    [mel_scores[key]['Raw Chroma Accuracy'] for key in mel_scores.keys()]\n",
      "overall_scores['OA'] = \\\n",
      "    [mel_scores[key]['Overall Accuracy'] for key in mel_scores.keys()]\n",
      "\n",
      "overall_scores.describe()"
     ],
     "language": "python",
     "metadata": {},
     "outputs": [
      {
       "html": [
        "<div style=\"max-height:1000px;max-width:1500px;overflow:auto;\">\n",
        "<table border=\"1\" class=\"dataframe\">\n",
        "  <thead>\n",
        "    <tr style=\"text-align: right;\">\n",
        "      <th></th>\n",
        "      <th>VR</th>\n",
        "      <th>VFA</th>\n",
        "      <th>RPA</th>\n",
        "      <th>RCA</th>\n",
        "      <th>OA</th>\n",
        "    </tr>\n",
        "  </thead>\n",
        "  <tbody>\n",
        "    <tr>\n",
        "      <th>count</th>\n",
        "      <td>23.000000</td>\n",
        "      <td>23.000000</td>\n",
        "      <td>23.000000</td>\n",
        "      <td>23.000000</td>\n",
        "      <td>23.000000</td>\n",
        "    </tr>\n",
        "    <tr>\n",
        "      <th>mean</th>\n",
        "      <td>0.655299</td>\n",
        "      <td>0.302901</td>\n",
        "      <td>0.435721</td>\n",
        "      <td>0.529036</td>\n",
        "      <td>0.549119</td>\n",
        "    </tr>\n",
        "    <tr>\n",
        "      <th>std</th>\n",
        "      <td>0.216804</td>\n",
        "      <td>0.126072</td>\n",
        "      <td>0.243103</td>\n",
        "      <td>0.231249</td>\n",
        "      <td>0.168764</td>\n",
        "    </tr>\n",
        "    <tr>\n",
        "      <th>min</th>\n",
        "      <td>0.201337</td>\n",
        "      <td>0.114625</td>\n",
        "      <td>0.055523</td>\n",
        "      <td>0.082462</td>\n",
        "      <td>0.189340</td>\n",
        "    </tr>\n",
        "    <tr>\n",
        "      <th>25%</th>\n",
        "      <td>0.527819</td>\n",
        "      <td>0.206989</td>\n",
        "      <td>0.259798</td>\n",
        "      <td>0.343275</td>\n",
        "      <td>0.462359</td>\n",
        "    </tr>\n",
        "    <tr>\n",
        "      <th>50%</th>\n",
        "      <td>0.675055</td>\n",
        "      <td>0.287898</td>\n",
        "      <td>0.453415</td>\n",
        "      <td>0.541362</td>\n",
        "      <td>0.545857</td>\n",
        "    </tr>\n",
        "    <tr>\n",
        "      <th>75%</th>\n",
        "      <td>0.828168</td>\n",
        "      <td>0.378442</td>\n",
        "      <td>0.576817</td>\n",
        "      <td>0.707035</td>\n",
        "      <td>0.666912</td>\n",
        "    </tr>\n",
        "    <tr>\n",
        "      <th>max</th>\n",
        "      <td>0.983444</td>\n",
        "      <td>0.627861</td>\n",
        "      <td>0.928180</td>\n",
        "      <td>0.981617</td>\n",
        "      <td>0.874914</td>\n",
        "    </tr>\n",
        "  </tbody>\n",
        "</table>\n",
        "</div>"
       ],
       "metadata": {},
       "output_type": "pyout",
       "prompt_number": 39,
       "text": [
        "              VR        VFA        RPA        RCA         OA\n",
        "count  23.000000  23.000000  23.000000  23.000000  23.000000\n",
        "mean    0.655299   0.302901   0.435721   0.529036   0.549119\n",
        "std     0.216804   0.126072   0.243103   0.231249   0.168764\n",
        "min     0.201337   0.114625   0.055523   0.082462   0.189340\n",
        "25%     0.527819   0.206989   0.259798   0.343275   0.462359\n",
        "50%     0.675055   0.287898   0.453415   0.541362   0.545857\n",
        "75%     0.828168   0.378442   0.576817   0.707035   0.666912\n",
        "max     0.983444   0.627861   0.928180   0.981617   0.874914"
       ]
      }
     ],
     "prompt_number": 39
    },
    {
     "cell_type": "code",
     "collapsed": false,
     "input": [
      "overall_scores"
     ],
     "language": "python",
     "metadata": {},
     "outputs": [
      {
       "ename": "NameError",
       "evalue": "name 'overall_scores' is not defined",
       "output_type": "pyerr",
       "traceback": [
        "\u001b[0;31m---------------------------------------------------------------------------\u001b[0m\n\u001b[0;31mNameError\u001b[0m                                 Traceback (most recent call last)",
        "\u001b[0;32m<ipython-input-1-53e3837cdd43>\u001b[0m in \u001b[0;36m<module>\u001b[0;34m()\u001b[0m\n\u001b[0;32m----> 1\u001b[0;31m \u001b[0moverall_scores\u001b[0m\u001b[0;34m\u001b[0m\u001b[0m\n\u001b[0m",
        "\u001b[0;31mNameError\u001b[0m: name 'overall_scores' is not defined"
       ]
      }
     ],
     "prompt_number": 1
    },
    {
     "cell_type": "code",
     "collapsed": false,
     "input": [],
     "language": "python",
     "metadata": {},
     "outputs": []
    }
   ],
   "metadata": {}
  }
 ]
}