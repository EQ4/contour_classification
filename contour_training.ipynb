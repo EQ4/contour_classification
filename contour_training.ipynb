{
 "metadata": {
  "name": ""
 },
 "nbformat": 3,
 "nbformat_minor": 0,
 "worksheets": [
  {
   "cells": [
    {
     "cell_type": "code",
     "collapsed": false,
     "input": [
      "import contour_classification.contour_utils as cc\n",
      "import contour_classification.experiment_utils as eu\n",
      "import contour_classification.mv_gaussian as mv\n",
      "from sklearn.ensemble import RandomForestClassifier as RFC\n",
      "from sklearn.cross_validation import KFold\n",
      "from sklearn import cross_validation\n",
      "from sklearn import metrics\n",
      "import sklearn\n",
      "import pandas as pd\n",
      "import numpy as np\n",
      "import random\n",
      "import glob\n",
      "import os\n",
      "import matplotlib.pyplot as plt\n",
      "%matplotlib inline\n",
      "from scipy.stats import boxcox"
     ],
     "language": "python",
     "metadata": {},
     "outputs": []
    },
    {
     "cell_type": "heading",
     "level": 3,
     "metadata": {},
     "source": [
      "Create train/test split"
     ]
    },
    {
     "cell_type": "markdown",
     "metadata": {},
     "source": [
      "Splits are chosen such that each split contains unique artists."
     ]
    },
    {
     "cell_type": "code",
     "collapsed": false,
     "input": [
      "mdb_files, splitter = eu.create_splits()\n",
      "\n",
      "for train, test in splitter:\n",
      "    train_tracks = mdb_files[train]\n",
      "    test_tracks = mdb_files[test]\n",
      "    break\n",
      "print test_tracks"
     ],
     "language": "python",
     "metadata": {},
     "outputs": []
    },
    {
     "cell_type": "heading",
     "level": 3,
     "metadata": {},
     "source": [
      "Split out features and compute labels"
     ]
    },
    {
     "cell_type": "heading",
     "level": 4,
     "metadata": {},
     "source": [
      "Compute Overlap with Annotation"
     ]
    },
    {
     "cell_type": "code",
     "collapsed": false,
     "input": [
      "MELTYPE = 1\n",
      "train_contour_list, test_contour_list = eu.compute_all_overlaps(train_tracks, test_tracks, meltype=MELTYPE)"
     ],
     "language": "python",
     "metadata": {},
     "outputs": []
    },
    {
     "cell_type": "heading",
     "level": 4,
     "metadata": {},
     "source": [
      "Compute overlap statistics of contours with partial overlap"
     ]
    },
    {
     "cell_type": "code",
     "collapsed": false,
     "input": [
      "olap_stats, zero_olap_stats = olap_stats(train_contour_list)"
     ],
     "language": "python",
     "metadata": {},
     "outputs": []
    },
    {
     "cell_type": "heading",
     "level": 4,
     "metadata": {},
     "source": [
      "Compute Labels using Overlap Threshold"
     ]
    },
    {
     "cell_type": "code",
     "collapsed": false,
     "input": [
      "OLAP_THRESH = 0.5\n",
      "train_contour_list, test_contour_list = eu.label_all_contours(train_contour_list, test_contour_list, olap_thresh=OLAP_THRESH)"
     ],
     "language": "python",
     "metadata": {},
     "outputs": []
    },
    {
     "cell_type": "code",
     "collapsed": false,
     "input": [
      "X_train, Y_train = cc.pd_to_sklearn(train_contour_list)\n",
      "X_test, Y_test = cc.pd_to_sklearn(test_contour_list)"
     ],
     "language": "python",
     "metadata": {},
     "outputs": []
    },
    {
     "cell_type": "heading",
     "level": 3,
     "metadata": {},
     "source": [
      "Score with Multivariate Gaussian"
     ]
    },
    {
     "cell_type": "markdown",
     "metadata": {},
     "source": [
      "Transform data using boxcox transform, and fit multivariate gaussians."
     ]
    },
    {
     "cell_type": "code",
     "collapsed": false,
     "input": [
      "X_train_boxcox, X_test_boxcox = mv.transform_features(X_train, X_test)\n",
      "rv_pos, rv_neg = mv.fit_gaussians(X_train_boxcox, Y_train)"
     ],
     "language": "python",
     "metadata": {},
     "outputs": []
    },
    {
     "cell_type": "markdown",
     "metadata": {},
     "source": [
      "Compute melodiness scores on train and test set"
     ]
    },
    {
     "cell_type": "code",
     "collapsed": false,
     "input": [
      "M_train, M_test = mv.compute_all_melodiness(X_train_boxcox, X_test_boxcox, rv_pos, rv_neg)"
     ],
     "language": "python",
     "metadata": {},
     "outputs": []
    },
    {
     "cell_type": "markdown",
     "metadata": {},
     "source": [
      "Compute various metrics based on melodiness scores."
     ]
    },
    {
     "cell_type": "code",
     "collapsed": false,
     "input": [
      "melodiness_scores = mv.melodiness_metrics(M_train, M_test, Y_train, Y_test)"
     ],
     "language": "python",
     "metadata": {},
     "outputs": []
    },
    {
     "cell_type": "heading",
     "level": 3,
     "metadata": {},
     "source": [
      "Train Classifier"
     ]
    },
    {
     "cell_type": "heading",
     "level": 4,
     "metadata": {},
     "source": [
      "Cross Validation"
     ]
    },
    {
     "cell_type": "code",
     "collapsed": false,
     "input": [
      "best_depth, max_cv_accuracy = cross_val_sweep(X_train, Y_train)\n",
      "print best_depth\n",
      "print max_cv_accuracy"
     ],
     "language": "python",
     "metadata": {},
     "outputs": []
    },
    {
     "cell_type": "heading",
     "level": 4,
     "metadata": {},
     "source": [
      "Training"
     ]
    },
    {
     "cell_type": "code",
     "collapsed": false,
     "input": [
      "clf = train_clf(X_train, Y_train, best_depth)"
     ],
     "language": "python",
     "metadata": {},
     "outputs": []
    },
    {
     "cell_type": "heading",
     "level": 4,
     "metadata": {},
     "source": [
      "Predict and Score"
     ]
    },
    {
     "cell_type": "code",
     "collapsed": false,
     "input": [
      "P_train, P_test = clf_predictions(X_train, X_test, clf)\n",
      "clf_scores = clf_metrics(P_train, P_test, Y_train, Y_test)"
     ],
     "language": "python",
     "metadata": {},
     "outputs": []
    },
    {
     "cell_type": "heading",
     "level": 3,
     "metadata": {},
     "source": [
      "Analysis and Melody Output"
     ]
    },
    {
     "cell_type": "code",
     "collapsed": false,
     "input": [
      "print \"Generating testing features\"\n",
      "test_contour_dat = {}\n",
      "test_feature_dat = {}\n",
      "test_annot_dat = {}\n",
      "for track in test_tracks:\n",
      "    print track\n",
      "    cdat, adat = eu.get_data_files(track, meltype=MELTYPE)\n",
      "    fdat = cc.contour_overlap(cdat, adat)\n",
      "    fdat = cc.label_contours(fdat, olap_thresh=OLAP_THRESH)\n",
      "    \n",
      "    test_feature_dat[track] = fdat.copy()\n",
      "    test_contour_dat[track] = cdat.copy()\n",
      "    test_annot_dat[track] = adat.copy()"
     ],
     "language": "python",
     "metadata": {},
     "outputs": []
    },
    {
     "cell_type": "code",
     "collapsed": false,
     "input": [
      "reload(eu)\n",
      "track = 'LizNelson_Coldwar'\n",
      "mel_prob_test = eu.contour_probs(clf, test_feature_dat[track], \\\n",
      "                              test_contour_dat[track])"
     ],
     "language": "python",
     "metadata": {},
     "outputs": []
    },
    {
     "cell_type": "code",
     "collapsed": false,
     "input": [
      "contour_test = mel_prob_test[mel_prob_test['mel_prob'] >= 0.35]"
     ],
     "language": "python",
     "metadata": {},
     "outputs": []
    },
    {
     "cell_type": "code",
     "collapsed": false,
     "input": [
      "reload(cc)\n",
      "cc.make_coverage_plot(contour_test.iloc[:, :-1], test_annot_dat[track])"
     ],
     "language": "python",
     "metadata": {},
     "outputs": []
    },
    {
     "cell_type": "code",
     "collapsed": false,
     "input": [
      "track = 'LizNelson_Coldwar'\n",
      "prob_threshold = 0.1\n",
      "cdat = eu.contour_probs(clf, test_feature_dat[track], \\\n",
      "                        test_contour_dat[track])\n",
      "contour_candidates = cdat[cdat['mel_prob'] >= prob_threshold]\n",
      "print contour_candidates"
     ],
     "language": "python",
     "metadata": {},
     "outputs": []
    },
    {
     "cell_type": "code",
     "collapsed": false,
     "input": [
      "mel_dat = pd.DataFrame(columns=['time','f0', 'probability'])\n",
      "ct = contour_candidates.iloc[:, 12:-1:3]\n",
      "cf = contour_candidates.iloc[:, 13:-1:3]\n",
      "probs = contour_candidates['mel_prob']\n",
      "\n",
      "step_size = 128/44100.0\n",
      "\n",
      "n_cols = ct.shape[1]\n",
      "cp = pd.concat([probs]*n_cols, axis=1, ignore_index=True)\n",
      "\n",
      "mel_dat['time'] = ct.values.ravel()\n",
      "mel_dat['f0'] = cf.values.ravel()\n",
      "mel_dat['probability'] = cp.values.ravel()\n",
      "\n",
      "\n",
      "mel_dat.dropna(inplace=True)\n",
      "mel_dat.sort(columns='probability', inplace=True)\n",
      "mel_dat.sort(columns='time', inplace=True)\n",
      "\n",
      "mel_time_idx = np.arange(0, np.max(mel_dat['time'].values) + 1, step_size)\n",
      "mel_output = pd.Series(np.zeros(mel_time_idx.shape), index=mel_time_idx)\n",
      "\n",
      "old_times = mel_dat['time'].values\n",
      "reidx = np.searchsorted(mel_time_idx, old_times)\n",
      "shift_idx = (np.abs(old_times - mel_time_idx[reidx - 1]) < np.abs(old_times - mel_time_idx[reidx]))\n",
      "reidx[shift_idx] = reidx[shift_idx] - 1\n",
      "\n",
      "mel_dat['reidx'] = reidx\n",
      "\n",
      "mel_dat.drop_duplicates(subset='reidx', take_last=True, inplace=True)\n",
      "\n",
      "mel_output.iloc[mel_dat['reidx']] = mel_dat['f0'].values\n",
      "\n",
      "plt.plot(mel_output.index, mel_output.values, ',')\n",
      "plt.show()\n",
      "# mel_output.to_csv('/Users/rachelbittner/Desktop/mel_out2.csv', header=False)\n",
      "\n",
      "print mel_dat.shape\n",
      "print mel_dat_nodoubles.shape"
     ],
     "language": "python",
     "metadata": {},
     "outputs": []
    },
    {
     "cell_type": "code",
     "collapsed": false,
     "input": [
      "ct, _, _ = cc.contours_from_contour_data(contour_candidates)\n",
      "\n",
      "del ct['mel_prob']\n",
      "\n",
      "all_time_stamps = sorted(ct.values.ravel())\n",
      "max_time_stamp = np.max(np.array(all_time_stamps)[~np.isnan(all_time_stamps)])\n",
      "\n",
      "time_stamps = pd.Series(all_time_stamps).unique()\n",
      "time_stamps = pd.to_datetime(sorted(time_stamps[~np.isnan(time_stamps)]), unit='s')\n",
      "\n",
      "step_size = 128/44100.0\n",
      "print max_time_stamp"
     ],
     "language": "python",
     "metadata": {},
     "outputs": []
    },
    {
     "cell_type": "code",
     "collapsed": false,
     "input": [
      "mel_time_idx = pd.to_datetime(np.arange(0, max_time_stamp, step_size), unit='s')\n",
      "mel_output = pd.Series(np.zeros(mel_time_idx.shape), index=mel_time_idx)\n",
      "print mel_output.index"
     ],
     "language": "python",
     "metadata": {},
     "outputs": []
    },
    {
     "cell_type": "code",
     "collapsed": false,
     "input": [
      "print time_stamps.values[0:5]\n",
      "contour_candidates"
     ],
     "language": "python",
     "metadata": {},
     "outputs": []
    },
    {
     "cell_type": "code",
     "collapsed": false,
     "input": [
      "onset_t = pd.to_datetime(contour_candidates['onset'], unit='s')\n",
      "offset_t = pd.to_datetime(contour_candidates['offset'], unit='s')\n",
      "\n",
      "print contour_candidates.iloc[:, 0:2]"
     ],
     "language": "python",
     "metadata": {},
     "outputs": []
    },
    {
     "cell_type": "code",
     "collapsed": false,
     "input": [
      "print contour_candidates['mel_prob'].argmax\n",
      "print len(contour_candidates)"
     ],
     "language": "python",
     "metadata": {},
     "outputs": []
    },
    {
     "cell_type": "code",
     "collapsed": false,
     "input": [
      "print contour_candidates['mel_prob'].argmax"
     ],
     "language": "python",
     "metadata": {},
     "outputs": []
    },
    {
     "cell_type": "code",
     "collapsed": false,
     "input": [
      "print contour_candidates['mel_prob'].argmax"
     ],
     "language": "python",
     "metadata": {},
     "outputs": []
    },
    {
     "cell_type": "code",
     "collapsed": false,
     "input": [
      "print time_stamps.asof"
     ],
     "language": "python",
     "metadata": {},
     "outputs": []
    },
    {
     "cell_type": "code",
     "collapsed": false,
     "input": [],
     "language": "python",
     "metadata": {},
     "outputs": []
    }
   ],
   "metadata": {}
  }
 ]
}