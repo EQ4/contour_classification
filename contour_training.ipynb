{
 "metadata": {
  "name": ""
 },
 "nbformat": 3,
 "nbformat_minor": 0,
 "worksheets": [
  {
   "cells": [
    {
     "cell_type": "code",
     "collapsed": false,
     "input": [
      "import contour_classification.contour_utils as cc\n",
      "import contour_classification.experiment_utils as eu\n",
      "import contour_classification.mv_gaussian as mv\n",
      "import contour_classification.clf_utils as cu\n",
      "import contour_classification.generate_melody as gm\n",
      "from sklearn.ensemble import RandomForestClassifier as RFC\n",
      "from sklearn.cross_validation import KFold\n",
      "from sklearn import cross_validation\n",
      "from sklearn import metrics\n",
      "import sklearn\n",
      "import pandas as pd\n",
      "import numpy as np\n",
      "import random\n",
      "import glob\n",
      "import os\n",
      "import matplotlib.pyplot as plt\n",
      "%matplotlib inline\n",
      "from scipy.stats import boxcox"
     ],
     "language": "python",
     "metadata": {},
     "outputs": [],
     "prompt_number": 1
    },
    {
     "cell_type": "heading",
     "level": 3,
     "metadata": {},
     "source": [
      "Create train/test split"
     ]
    },
    {
     "cell_type": "markdown",
     "metadata": {},
     "source": [
      "Splits are chosen such that each split contains unique artists."
     ]
    },
    {
     "cell_type": "code",
     "collapsed": false,
     "input": [
      "reload(eu)\n",
      "mdb_files, splitter = eu.create_splits(test_size=0.15)\n",
      "\n",
      "for train, test in splitter:\n",
      "    random.shuffle(train)\n",
      "    n_train = len(train) - (len(test)/2)\n",
      "    train_tracks = mdb_files[train[:n_train]]\n",
      "    valid_tracks = mdb_files[train[n_train:]]\n",
      "    test_tracks = mdb_files[test]\n",
      "    break\n",
      "print len(test_tracks)\n",
      "print len(valid_tracks)\n",
      "print len(train_tracks)"
     ],
     "language": "python",
     "metadata": {},
     "outputs": [
      {
       "output_type": "stream",
       "stream": "stdout",
       "text": [
        "23\n",
        "11\n",
        "74\n"
       ]
      }
     ],
     "prompt_number": 13
    },
    {
     "cell_type": "heading",
     "level": 3,
     "metadata": {},
     "source": [
      "Split out features and compute labels"
     ]
    },
    {
     "cell_type": "heading",
     "level": 4,
     "metadata": {},
     "source": [
      "Compute Overlap with Annotation"
     ]
    },
    {
     "cell_type": "code",
     "collapsed": false,
     "input": [
      "MELTYPE = 1\n",
      "train_contour_dict, valid_contour_dict, valid_annot_dict, test_contour_dict, test_annot_dict = \\\n",
      "    eu.compute_all_overlaps(train_tracks, valid_tracks, test_tracks, meltype=MELTYPE)"
     ],
     "language": "python",
     "metadata": {},
     "outputs": [
      {
       "output_type": "stream",
       "stream": "stdout",
       "text": [
        "Generating training features...                                           |\n",
        "."
       ]
      },
      {
       "output_type": "stream",
       "stream": "stdout",
       "text": [
        ".."
       ]
      },
      {
       "output_type": "stream",
       "stream": "stdout",
       "text": [
        ".."
       ]
      },
      {
       "output_type": "stream",
       "stream": "stdout",
       "text": [
        ".."
       ]
      },
      {
       "output_type": "stream",
       "stream": "stdout",
       "text": [
        ".."
       ]
      },
      {
       "output_type": "stream",
       "stream": "stdout",
       "text": [
        ".."
       ]
      },
      {
       "output_type": "stream",
       "stream": "stdout",
       "text": [
        ".."
       ]
      },
      {
       "output_type": "stream",
       "stream": "stdout",
       "text": [
        ".."
       ]
      },
      {
       "output_type": "stream",
       "stream": "stdout",
       "text": [
        ".."
       ]
      },
      {
       "output_type": "stream",
       "stream": "stdout",
       "text": [
        ".."
       ]
      },
      {
       "output_type": "stream",
       "stream": "stdout",
       "text": [
        ".."
       ]
      },
      {
       "output_type": "stream",
       "stream": "stdout",
       "text": [
        ".."
       ]
      },
      {
       "output_type": "stream",
       "stream": "stdout",
       "text": [
        ".."
       ]
      },
      {
       "output_type": "stream",
       "stream": "stdout",
       "text": [
        ".."
       ]
      },
      {
       "output_type": "stream",
       "stream": "stdout",
       "text": [
        ".."
       ]
      },
      {
       "output_type": "stream",
       "stream": "stdout",
       "text": [
        ".."
       ]
      },
      {
       "output_type": "stream",
       "stream": "stdout",
       "text": [
        ".."
       ]
      },
      {
       "output_type": "stream",
       "stream": "stdout",
       "text": [
        ".."
       ]
      },
      {
       "output_type": "stream",
       "stream": "stdout",
       "text": [
        ".."
       ]
      },
      {
       "output_type": "stream",
       "stream": "stdout",
       "text": [
        ".."
       ]
      },
      {
       "output_type": "stream",
       "stream": "stdout",
       "text": [
        ".."
       ]
      },
      {
       "output_type": "stream",
       "stream": "stdout",
       "text": [
        ".."
       ]
      },
      {
       "output_type": "stream",
       "stream": "stdout",
       "text": [
        ".."
       ]
      },
      {
       "output_type": "stream",
       "stream": "stdout",
       "text": [
        ".."
       ]
      },
      {
       "output_type": "stream",
       "stream": "stdout",
       "text": [
        ".."
       ]
      },
      {
       "output_type": "stream",
       "stream": "stdout",
       "text": [
        ".."
       ]
      },
      {
       "output_type": "stream",
       "stream": "stdout",
       "text": [
        ".."
       ]
      },
      {
       "output_type": "stream",
       "stream": "stdout",
       "text": [
        ".."
       ]
      },
      {
       "output_type": "stream",
       "stream": "stdout",
       "text": [
        ".."
       ]
      },
      {
       "output_type": "stream",
       "stream": "stdout",
       "text": [
        ".."
       ]
      },
      {
       "output_type": "stream",
       "stream": "stdout",
       "text": [
        ".."
       ]
      },
      {
       "output_type": "stream",
       "stream": "stdout",
       "text": [
        ".."
       ]
      },
      {
       "output_type": "stream",
       "stream": "stdout",
       "text": [
        ".."
       ]
      },
      {
       "output_type": "stream",
       "stream": "stdout",
       "text": [
        ".."
       ]
      },
      {
       "output_type": "stream",
       "stream": "stdout",
       "text": [
        ".."
       ]
      },
      {
       "output_type": "stream",
       "stream": "stdout",
       "text": [
        ".."
       ]
      },
      {
       "output_type": "stream",
       "stream": "stdout",
       "text": [
        ".."
       ]
      },
      {
       "output_type": "stream",
       "stream": "stdout",
       "text": [
        ".\n",
        "------------------------------\n",
        "Generating validation features...|\n",
        "."
       ]
      },
      {
       "output_type": "stream",
       "stream": "stdout",
       "text": [
        ".."
       ]
      },
      {
       "output_type": "stream",
       "stream": "stdout",
       "text": [
        ".."
       ]
      },
      {
       "output_type": "stream",
       "stream": "stdout",
       "text": [
        ".."
       ]
      },
      {
       "output_type": "stream",
       "stream": "stdout",
       "text": [
        ".."
       ]
      },
      {
       "output_type": "stream",
       "stream": "stdout",
       "text": [
        ".."
       ]
      },
      {
       "output_type": "stream",
       "stream": "stdout",
       "text": [
        "\n",
        "------------------------------\n",
        "Generating testing features...|\n",
        "."
       ]
      },
      {
       "output_type": "stream",
       "stream": "stdout",
       "text": [
        ".."
       ]
      },
      {
       "output_type": "stream",
       "stream": "stdout",
       "text": [
        ".."
       ]
      },
      {
       "output_type": "stream",
       "stream": "stdout",
       "text": [
        ".."
       ]
      },
      {
       "output_type": "stream",
       "stream": "stdout",
       "text": [
        ".."
       ]
      },
      {
       "output_type": "stream",
       "stream": "stdout",
       "text": [
        ".."
       ]
      },
      {
       "output_type": "stream",
       "stream": "stdout",
       "text": [
        ".."
       ]
      },
      {
       "output_type": "stream",
       "stream": "stdout",
       "text": [
        ".."
       ]
      },
      {
       "output_type": "stream",
       "stream": "stdout",
       "text": [
        ".."
       ]
      },
      {
       "output_type": "stream",
       "stream": "stdout",
       "text": [
        ".."
       ]
      },
      {
       "output_type": "stream",
       "stream": "stdout",
       "text": [
        ".."
       ]
      },
      {
       "output_type": "stream",
       "stream": "stdout",
       "text": [
        ".."
       ]
      },
      {
       "output_type": "stream",
       "stream": "stderr",
       "text": [
        "/usr/local/lib/python2.7/site-packages/mir_eval-0.1-py2.7.egg/mir_eval/melody.py:80: UserWarning: Reference melody has no voiced frames.\n"
       ]
      }
     ],
     "prompt_number": 14
    },
    {
     "cell_type": "heading",
     "level": 4,
     "metadata": {},
     "source": [
      "Compute overlap statistics of contours with partial overlap"
     ]
    },
    {
     "cell_type": "code",
     "collapsed": false,
     "input": [
      "reload(eu)\n",
      "olap_stats, zero_olap_stats = eu.olap_stats(train_contour_dict)"
     ],
     "language": "python",
     "metadata": {},
     "outputs": [],
     "prompt_number": 15
    },
    {
     "cell_type": "heading",
     "level": 4,
     "metadata": {},
     "source": [
      "Compute Labels using Overlap Threshold"
     ]
    },
    {
     "cell_type": "code",
     "collapsed": false,
     "input": [
      "OLAP_THRESH = 0.5\n",
      "train_contour_dict, valid_contour_dict, test_contour_dict = \\\n",
      "    eu.label_all_contours(train_contour_dict, valid_contour_dict, \\\n",
      "                          test_contour_dict, olap_thresh=OLAP_THRESH)"
     ],
     "language": "python",
     "metadata": {},
     "outputs": [],
     "prompt_number": 16
    },
    {
     "cell_type": "code",
     "collapsed": false,
     "input": [
      "X_train, Y_train = cc.pd_to_sklearn(train_contour_dict)\n",
      "X_valid, Y_valid = cc.pd_to_sklearn(valid_contour_dict)\n",
      "X_test, Y_test = cc.pd_to_sklearn(test_contour_dict)"
     ],
     "language": "python",
     "metadata": {},
     "outputs": [],
     "prompt_number": 17
    },
    {
     "cell_type": "heading",
     "level": 3,
     "metadata": {},
     "source": [
      "Score with Multivariate Gaussian"
     ]
    },
    {
     "cell_type": "markdown",
     "metadata": {},
     "source": [
      "Transform data using boxcox transform, and fit multivariate gaussians."
     ]
    },
    {
     "cell_type": "code",
     "collapsed": false,
     "input": [
      "X_train_boxcox, X_test_boxcox = mv.transform_features(X_train, X_test)\n",
      "rv_pos, rv_neg = mv.fit_gaussians(X_train_boxcox, Y_train)"
     ],
     "language": "python",
     "metadata": {},
     "outputs": [],
     "prompt_number": 18
    },
    {
     "cell_type": "markdown",
     "metadata": {},
     "source": [
      "Compute melodiness scores on train and test set"
     ]
    },
    {
     "cell_type": "code",
     "collapsed": false,
     "input": [
      "M_train, M_test = mv.compute_all_melodiness(X_train_boxcox, X_test_boxcox, rv_pos, rv_neg)"
     ],
     "language": "python",
     "metadata": {},
     "outputs": [],
     "prompt_number": 19
    },
    {
     "cell_type": "markdown",
     "metadata": {},
     "source": [
      "Compute various metrics based on melodiness scores."
     ]
    },
    {
     "cell_type": "code",
     "collapsed": false,
     "input": [
      "reload(mv)\n",
      "reload(eu)\n",
      "melodiness_scores = mv.melodiness_metrics(M_train, M_test, Y_train, Y_test)\n",
      "best_thresh, max_fscore = eu.get_best_threshold(Y_test, M_test)\n",
      "print best_thresh\n",
      "print melodiness_scores"
     ],
     "language": "python",
     "metadata": {},
     "outputs": [
      {
       "metadata": {},
       "output_type": "display_data",
       "png": "[encoded data removed]",
       "text": [
        "<matplotlib.figure.Figure at 0x1112d7350>"
       ]
      },
      {
       "output_type": "stream",
       "stream": "stdout",
       "text": [
        "0.903910566573\n",
        "{'test': {'auc score': 0.71623200594130798, 'confusion matrix': array([[11535,  4388],\n",
        "       [ 1454,  2258]]), 'accuracy': 0.70247007894066715}, 'train': {'auc score': 0.81342208514911041, 'confusion matrix': array([[39048, 14935],\n",
        "       [ 2517,  7658]]), 'accuracy': 0.72798403940272449}}\n"
       ]
      }
     ],
     "prompt_number": 20
    },
    {
     "cell_type": "heading",
     "level": 3,
     "metadata": {},
     "source": [
      "Train Classifier"
     ]
    },
    {
     "cell_type": "heading",
     "level": 4,
     "metadata": {},
     "source": [
      "Cross Validation"
     ]
    },
    {
     "cell_type": "code",
     "collapsed": false,
     "input": [
      "reload(cu)\n",
      "best_depth, max_cv_accuracy = cu.cross_val_sweep(X_train, Y_train)\n",
      "print best_depth\n",
      "print max_cv_accuracy"
     ],
     "language": "python",
     "metadata": {},
     "outputs": [
      {
       "output_type": "stream",
       "stream": "stdout",
       "text": [
        "training with max_depth=5\n",
        "training with max_depth=10"
       ]
      },
      {
       "output_type": "stream",
       "stream": "stdout",
       "text": [
        "\n",
        "training with max_depth=15"
       ]
      },
      {
       "output_type": "stream",
       "stream": "stdout",
       "text": [
        "\n",
        "training with max_depth=20"
       ]
      },
      {
       "output_type": "stream",
       "stream": "stdout",
       "text": [
        "\n",
        "training with max_depth=25"
       ]
      },
      {
       "output_type": "stream",
       "stream": "stdout",
       "text": [
        "\n",
        "training with max_depth=30"
       ]
      },
      {
       "output_type": "stream",
       "stream": "stdout",
       "text": [
        "\n",
        "training with max_depth=35"
       ]
      },
      {
       "output_type": "stream",
       "stream": "stdout",
       "text": [
        "\n",
        "training with max_depth=40"
       ]
      },
      {
       "output_type": "stream",
       "stream": "stdout",
       "text": [
        "\n",
        "training with max_depth=45"
       ]
      },
      {
       "output_type": "stream",
       "stream": "stdout",
       "text": [
        "\n",
        "training with max_depth=50"
       ]
      },
      {
       "output_type": "stream",
       "stream": "stdout",
       "text": [
        "\n",
        "training with max_depth=55"
       ]
      },
      {
       "output_type": "stream",
       "stream": "stdout",
       "text": [
        "\n",
        "training with max_depth=60"
       ]
      },
      {
       "output_type": "stream",
       "stream": "stdout",
       "text": [
        "\n",
        "training with max_depth=65"
       ]
      },
      {
       "output_type": "stream",
       "stream": "stdout",
       "text": [
        "\n",
        "training with max_depth=70"
       ]
      },
      {
       "output_type": "stream",
       "stream": "stdout",
       "text": [
        "\n",
        "training with max_depth=75"
       ]
      },
      {
       "output_type": "stream",
       "stream": "stdout",
       "text": [
        "\n",
        "training with max_depth=80"
       ]
      },
      {
       "output_type": "stream",
       "stream": "stdout",
       "text": [
        "\n",
        "training with max_depth=85"
       ]
      },
      {
       "output_type": "stream",
       "stream": "stdout",
       "text": [
        "\n",
        "training with max_depth=90"
       ]
      },
      {
       "output_type": "stream",
       "stream": "stdout",
       "text": [
        "\n",
        "training with max_depth=95"
       ]
      },
      {
       "output_type": "stream",
       "stream": "stdout",
       "text": [
        "\n"
       ]
      },
      {
       "metadata": {},
       "output_type": "display_data",
       "png": "[encoded data removed]",
       "text": [
        "<matplotlib.figure.Figure at 0x112138690>"
       ]
      },
      {
       "output_type": "stream",
       "stream": "stdout",
       "text": [
        "80\n",
        "0.857554809007\n"
       ]
      }
     ],
     "prompt_number": 21
    },
    {
     "cell_type": "heading",
     "level": 4,
     "metadata": {},
     "source": [
      "Training"
     ]
    },
    {
     "cell_type": "code",
     "collapsed": false,
     "input": [
      "clf = cu.train_clf(X_train, Y_train, best_depth)"
     ],
     "language": "python",
     "metadata": {},
     "outputs": [],
     "prompt_number": 22
    },
    {
     "cell_type": "heading",
     "level": 4,
     "metadata": {},
     "source": [
      "Predict and Score"
     ]
    },
    {
     "cell_type": "code",
     "collapsed": false,
     "input": [
      "reload(cu)\n",
      "P_train, P_valid, P_test = cu.clf_predictions(X_train, X_valid, X_test, clf)\n",
      "clf_scores = cu.clf_metrics(P_train, P_test, Y_train, Y_test)\n",
      "print clf_scores"
     ],
     "language": "python",
     "metadata": {},
     "outputs": [
      {
       "output_type": "stream",
       "stream": "stdout",
       "text": [
        "{'test': {'auc score': 0.74027232788668318, 'confusion matrix': array([[15436,   487],\n",
        "       [ 2852,   860]]), 'accuracy': 0.82994652406417113}, 'train': {'auc score': 1.0, 'confusion matrix': array([[53983,     0],\n",
        "       [    0, 10175]]), 'accuracy': 1.0}}\n"
       ]
      }
     ],
     "prompt_number": 23
    },
    {
     "cell_type": "heading",
     "level": 4,
     "metadata": {},
     "source": [
      "Get threshold that maximizes F1 score"
     ]
    },
    {
     "cell_type": "code",
     "collapsed": false,
     "input": [
      "best_thresh, max_fscore = eu.get_best_threshold(Y_valid, P_valid)\n",
      "print best_thresh"
     ],
     "language": "python",
     "metadata": {},
     "outputs": [
      {
       "metadata": {},
       "output_type": "display_data",
       "png": "[encoded data removed]",
       "text": [
        "<matplotlib.figure.Figure at 0x112a21c10>"
       ]
      },
      {
       "output_type": "stream",
       "stream": "stdout",
       "text": [
        "0.19\n"
       ]
      }
     ],
     "prompt_number": 24
    },
    {
     "cell_type": "heading",
     "level": 3,
     "metadata": {},
     "source": [
      "Generate Melody Output"
     ]
    },
    {
     "cell_type": "heading",
     "level": 4,
     "metadata": {},
     "source": [
      "Add predicted melody probabilites to test set contour data"
     ]
    },
    {
     "cell_type": "code",
     "collapsed": false,
     "input": [
      "for key in test_contour_dict.keys():\n",
      "    test_contour_dict[key] = eu.contour_probs(clf, test_contour_dict[key])"
     ],
     "language": "python",
     "metadata": {},
     "outputs": [],
     "prompt_number": 25
    },
    {
     "cell_type": "heading",
     "level": 4,
     "metadata": {},
     "source": [
      "Generate melody output using predictions"
     ]
    },
    {
     "cell_type": "code",
     "collapsed": false,
     "input": [
      "reload(gm)\n",
      "mel_output_dict = {}\n",
      "for key in test_contour_dict.keys():\n",
      "    mel_output_dict[key] = gm.melody_from_clf(test_contour_dict[key], prob_thresh=best_thresh)"
     ],
     "language": "python",
     "metadata": {},
     "outputs": [],
     "prompt_number": 26
    },
    {
     "cell_type": "heading",
     "level": 3,
     "metadata": {},
     "source": [
      "Score Melody Output"
     ]
    },
    {
     "cell_type": "code",
     "collapsed": false,
     "input": [
      "reload(gm)\n",
      "melody_scores = gm.score_melodies(mel_output_dict, test_annot_dict)"
     ],
     "language": "python",
     "metadata": {},
     "outputs": [
      {
       "output_type": "stream",
       "stream": "stdout",
       "text": [
        "Scoring...\n",
        "MusicDelta_Country1\n",
        "Handel_TornamiAVagheggiar"
       ]
      },
      {
       "output_type": "stream",
       "stream": "stdout",
       "text": [
        "\n",
        "Mozart_BesterJungling"
       ]
      },
      {
       "output_type": "stream",
       "stream": "stdout",
       "text": [
        "\n",
        "Schubert_Erstarrung"
       ]
      },
      {
       "output_type": "stream",
       "stream": "stdout",
       "text": [
        "\n",
        "MusicDelta_Britpop"
       ]
      },
      {
       "output_type": "stream",
       "stream": "stdout",
       "text": [
        "\n",
        "SweetLights_YouLetMeDown"
       ]
      },
      {
       "output_type": "stream",
       "stream": "stdout",
       "text": [
        "\n",
        "MusicDelta_Pachelbel"
       ]
      },
      {
       "output_type": "stream",
       "stream": "stdout",
       "text": [
        "\n",
        "ChrisJacoby_PigsFoot"
       ]
      },
      {
       "output_type": "stream",
       "stream": "stdout",
       "text": [
        "\n",
        "Mozart_DiesBildnis"
       ]
      },
      {
       "output_type": "stream",
       "stream": "stdout",
       "text": [
        "\n",
        "MatthewEntwistle_TheArch"
       ]
      },
      {
       "output_type": "stream",
       "stream": "stdout",
       "text": [
        "\n",
        "HezekiahJones_BorrowedHeart"
       ]
      },
      {
       "output_type": "stream",
       "stream": "stdout",
       "text": [
        "\n",
        "MatthewEntwistle_DontYouEver"
       ]
      },
      {
       "output_type": "stream",
       "stream": "stdout",
       "text": [
        "\n",
        "Schumann_Mignon"
       ]
      },
      {
       "output_type": "stream",
       "stream": "stdout",
       "text": [
        "\n",
        "MatthewEntwistle_FairerHopes"
       ]
      },
      {
       "output_type": "stream",
       "stream": "stdout",
       "text": [
        "\n",
        "Wolf_DieBekherte"
       ]
      },
      {
       "output_type": "stream",
       "stream": "stdout",
       "text": [
        "\n",
        "Debussy_LenfantProdigue"
       ]
      },
      {
       "output_type": "stream",
       "stream": "stdout",
       "text": [
        "\n",
        "MatthewEntwistle_Lontano"
       ]
      },
      {
       "output_type": "stream",
       "stream": "stdout",
       "text": [
        "\n",
        "ChrisJacoby_BoothShotLincoln"
       ]
      },
      {
       "output_type": "stream",
       "stream": "stdout",
       "text": [
        "\n",
        "MatthewEntwistle_ImpressionsOfSaturn"
       ]
      },
      {
       "output_type": "stream",
       "stream": "stdout",
       "text": [
        "\n",
        "MusicDelta_Gospel"
       ]
      },
      {
       "output_type": "stream",
       "stream": "stdout",
       "text": [
        "\n",
        "MusicDelta_ModalJazz"
       ]
      },
      {
       "output_type": "stream",
       "stream": "stdout",
       "text": [
        "\n",
        "MatthewEntwistle_TheFlaxenField"
       ]
      },
      {
       "output_type": "stream",
       "stream": "stdout",
       "text": [
        "\n",
        "MusicDelta_CoolJazz"
       ]
      },
      {
       "output_type": "stream",
       "stream": "stdout",
       "text": [
        "\n"
       ]
      }
     ],
     "prompt_number": 27
    },
    {
     "cell_type": "code",
     "collapsed": false,
     "input": [
      "#overall_scores = pd.DataFrame(\n",
      "VR = [melody_scores[key]['Voicing Recall'] for key in melody_scores.keys()]\n",
      "VFA = [melody_scores[key]['Voicing False Alarm'] for key in melody_scores.keys()]\n",
      "RPA = [melody_scores[key]['Raw Pitch Accuracy'] for key in melody_scores.keys()]\n",
      "RCA = [melody_scores[key]['Raw Chroma Accuracy'] for key in melody_scores.keys()]\n",
      "OA = [melody_scores[key]['Overall Accuracy'] for key in melody_scores.keys()]"
     ],
     "language": "python",
     "metadata": {},
     "outputs": [],
     "prompt_number": 28
    },
    {
     "cell_type": "code",
     "collapsed": false,
     "input": [
      "print 'VR'\n",
      "print np.mean(VR), np.std(VR)\n",
      "print 'VFA'\n",
      "print np.mean(VFA), np.std(VFA)\n",
      "print 'RPA'\n",
      "print np.mean(RPA), np.std(RPA)\n",
      "print 'RCA'\n",
      "print np.mean(RCA), np.std(RCA)\n",
      "print 'OA'\n",
      "print np.mean(OA), np.std(OA)"
     ],
     "language": "python",
     "metadata": {},
     "outputs": [
      {
       "output_type": "stream",
       "stream": "stdout",
       "text": [
        "VR\n",
        "0.655298730558 0.212038798875\n",
        "VFA\n",
        "0.302900977996 0.123300406324\n",
        "RPA\n",
        "0.435721164611 0.23775974261\n",
        "RCA\n",
        "0.529036089326 0.22616640444\n",
        "OA\n",
        "0.549119487677 0.165054534159\n"
       ]
      }
     ],
     "prompt_number": 29
    },
    {
     "cell_type": "code",
     "collapsed": false,
     "input": [],
     "language": "python",
     "metadata": {},
     "outputs": []
    }
   ],
   "metadata": {}
  }
 ]
}