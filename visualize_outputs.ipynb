{
 "metadata": {
  "name": ""
 },
 "nbformat": 3,
 "nbformat_minor": 0,
 "worksheets": [
  {
   "cells": [
    {
     "cell_type": "code",
     "collapsed": false,
     "input": [
      "import pandas as pd\n",
      "import matplotlib.pyplot as plt\n",
      "import scipy.signal as sig"
     ],
     "language": "python",
     "metadata": {},
     "outputs": [],
     "prompt_number": 15
    },
    {
     "cell_type": "code",
     "collapsed": false,
     "input": [
      "fpath = \"/Users/rachelbittner/Desktop/CC_exper_mel2/splitnum_1/olap_0.0/melody_output/MusicDelta_Gospel_pred.csv\"\n",
      "annot_fpath = \"/Datasets/MedleyDB/Annotations/Melody_Annotations/MELODY2/MusicDelta_Gospel_MELODY2.csv\""
     ],
     "language": "python",
     "metadata": {},
     "outputs": [],
     "prompt_number": 9
    },
    {
     "cell_type": "code",
     "collapsed": false,
     "input": [
      "dat = pd.read_csv(fpath, header=None, index_col=None)\n",
      "dat.columns = ['time', 'f0']\n",
      "annot = pd.read_csv(annot_fpath, header=None, index_col=None)\n",
      "annot.columns = ['time', 'f0']"
     ],
     "language": "python",
     "metadata": {},
     "outputs": [],
     "prompt_number": 10
    },
    {
     "cell_type": "code",
     "collapsed": false,
     "input": [
      "plt.plot(dat['time'], dat['f0'], '.r', alpha=0.5)\n",
      "plt.plot(annot['time'], annot['f0'], '.g', alpha=0.5)\n",
      "plt.show()"
     ],
     "language": "python",
     "metadata": {},
     "outputs": [],
     "prompt_number": 21
    },
    {
     "cell_type": "code",
     "collapsed": false,
     "input": [
      "smoothed = sig.medfilt(dat['f0'].values, 9)"
     ],
     "language": "python",
     "metadata": {},
     "outputs": [],
     "prompt_number": 23
    },
    {
     "cell_type": "code",
     "collapsed": false,
     "input": [
      "plt.plot(annot['time'], annot['f0'], '.g', alpha=0.5)\n",
      "plt.plot(dat['time'], smoothed, '.b', alpha=0.5)\n",
      "plt.plot(dat['time'], dat['f0'], ',r', alpha=0.5)\n",
      "plt.show()"
     ],
     "language": "python",
     "metadata": {},
     "outputs": [],
     "prompt_number": 25
    },
    {
     "cell_type": "code",
     "collapsed": false,
     "input": [],
     "language": "python",
     "metadata": {},
     "outputs": []
    }
   ],
   "metadata": {}
  }
 ]
}